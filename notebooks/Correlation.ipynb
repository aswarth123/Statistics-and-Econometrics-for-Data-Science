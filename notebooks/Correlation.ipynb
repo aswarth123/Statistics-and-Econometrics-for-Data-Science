{
 "cells": [
  {
   "cell_type": "markdown",
   "metadata": {},
   "source": [
    "# Correlation\n",
    "Correlation is a statistic that measures the degree to which two variables move in relation to each other <br>\n",
    "Correlation shows the strength of a relationship between two variables and is expressed numerically by the correlation coefficient. <br>\n",
    "##### *The Formula of Correlation*\n",
    "$$\n",
    "r = \\frac{\\sum(X-X_{Mean})(Y-Y_{Mean})}{\\sqrt\\sum(X-X_{Mean})^2\\sqrt\\sum(Y-Y_{Mean})^2)}\\\\\n",
    "$$ <br>\n",
    "<p><b>Where</b></p>\n",
    "<b>r</b> = The correlation coefficient<br>\n",
    "<b>$X_{Mean}$</b> = The average of observations of variable X<br>\n",
    "<b>$Y_{Mean}$</b> = The average of observations of variable Y<br>\n",
    "<p>The correlation coefficient's values range between -1.0 and 1.0.<br>A correlation could be positive, meaning both variables move in the same direction, or negative, meaning that when one variable’s value increases, the other variables’ values decrease. Correlation can also be neutral or zero, meaning that the variables are unrelated.</p>\n",
    "<ul><li><b>Positive Correlation</b>: Both variables change in the same direction.\n",
    "</li>\n",
    "<li><b>Neutral Correlation</b>: No relationship in the change of the variables.\n",
    "</li>\n",
    "<li><b>Negative Correlation</b>: Variables change in opposite directions.\n",
    "</li><ol>\n",
    "\n",
    "\n"
   ]
  },
  {
   "cell_type": "markdown",
   "metadata": {},
   "source": [
    "### Test DataSet\n",
    "\n",
    "<p>Before we get into calculating corelation between stocks, let’s define a dataset we can use to test the methods.</p>"
   ]
  },
  {
   "cell_type": "code",
   "execution_count": 1,
   "metadata": {},
   "outputs": [],
   "source": [
    "#Importing nessesary packages\n",
    "import pandas as pd\n",
    "import numpy as np\n",
    "from matplotlib import pyplot\n",
    "\n",
    "#To execute plot in this notebook\n",
    "%matplotlib inline"
   ]
  },
  {
   "cell_type": "markdown",
   "metadata": {},
   "source": [
    "<p>The above code is written to import <b>pandas</b>, <b>numpy</b> and <b>matplotlib</b> packages respectively.<br>\n",
    "<b>Pandas</b> is a Python package providing fast, flexible, and expressive data structures designed to make working with “relational” or “labeled” data both easy and intuitive.<br>\n",
    "<b>NumPy</b> is a general-purpose array-processing python package. It provides a high-performance multidimensional array object, and tools for working with these arrays.<br>\n",
    "<b>Matplotlib</b> is a plotting library for the Python. Whereas \"%matplotlib inline\" renders the figure in a notebook. This performs the necessary behind-the-scenes setup for IPython to work correctly hand in hand with matplotlib.</p>"
   ]
  },
  {
   "cell_type": "markdown",
   "metadata": {},
   "source": [
    "<p>Let us generate 1,000 samples of two two variables with a strong positive correlation.<br>The $1^{st}$ variable will be random numbers drawn from a Gaussian distribution with a mean of 100 and a standard deviation of 20.<br>The $2^{nd}$ variable will be values from the first variable with Gaussian noise added with a mean of a 50 and a standard deviation of 10.</p>\n",
    "\n"
   ]
  },
  {
   "cell_type": "markdown",
   "metadata": {},
   "source": [
    "<p>We will use the <b><i>randn()</i></b> function to generate random Gaussian values with a mean of 0 and a standard deviation of 1, then multiply the results by our own standard deviation and add the mean to shift the values into the preferred range.<br>\n",
    "Documentation:\n",
    "<a href=\"https://numpy.org/doc/stable/reference/random/generated/numpy.random.randn.html\" title=\"numpy_randn\">randn()</a></p>"
   ]
  },
  {
   "cell_type": "code",
   "execution_count": 2,
   "metadata": {
    "scrolled": true
   },
   "outputs": [
    {
     "name": "stdout",
     "output_type": "stream",
     "text": [
      "dataSet_1: mean=11.444 stdv=14.705\n",
      "dataSet_2: mean=7.722 stdv=3.473\n"
     ]
    }
   ],
   "source": [
    "# prepare data\n",
    "dataSet_1 = [1,2,3,4,5,20,50,11,7]\n",
    "dataSet_2 = [10,9,2.5,6,4,8,15,6,9]\n",
    "# summarize\n",
    "print('dataSet_1: mean=%.3f stdv=%.3f' % (np.mean(dataSet_1), np.std(dataSet_1)))\n",
    "print('dataSet_2: mean=%.3f stdv=%.3f' % (np.mean(dataSet_2), np.std(dataSet_2)))"
   ]
  },
  {
   "cell_type": "markdown",
   "metadata": {},
   "source": [
    "<p>In above code two lists namely dataSet_1 and dataSet_2 has been initialised and also the mean and standard deviation upto 3 decimal places (%.3f) has been printed out using <b>np.mean()</b> and <b>np.std()</b> functions for each list.</p>"
   ]
  },
  {
   "cell_type": "code",
   "execution_count": 3,
   "metadata": {
    "scrolled": true
   },
   "outputs": [
    {
     "data": {
      "image/png": "[encoded data removed]",
      "text/plain": [
       "<Figure size 432x288 with 1 Axes>"
      ]
     },
     "metadata": {
      "needs_background": "light"
     },
     "output_type": "display_data"
    }
   ],
   "source": [
    "# plot\n",
    "pyplot.scatter(dataSet_1, dataSet_2)\n",
    "pyplot.show()"
   ]
  },
  {
   "cell_type": "markdown",
   "metadata": {},
   "source": [
    "<p> <b>pyplot.scatter(dataSet_1, dataSet_2)</b>  is written to observe the relationship between variables dataSet_1 and dataSet_2 using dots.<br>\n",
    "whereas <b>pyplot.show()</b> displays the figure.</p>"
   ]
  },
  {
   "cell_type": "markdown",
   "metadata": {},
   "source": [
    "<p>Before we look at calculating some correlation scores, we must first look at an important statistical building block, called covariance.</p>\n",
    "\n"
   ]
  },
  {
   "cell_type": "markdown",
   "metadata": {},
   "source": [
    "# Covariance\n",
    "<p>Covariance is a measure of how much two random variables vary together. It’s similar to variance, but where variance tells you how a single variable varies, co variance tells you how two variables vary together.</p><br>\n",
    "<b><i>The Formula of Covariance</i></b>\n",
    "$$\n",
    "Cov_{X,Y} = \\frac{\\sum(X_{i}-X_{Mean})(Y_{i}-Y_{Mean})}{N-1}\\\\\n",
    "$$ <br>\n",
    "<p><b>Where</b></p>\n",
    "<b>$X_{i}$</b> = Data value of X<br>\n",
    "<b>$Y_{i}$</b> = Data value of Y<br>\n",
    "<b>$X_{Mean}$</b> = The average of observations of variable X<br>\n",
    "<b>$Y_{Mean}$</b> = The average of observations of variable Y<br>\n",
    "<b>N</b> = The number of data points\n"
   ]
  },
  {
   "cell_type": "markdown",
   "metadata": {},
   "source": [
    "<p>The <b><i>cov()</i></b> NumPy function can be used to calculate a covariance matrix between two or more variables.<br>\n",
    "Documentation:\n",
    "<a href=\"https://numpy.org/doc/stable/reference/generated/numpy.cov.html\" title=\"numpy_cov\">cov()</a></p>"
   ]
  },
  {
   "cell_type": "code",
   "execution_count": 4,
   "metadata": {},
   "outputs": [
    {
     "name": "stdout",
     "output_type": "stream",
     "text": [
      "[[243.27777778  40.38888889]\n",
      " [ 40.38888889  13.56944444]]\n"
     ]
    }
   ],
   "source": [
    "# calculate covariance matrix\n",
    "covariance = np.cov(dataSet_1, dataSet_2)\n",
    "print(covariance)"
   ]
  },
  {
   "cell_type": "markdown",
   "metadata": {},
   "source": [
    "<p>In above code <b>cov()</b> NumPy function is used over variables dataSet_1 and dataSet_2 (covariance = np.cov(dataSet_1, dataSet_2)) and the result is stored in covariance variable. The cov() function gives matrix as an output.</p>"
   ]
  },
  {
   "cell_type": "markdown",
   "metadata": {},
   "source": [
    "<p>The covariance between the two variables is 389.75. We can see that it is <b>positive</b>, suggesting the variables change in the <b>same direction</b> as we expect.</p><br>\n",
    "\n",
    "*Limitation:*\n",
    "<p>A problem with covariance as a statistical tool alone is that it is challenging to interpret. This leads us to the Pearson’s correlation coefficient next.</p>"
   ]
  },
  {
   "cell_type": "markdown",
   "metadata": {},
   "source": [
    "# Pearson’s Correlation\n",
    "\n",
    "Pearson correlation method will give you two values:<br>\n",
    "<ul><li>Correlation coefficient</li>\n",
    "    <li>P-Value</li><ol>"
   ]
  },
  {
   "cell_type": "markdown",
   "metadata": {},
   "source": [
    "### 1.Correlation coefficient\n",
    "<p>The Pearson correlation coefficient (named for Karl Pearson) can be used to summarize the strength of the linear relationship between two data samples.<br>\n",
    "The Pearson’s correlation coefficient is calculated as the covariance of the two variables divided by the product of the standard deviation of each data sample. It is the normalization of the covariance between the two variables to give an interpretable score.</p><br>"
   ]
  },
  {
   "cell_type": "markdown",
   "metadata": {},
   "source": [
    "##### *The Formula of Pearson's Correlation coefficient*\n",
    "$$\n",
    "r = \\frac{\\sum(X_{i}-X_{Mean})(Y_{i}-Y_{Mean})}{\\sqrt\\sum(X_{i}-X_{Mean})^2\\sqrt\\sum(Y_{i}-Y_{Mean})^2)}\\\\\n",
    "$$ <br>\n",
    "<p><b>Where</b></p>\n",
    "<b>r</b> = The correlation coefficient<br>\n",
    "<b>$X_{i}$</b> = Data value of X<br>\n",
    "<b>$Y_{i}$</b> = Data value of Y<br>\n",
    "<b>$X_{Mean}$</b> = The average of observations of variable X<br>\n",
    "<b>$Y_{Mean}$</b> = The average of observations of variable Y<br>"
   ]
  },
  {
   "cell_type": "markdown",
   "metadata": {},
   "source": [
    "<b>Correlation coefficient:</b>\n",
    "<ol>\n",
    "    <li>Close to +1: Large Positive relationship</li>\n",
    "    <li>Close to -1: Large Negative relationship</li>\n",
    "    <li>Close to 0: No relationship</li>\n",
    "    <ul>"
   ]
  },
  {
   "cell_type": "markdown",
   "metadata": {},
   "source": [
    "### 2.P-Value:\n",
    "<p>P-value for a statistical model is the probability that when the null hypothesis is true, the statistical summary is equal to or greater than the actual observed results. This is also termed ‘Probability value’ or ‘Asymptotic significance’.</p>\n",
    "<p>The null hypothesis states that two measured phenomena experience no relationship to each other. We denote this as H or H0. One such null hypothesis can be that the number of hours spent in the office affects the amount of salary paid. For a significance level of 5%, if the p-value falls lower than 5%, the null hypothesis is invalidated. Then it is discovered that the number of hours you spend in your office will not affect the amount of salary you will take home. Note that p-values can range from 0% to 100% and we write them in decimals. A p-value for 5% will be 0.05.</p>\n",
    "<p>A smaller p-value bears more significance as it can tell you that the hypothesis may not explain the observation fairly. If one or more of these probabilities turn out to be less than or equal to α, the level of significance, we reject the null hypothesis. For a true null hypothesis, p can take on any value between 0 and 1 with equal likeliness. For a true alternative hypothesis, p-values likely fall closer to 0.</p>"
   ]
  },
  {
   "cell_type": "markdown",
   "metadata": {},
   "source": [
    "<b>P-value</b>\n",
    "<ol>\n",
    "    <li> P-value < 0.001:  Strong certainty in the result </li>\n",
    "    <li>P-value < 0.05:  Moderate certainty in the result</li>\n",
    "    <li>P-value < 0.1: Weak certainty in the result</li>\n",
    "    <li>P-value > 0.1: No certainty in the result</li>"
   ]
  },
  {
   "attachments": {
    "P.JPG": {
     "image/jpeg": "[encoded data removed]"
    }
   },
   "cell_type": "markdown",
   "metadata": {},
   "source": [
    "![P.JPG](attachment:P.JPG)"
   ]
  },
  {
   "cell_type": "markdown",
   "metadata": {},
   "source": [
    "<p>The <i><b>pearsonr()</b></i> SciPy function can be used to calculate the Pearson’s correlation coefficient between two data samples with the same length.<br>\n",
    "    Documentation:\n",
    "    <a href=\"https://docs.scipy.org/doc/scipy-0.14.0/reference/generated/scipy.stats.pearsonr.html\" title=\"Scipy_pearsonr()\">pearsonr()</a></p>\n",
    "\n"
   ]
  },
  {
   "cell_type": "markdown",
   "metadata": {},
   "source": [
    "<p>Let us calculate the correlation between the two variables in our test dataset.</p>"
   ]
  },
  {
   "cell_type": "code",
   "execution_count": 5,
   "metadata": {},
   "outputs": [],
   "source": [
    "#Importing Scipy library\n",
    "import scipy\n",
    "from scipy.stats import pearsonr"
   ]
  },
  {
   "cell_type": "markdown",
   "metadata": {},
   "source": [
    "<p>The above code imports Scipy library and pearsonr() function to calculate the Pearson's correlation coefficient between two variables of same length. Using this function without importing the Scipy library would have returned np.nan .</p>"
   ]
  },
  {
   "cell_type": "code",
   "execution_count": 6,
   "metadata": {},
   "outputs": [
    {
     "name": "stdout",
     "output_type": "stream",
     "text": [
      "Pearsons correlation: 0.703\n",
      "P-Value: 0.035\n"
     ]
    }
   ],
   "source": [
    "# calculate Pearson's correlation coefficient and p-value\n",
    "corr, P_value = pearsonr(dataSet_1, dataSet_2)\n",
    "print('Pearsons correlation: %.3f' % corr)\n",
    "print('P-Value: %.3f' % P_value)"
   ]
  },
  {
   "cell_type": "markdown",
   "metadata": {},
   "source": [
    "<p>In above code, the <b>pearsonr()</b> function is used over variables dataSet_1 and dataSet_2 and the results are stored in corr and P_value.<br><b>print('Pearsons correlation: %.3f' % corr)</b> prints the Pearson correlation upto 3 decimal places. whereas <b>print('P-Value: %.3f' % P_value)</b> prints P-Value between the variables upto 3 deimal places.</p>"
   ]
  },
  {
   "cell_type": "markdown",
   "metadata": {},
   "source": [
    "#### Inference:\n",
    "We can clearly interpret that the two variables are <b>+ve'ly</b> correlated with correlation coefficient <b>0.7</b> & with p-value <b>0.035</b> which shows <b>Moderate certainity</b> in the result<br>\n",
    "This suggests a high level of correlation, <br><i>E.g:</i> A value above 0.5 and close to 1.0.\n",
    "\n"
   ]
  },
  {
   "cell_type": "markdown",
   "metadata": {},
   "source": [
    "## Standard Error Calculation\n",
    "### Procedure:\n",
    "<b>Step 1:</b> Calculate the mean (Total of all samples divided by the number of samples).<br>\n",
    "<b>Step 2:</b> Calculate each measurement's deviation from the mean (Mean minus the individual\n",
    "measurement).<br>\n",
    "<b>Step 3:</b> Square each deviation from mean. Squared negatives become positive.<br>\n",
    "<b>Step 4:</b> Sum the squared deviations (Add up the numbers from step 3).<br>\n",
    "<b>Step 5:</b> Divide that sum from step 4 by one less than the sample size (n-1, that is, the number of\n",
    "measurements minus one)<br>\n",
    "<b>Step 6:</b> Take the square root of the number in step 5. That gives you the \"standard deviation (S.D.).\"<br>\n",
    "<b>Step 7:</b> Divide the standard deviation by the square root of the sample size (n). That gives you the\n",
    "“standard error”.<br>\n",
    "<b>Step 8:</b> Subtract the standard error from the mean and record that number. Then add the standard\n",
    "error to the mean and record that number. You have plotted mean± 1 standard error (S. E.),\n",
    "the distance from 1 standard error below the mean to 1 standard error above the mean<br>\n"
   ]
  },
  {
   "cell_type": "markdown",
   "metadata": {},
   "source": [
    "### Example:\n",
    "Heights of 5 people are given below, Calculate the standard Error<br>\n",
    "<table>\n",
    "    <thead>\n",
    "        <tr>\n",
    "            <th>Name</th>\n",
    "            <th>Height to nearest 0.5 c.m</th>\n",
    "            <th><b>Step:2 </b>Deviations $ (m-i) $</th>\n",
    "            <th><b>Step:3 </b>Squared Deviations $ (m-i)^2 $</th>\n",
    "        </tr>\n",
    "    </thead>\n",
    "    <tbody>\n",
    "        <tr>\n",
    "            <td>Shashank</td>\n",
    "            <td>150.5</td>\n",
    "            <td>11.9</td>\n",
    "            <td>141.61</td>\n",
    "        </tr>\n",
    "        <tr>\n",
    "            <td>Suman</td>\n",
    "            <td>170.7</td>\n",
    "            <td>-7.6</td>\n",
    "            <td>57.76</td>\n",
    "        </tr>\n",
    "        <tr>\n",
    "            <td>Tarun</td>\n",
    "            <td>160.0</td>\n",
    "            <td>2.4</td>\n",
    "            <td>5.76</td>\n",
    "        </tr>\n",
    "        <tr>\n",
    "            <td>Kamal</td>\n",
    "            <td>161.0</td>\n",
    "            <td>1.4</td>\n",
    "            <td>1.96</td>\n",
    "        </tr>\n",
    "        <tr>\n",
    "            <td>Pavani</td>\n",
    "            <td>170.5</td>\n",
    "            <td>-8.1</td>\n",
    "            <td>65.61</td>\n",
    "        </tr>\n",
    "        <tr>\n",
    "            <td><b>N = 5</b></td>\n",
    "            <td><b>Step:1 Mean m= </b>162.4 c.m</td>\n",
    "            <td> </td>\n",
    "            <td><b>Step:4 </b>Sum of squared deviations $ \\Sigma(m-i)^2 $ = 272.70</td>\n",
    "        </tr>\n",
    "    </tbody>\n",
    "</table>\n",
    "<b>Step:5</b> Divide by number of measurements-1. $ \\frac{\\Sigma(m-i)^2}{N-1} $  = 272.70 / 4 = 68.175<br>\n",
    "<b>Step:6</b> Standard deviation = square root of $ \\sqrt{\\frac{\\Sigma(m-i)^2}{N-1}} $ = 68.175 = 8.257<br>\n",
    "<b>Step:7</b> Standard error = $ \\frac{S.D}{\\sqrt{N}} $ = 8.257/2.236 = 3.69<br>\n",
    "<b>Step:8</b> m ± 1SE = 162 ± 3.7 or 159cm to 166cm for the men (162.4 - 3.7 to 162.4 + 3.7).<br>\n"
   ]
  },
  {
   "cell_type": "markdown",
   "metadata": {},
   "source": [
    "# Standard Error for Pearson's Correlation coefficient\n",
    "\n",
    "As always, we can generate estimates with confidence intervals and test hypotheses about a statistic if we know its expected distribution. If the data are normally distributed, and if the null hypothesis is that there is zero correlation, Pearson’s correlation coefficient follows a t-distribution, where the standard error of Pearson’s correlation coefficient is:\n",
    "\n",
    "$$ S_r = \\frac{1-r^2}{\\sqrt{n-2}} $$\n",
    "\n",
    "The t-test for Pearson’s r has the standard setup, that is, the statistic minus the null hypothesis for the parameter, divided by the standard error of the statistic:\n",
    "\n",
    "$$ t = \\frac{r-\\rho}{S_r} $$\n",
    "\n",
    "Since the null hypothesis is that the correlation is zero, the ρ term drops out, and the t-statistic is simply Pearson’s correlation coefficient divided by its standard error. The t-test of Pearson’s correlation coefficient has n-2 degrees of freedom, because population variance is estimated for two variables, not just one.\n",
    "\n",
    "All t-tests assume random sampling and that the statistic is normally distributed. In this case, Pearson’s r will be normally distributed when the null hypothesis is that ρ equals zero, and if both variables are normally distributed. Finally, the test assumes that the correlation coefficient is calculated on interval or ratio data. If you have ordinal data, you must use a non-parametric test.\n",
    "\n",
    "Reference:<br>\n",
    "<li><a href=\"http://strata.uga.edu/8370/lecturenotes/correlation.html\" title=\"Data Analysis in the Geosciences\">Standard Error for Pearson's Correlation coefficient</a></li><br>"
   ]
  },
  {
   "cell_type": "markdown",
   "metadata": {},
   "source": [
    "# Correlation coeficient to predict stock movements\n",
    "\n",
    "The correlation coefficient has limited ability in predicting returns in the stock market for individual stocks. Still, the statistical measurement may have value in predicting the extent to which two stocks move in relation to each other because the correlation coefficient is a measure of the relationship between how two stocks move in tandem with each other, as well as the strength of that relationship."
   ]
  },
  {
   "cell_type": "markdown",
   "metadata": {},
   "source": [
    "## Testing on Data of NIFTY50 F&O Data\n",
    "\n",
    "The Raw data consists of F&O combined, First we need to seperate them"
   ]
  },
  {
   "cell_type": "code",
   "execution_count": 20,
   "metadata": {},
   "outputs": [],
   "source": [
    "#Importing necessary libraries\n",
    "import pandas as pd\n",
    "import re\n",
    "import datetime\n",
    "from dateutil.relativedelta import relativedelta"
   ]
  },
  {
   "cell_type": "markdown",
   "metadata": {},
   "source": [
    "<p>The above code is written to import necessary libraries.<br>import re statement provides full support for Pearl-like regular expressions in Python. A regular expression is a special sequence of characters that helps to match or find other strings or sets of strings, using a specialized syntax held in a pattern.<br>In next line of code, we have imported datetime module using import datetime statement.<br>O the next line relativedelta type is imported using import relativedelta statement. The relativedelta type is designed to be applied to an existing datetime and can replace specific components of that datetime, or represents an interval of time. </p>"
   ]
  },
  {
   "cell_type": "markdown",
   "metadata": {},
   "source": [
    "### Reading CSV Data\n",
    "\n",
    "we will use <b><i>pd.read_csv()</i></b> to read CSV file<br>\n",
    "Documentation:<br>\n",
    "<a href=\"https://pandas.pydata.org/pandas-docs/stable/reference/api/pandas.read_csv.html\" title=\"pd.read_csv()\">pd.read_csv()</a>\n",
    "\n"
   ]
  },
  {
   "cell_type": "code",
   "execution_count": 8,
   "metadata": {},
   "outputs": [
    {
     "data": {
      "text/html": [
       "<div>\n",
       "<style scoped>\n",
       "    .dataframe tbody tr th:only-of-type {\n",
       "        vertical-align: middle;\n",
       "    }\n",
       "\n",
       "    .dataframe tbody tr th {\n",
       "        vertical-align: top;\n",
       "    }\n",
       "\n",
       "    .dataframe thead th {\n",
       "        text-align: right;\n",
       "    }\n",
       "</style>\n",
       "<table border=\"1\" class=\"dataframe\">\n",
       "  <thead>\n",
       "    <tr style=\"text-align: right;\">\n",
       "      <th></th>\n",
       "      <th>Ticker</th>\n",
       "      <th>Date</th>\n",
       "      <th>Time</th>\n",
       "      <th>Open</th>\n",
       "      <th>High</th>\n",
       "      <th>Low</th>\n",
       "      <th>Close</th>\n",
       "      <th>Volume</th>\n",
       "      <th>Open Interest</th>\n",
       "    </tr>\n",
       "  </thead>\n",
       "  <tbody>\n",
       "    <tr>\n",
       "      <th>126131</th>\n",
       "      <td>HDFCBANK29AUG192100PE.NFO</td>\n",
       "      <td>02/08/2019</td>\n",
       "      <td>11:10:59</td>\n",
       "      <td>16.2</td>\n",
       "      <td>16.55</td>\n",
       "      <td>16.2</td>\n",
       "      <td>16.55</td>\n",
       "      <td>1500</td>\n",
       "      <td>69000</td>\n",
       "    </tr>\n",
       "  </tbody>\n",
       "</table>\n",
       "</div>"
      ],
      "text/plain": [
       "                           Ticker        Date      Time  Open   High   Low  \\\n",
       "126131  HDFCBANK29AUG192100PE.NFO  02/08/2019  11:10:59  16.2  16.55  16.2   \n",
       "\n",
       "        Close  Volume  Open Interest  \n",
       "126131  16.55    1500          69000  "
      ]
     },
     "execution_count": 8,
     "metadata": {},
     "output_type": "execute_result"
    }
   ],
   "source": [
    "#Reading Data\n",
    "rawdata = pd.read_csv('GFDLNFO_CONTRACT_02082019.csv')\n",
    "raw_data=pd.DataFrame(data=rawdata)\n",
    "raw_data.sample()"
   ]
  },
  {
   "cell_type": "markdown",
   "metadata": {},
   "source": [
    "<p>The first line of code is written to read CSV file using <b>pd.read_csv()</b> function and to store that in rawdata variable.<br>Dataframe function is used to align data in a tabular fashion in rows and columns. And which is then stored in raw_data variable.<br>Then the sample function is used using <b>raw_data.sample()</b> statement to print the output as shown above.</p>"
   ]
  },
  {
   "cell_type": "markdown",
   "metadata": {},
   "source": [
    "### Seggregate Raw data into F&O\n",
    "\n",
    "For seggregating we should iterate through each and every ticker so to do this we used <b><i>lambda</i></b> function,<br> & then we split each and every ticker using <b><i>str.rsplit()</i></b><br>In order to apply split for each and every ticker we used <b><i>apply()</i></b><br>\n",
    "\n",
    "Documentation:<br>\n",
    "1.<a href=\"https://pandas.pydata.org/pandas-docs/stable/reference/api/pandas.Series.str.rsplit.html\" title=\"str.rsplit\">str.rsplit()</a><br>\n",
    "2.<a href=\"https://pandas.pydata.org/pandas-docs/stable/reference/api/pandas.DataFrame.apply.html\" title=\"apply()\">apply(</a><br>\n",
    "\n"
   ]
  },
  {
   "cell_type": "code",
   "execution_count": 9,
   "metadata": {},
   "outputs": [
    {
     "name": "stdout",
     "output_type": "stream",
     "text": [
      "Wall time: 5.69 s\n"
     ]
    }
   ],
   "source": [
    "%%time\n",
    "#Function to segregate raw data\n",
    "def segregate_data(raw_data):\n",
    "    #Making copy of original data\n",
    "    data=raw_data.copy()\n",
    "    data.loc[:,'Ticker']=data.Ticker.str.rsplit('.',n=1,expand=True)[0]\n",
    "    data.loc[:,'Contract']=data.Ticker.apply(lambda x:'Future' if x[-3:]=='FUT' else('Option' if (x[-1:]=='E') else None ))\n",
    "    data.loc[:,'Type']=data.Ticker.apply(lambda x:x[-3:] if x[-3:]=='FUT' else x[-2:])\n",
    "    data.loc[:,'Ticker']=data.Ticker.apply(lambda x:x[:-3] if x[-3:]=='FUT' else x[:-2])\n",
    "    data.loc[:,'Date']=data.Date.apply(lambda x: str(datetime.datetime.strptime(x,'%d/%m/%Y').strftime('%Y-%m-%d')))\n",
    "    data.loc[:,'Time']=data.Time.apply(lambda x: '0'+x if x[1]==':' else x)\n",
    "    data.loc[:,'TimeStamp']=pd.to_datetime(data.Date+' '+data.Time)\n",
    "    future_data = data[data.loc[:,'Contract']=='Future'].reset_index().drop('index',axis=1)\n",
    "    option_data = data[data.loc[:,'Contract']=='Option'].reset_index().drop('index',axis=1)\n",
    "    return future_data,option_data\n",
    "futures,options = segregate_data(raw_data)\n",
    "    "
   ]
  },
  {
   "cell_type": "markdown",
   "metadata": {},
   "source": [
    "<p>The <b>%%time</b> statement prints the wall time for the entire cell.<br>A function segregate_data is defined with raw_data as a parameter. <b>data=raw_data.copy()</b> statement is used to copy the original data into data variable. We used <b>lambda</b> function to iterate through each and every ticker. Then, <b>split()</b> function is used to split the tickers.<br>\n",
    "<b>.loc[]</b> function accesses a group of rows and columns by label(s) or a boolean array.<br>The <b>split()</b> function is used to split strings around given separator/delimiter. The function splits the string in the Series/Index from the beginning, at the specified delimiter string. Equivalent to str.split().<br>A <b>lambda</b> function is a small anonymous function. It can take any number of arguments, but can only have one expression.</p>"
   ]
  },
  {
   "cell_type": "code",
   "execution_count": 10,
   "metadata": {},
   "outputs": [
    {
     "data": {
      "text/html": [
       "<div>\n",
       "<style scoped>\n",
       "    .dataframe tbody tr th:only-of-type {\n",
       "        vertical-align: middle;\n",
       "    }\n",
       "\n",
       "    .dataframe tbody tr th {\n",
       "        vertical-align: top;\n",
       "    }\n",
       "\n",
       "    .dataframe thead th {\n",
       "        text-align: right;\n",
       "    }\n",
       "</style>\n",
       "<table border=\"1\" class=\"dataframe\">\n",
       "  <thead>\n",
       "    <tr style=\"text-align: right;\">\n",
       "      <th></th>\n",
       "      <th>Ticker</th>\n",
       "      <th>Date</th>\n",
       "      <th>Time</th>\n",
       "      <th>Open</th>\n",
       "      <th>High</th>\n",
       "      <th>Low</th>\n",
       "      <th>Close</th>\n",
       "      <th>Volume</th>\n",
       "      <th>Open Interest</th>\n",
       "      <th>Contract</th>\n",
       "      <th>Type</th>\n",
       "      <th>TimeStamp</th>\n",
       "    </tr>\n",
       "  </thead>\n",
       "  <tbody>\n",
       "    <tr>\n",
       "      <th>0</th>\n",
       "      <td>ACC19AUG</td>\n",
       "      <td>2019-08-02</td>\n",
       "      <td>09:15:59</td>\n",
       "      <td>1515.00</td>\n",
       "      <td>1515.00</td>\n",
       "      <td>1510.55</td>\n",
       "      <td>1512.75</td>\n",
       "      <td>14000</td>\n",
       "      <td>2293200</td>\n",
       "      <td>Future</td>\n",
       "      <td>FUT</td>\n",
       "      <td>2019-08-02 09:15:59</td>\n",
       "    </tr>\n",
       "    <tr>\n",
       "      <th>1</th>\n",
       "      <td>ACC19AUG</td>\n",
       "      <td>2019-08-02</td>\n",
       "      <td>09:16:59</td>\n",
       "      <td>1512.75</td>\n",
       "      <td>1513.65</td>\n",
       "      <td>1508.50</td>\n",
       "      <td>1511.55</td>\n",
       "      <td>17200</td>\n",
       "      <td>2293200</td>\n",
       "      <td>Future</td>\n",
       "      <td>FUT</td>\n",
       "      <td>2019-08-02 09:16:59</td>\n",
       "    </tr>\n",
       "    <tr>\n",
       "      <th>2</th>\n",
       "      <td>ACC19AUG</td>\n",
       "      <td>2019-08-02</td>\n",
       "      <td>09:17:59</td>\n",
       "      <td>1511.55</td>\n",
       "      <td>1512.80</td>\n",
       "      <td>1509.75</td>\n",
       "      <td>1510.55</td>\n",
       "      <td>12400</td>\n",
       "      <td>2306800</td>\n",
       "      <td>Future</td>\n",
       "      <td>FUT</td>\n",
       "      <td>2019-08-02 09:17:59</td>\n",
       "    </tr>\n",
       "    <tr>\n",
       "      <th>3</th>\n",
       "      <td>ACC19AUG</td>\n",
       "      <td>2019-08-02</td>\n",
       "      <td>09:18:59</td>\n",
       "      <td>1510.00</td>\n",
       "      <td>1510.45</td>\n",
       "      <td>1505.25</td>\n",
       "      <td>1507.50</td>\n",
       "      <td>14400</td>\n",
       "      <td>2306800</td>\n",
       "      <td>Future</td>\n",
       "      <td>FUT</td>\n",
       "      <td>2019-08-02 09:18:59</td>\n",
       "    </tr>\n",
       "    <tr>\n",
       "      <th>4</th>\n",
       "      <td>ACC19AUG</td>\n",
       "      <td>2019-08-02</td>\n",
       "      <td>09:19:59</td>\n",
       "      <td>1507.50</td>\n",
       "      <td>1508.85</td>\n",
       "      <td>1506.65</td>\n",
       "      <td>1506.65</td>\n",
       "      <td>6800</td>\n",
       "      <td>2306800</td>\n",
       "      <td>Future</td>\n",
       "      <td>FUT</td>\n",
       "      <td>2019-08-02 09:19:59</td>\n",
       "    </tr>\n",
       "    <tr>\n",
       "      <th>...</th>\n",
       "      <td>...</td>\n",
       "      <td>...</td>\n",
       "      <td>...</td>\n",
       "      <td>...</td>\n",
       "      <td>...</td>\n",
       "      <td>...</td>\n",
       "      <td>...</td>\n",
       "      <td>...</td>\n",
       "      <td>...</td>\n",
       "      <td>...</td>\n",
       "      <td>...</td>\n",
       "      <td>...</td>\n",
       "    </tr>\n",
       "    <tr>\n",
       "      <th>62307</th>\n",
       "      <td>ZEEL19SEP</td>\n",
       "      <td>2019-08-02</td>\n",
       "      <td>15:11:59</td>\n",
       "      <td>344.55</td>\n",
       "      <td>345.90</td>\n",
       "      <td>344.55</td>\n",
       "      <td>345.90</td>\n",
       "      <td>1300</td>\n",
       "      <td>422500</td>\n",
       "      <td>Future</td>\n",
       "      <td>FUT</td>\n",
       "      <td>2019-08-02 15:11:59</td>\n",
       "    </tr>\n",
       "    <tr>\n",
       "      <th>62308</th>\n",
       "      <td>ZEEL19SEP</td>\n",
       "      <td>2019-08-02</td>\n",
       "      <td>15:18:59</td>\n",
       "      <td>345.90</td>\n",
       "      <td>345.90</td>\n",
       "      <td>344.25</td>\n",
       "      <td>344.25</td>\n",
       "      <td>1300</td>\n",
       "      <td>421200</td>\n",
       "      <td>Future</td>\n",
       "      <td>FUT</td>\n",
       "      <td>2019-08-02 15:18:59</td>\n",
       "    </tr>\n",
       "    <tr>\n",
       "      <th>62309</th>\n",
       "      <td>ZEEL19SEP</td>\n",
       "      <td>2019-08-02</td>\n",
       "      <td>15:20:59</td>\n",
       "      <td>344.25</td>\n",
       "      <td>344.25</td>\n",
       "      <td>344.15</td>\n",
       "      <td>344.15</td>\n",
       "      <td>1300</td>\n",
       "      <td>421200</td>\n",
       "      <td>Future</td>\n",
       "      <td>FUT</td>\n",
       "      <td>2019-08-02 15:20:59</td>\n",
       "    </tr>\n",
       "    <tr>\n",
       "      <th>62310</th>\n",
       "      <td>ZEEL19SEP</td>\n",
       "      <td>2019-08-02</td>\n",
       "      <td>15:21:59</td>\n",
       "      <td>344.15</td>\n",
       "      <td>344.35</td>\n",
       "      <td>343.50</td>\n",
       "      <td>344.35</td>\n",
       "      <td>7800</td>\n",
       "      <td>421200</td>\n",
       "      <td>Future</td>\n",
       "      <td>FUT</td>\n",
       "      <td>2019-08-02 15:21:59</td>\n",
       "    </tr>\n",
       "    <tr>\n",
       "      <th>62311</th>\n",
       "      <td>ZEEL19SEP</td>\n",
       "      <td>2019-08-02</td>\n",
       "      <td>15:29:59</td>\n",
       "      <td>344.35</td>\n",
       "      <td>344.35</td>\n",
       "      <td>342.90</td>\n",
       "      <td>342.90</td>\n",
       "      <td>1300</td>\n",
       "      <td>423800</td>\n",
       "      <td>Future</td>\n",
       "      <td>FUT</td>\n",
       "      <td>2019-08-02 15:29:59</td>\n",
       "    </tr>\n",
       "  </tbody>\n",
       "</table>\n",
       "<p>62312 rows × 12 columns</p>\n",
       "</div>"
      ],
      "text/plain": [
       "          Ticker        Date      Time     Open     High      Low    Close  \\\n",
       "0       ACC19AUG  2019-08-02  09:15:59  1515.00  1515.00  1510.55  1512.75   \n",
       "1       ACC19AUG  2019-08-02  09:16:59  1512.75  1513.65  1508.50  1511.55   \n",
       "2       ACC19AUG  2019-08-02  09:17:59  1511.55  1512.80  1509.75  1510.55   \n",
       "3       ACC19AUG  2019-08-02  09:18:59  1510.00  1510.45  1505.25  1507.50   \n",
       "4       ACC19AUG  2019-08-02  09:19:59  1507.50  1508.85  1506.65  1506.65   \n",
       "...          ...         ...       ...      ...      ...      ...      ...   \n",
       "62307  ZEEL19SEP  2019-08-02  15:11:59   344.55   345.90   344.55   345.90   \n",
       "62308  ZEEL19SEP  2019-08-02  15:18:59   345.90   345.90   344.25   344.25   \n",
       "62309  ZEEL19SEP  2019-08-02  15:20:59   344.25   344.25   344.15   344.15   \n",
       "62310  ZEEL19SEP  2019-08-02  15:21:59   344.15   344.35   343.50   344.35   \n",
       "62311  ZEEL19SEP  2019-08-02  15:29:59   344.35   344.35   342.90   342.90   \n",
       "\n",
       "       Volume  Open Interest Contract Type           TimeStamp  \n",
       "0       14000        2293200   Future  FUT 2019-08-02 09:15:59  \n",
       "1       17200        2293200   Future  FUT 2019-08-02 09:16:59  \n",
       "2       12400        2306800   Future  FUT 2019-08-02 09:17:59  \n",
       "3       14400        2306800   Future  FUT 2019-08-02 09:18:59  \n",
       "4        6800        2306800   Future  FUT 2019-08-02 09:19:59  \n",
       "...       ...            ...      ...  ...                 ...  \n",
       "62307    1300         422500   Future  FUT 2019-08-02 15:11:59  \n",
       "62308    1300         421200   Future  FUT 2019-08-02 15:18:59  \n",
       "62309    1300         421200   Future  FUT 2019-08-02 15:20:59  \n",
       "62310    7800         421200   Future  FUT 2019-08-02 15:21:59  \n",
       "62311    1300         423800   Future  FUT 2019-08-02 15:29:59  \n",
       "\n",
       "[62312 rows x 12 columns]"
      ]
     },
     "execution_count": 10,
     "metadata": {},
     "output_type": "execute_result"
    }
   ],
   "source": [
    "futures"
   ]
  },
  {
   "cell_type": "markdown",
   "metadata": {},
   "source": [
    "<p><b>futures</b> statement returns the data in which the value of contract column is 'Future'.<br>So there is 62312 number of rows and 12 number of columns.</p>"
   ]
  },
  {
   "cell_type": "code",
   "execution_count": 11,
   "metadata": {
    "scrolled": true
   },
   "outputs": [
    {
     "data": {
      "text/html": [
       "<div>\n",
       "<style scoped>\n",
       "    .dataframe tbody tr th:only-of-type {\n",
       "        vertical-align: middle;\n",
       "    }\n",
       "\n",
       "    .dataframe tbody tr th {\n",
       "        vertical-align: top;\n",
       "    }\n",
       "\n",
       "    .dataframe thead th {\n",
       "        text-align: right;\n",
       "    }\n",
       "</style>\n",
       "<table border=\"1\" class=\"dataframe\">\n",
       "  <thead>\n",
       "    <tr style=\"text-align: right;\">\n",
       "      <th></th>\n",
       "      <th>Ticker</th>\n",
       "      <th>Date</th>\n",
       "      <th>Time</th>\n",
       "      <th>Open</th>\n",
       "      <th>High</th>\n",
       "      <th>Low</th>\n",
       "      <th>Close</th>\n",
       "      <th>Volume</th>\n",
       "      <th>Open Interest</th>\n",
       "      <th>Contract</th>\n",
       "      <th>Type</th>\n",
       "      <th>TimeStamp</th>\n",
       "    </tr>\n",
       "  </thead>\n",
       "  <tbody>\n",
       "    <tr>\n",
       "      <th>0</th>\n",
       "      <td>ACC29AUG191400</td>\n",
       "      <td>2019-08-02</td>\n",
       "      <td>12:02:59</td>\n",
       "      <td>7.50</td>\n",
       "      <td>7.50</td>\n",
       "      <td>7.50</td>\n",
       "      <td>7.50</td>\n",
       "      <td>400</td>\n",
       "      <td>15200</td>\n",
       "      <td>Option</td>\n",
       "      <td>PE</td>\n",
       "      <td>2019-08-02 12:02:59</td>\n",
       "    </tr>\n",
       "    <tr>\n",
       "      <th>1</th>\n",
       "      <td>ACC29AUG191400</td>\n",
       "      <td>2019-08-02</td>\n",
       "      <td>14:06:59</td>\n",
       "      <td>6.50</td>\n",
       "      <td>6.50</td>\n",
       "      <td>6.50</td>\n",
       "      <td>6.50</td>\n",
       "      <td>400</td>\n",
       "      <td>15600</td>\n",
       "      <td>Option</td>\n",
       "      <td>PE</td>\n",
       "      <td>2019-08-02 14:06:59</td>\n",
       "    </tr>\n",
       "    <tr>\n",
       "      <th>2</th>\n",
       "      <td>ACC29AUG191400</td>\n",
       "      <td>2019-08-02</td>\n",
       "      <td>14:28:59</td>\n",
       "      <td>6.30</td>\n",
       "      <td>6.30</td>\n",
       "      <td>6.30</td>\n",
       "      <td>6.30</td>\n",
       "      <td>400</td>\n",
       "      <td>15600</td>\n",
       "      <td>Option</td>\n",
       "      <td>PE</td>\n",
       "      <td>2019-08-02 14:28:59</td>\n",
       "    </tr>\n",
       "    <tr>\n",
       "      <th>3</th>\n",
       "      <td>ACC29AUG191400</td>\n",
       "      <td>2019-08-02</td>\n",
       "      <td>14:54:59</td>\n",
       "      <td>7.50</td>\n",
       "      <td>7.50</td>\n",
       "      <td>7.50</td>\n",
       "      <td>7.50</td>\n",
       "      <td>800</td>\n",
       "      <td>15200</td>\n",
       "      <td>Option</td>\n",
       "      <td>PE</td>\n",
       "      <td>2019-08-02 14:54:59</td>\n",
       "    </tr>\n",
       "    <tr>\n",
       "      <th>4</th>\n",
       "      <td>ACC29AUG191400</td>\n",
       "      <td>2019-08-02</td>\n",
       "      <td>15:07:59</td>\n",
       "      <td>7.50</td>\n",
       "      <td>7.50</td>\n",
       "      <td>6.25</td>\n",
       "      <td>6.25</td>\n",
       "      <td>800</td>\n",
       "      <td>15200</td>\n",
       "      <td>Option</td>\n",
       "      <td>PE</td>\n",
       "      <td>2019-08-02 15:07:59</td>\n",
       "    </tr>\n",
       "    <tr>\n",
       "      <th>...</th>\n",
       "      <td>...</td>\n",
       "      <td>...</td>\n",
       "      <td>...</td>\n",
       "      <td>...</td>\n",
       "      <td>...</td>\n",
       "      <td>...</td>\n",
       "      <td>...</td>\n",
       "      <td>...</td>\n",
       "      <td>...</td>\n",
       "      <td>...</td>\n",
       "      <td>...</td>\n",
       "      <td>...</td>\n",
       "    </tr>\n",
       "    <tr>\n",
       "      <th>291604</th>\n",
       "      <td>ZEEL29AUG19460</td>\n",
       "      <td>2019-08-02</td>\n",
       "      <td>15:23:59</td>\n",
       "      <td>0.80</td>\n",
       "      <td>0.80</td>\n",
       "      <td>0.80</td>\n",
       "      <td>0.80</td>\n",
       "      <td>1300</td>\n",
       "      <td>114400</td>\n",
       "      <td>Option</td>\n",
       "      <td>CE</td>\n",
       "      <td>2019-08-02 15:23:59</td>\n",
       "    </tr>\n",
       "    <tr>\n",
       "      <th>291605</th>\n",
       "      <td>ZEEL29AUG19460</td>\n",
       "      <td>2019-08-02</td>\n",
       "      <td>15:25:59</td>\n",
       "      <td>0.80</td>\n",
       "      <td>0.80</td>\n",
       "      <td>0.80</td>\n",
       "      <td>0.80</td>\n",
       "      <td>1300</td>\n",
       "      <td>113100</td>\n",
       "      <td>Option</td>\n",
       "      <td>CE</td>\n",
       "      <td>2019-08-02 15:25:59</td>\n",
       "    </tr>\n",
       "    <tr>\n",
       "      <th>291606</th>\n",
       "      <td>ZEEL29AUG19460</td>\n",
       "      <td>2019-08-02</td>\n",
       "      <td>15:27:59</td>\n",
       "      <td>0.85</td>\n",
       "      <td>0.85</td>\n",
       "      <td>0.85</td>\n",
       "      <td>0.85</td>\n",
       "      <td>1300</td>\n",
       "      <td>114400</td>\n",
       "      <td>Option</td>\n",
       "      <td>CE</td>\n",
       "      <td>2019-08-02 15:27:59</td>\n",
       "    </tr>\n",
       "    <tr>\n",
       "      <th>291607</th>\n",
       "      <td>ZEEL29AUG19480</td>\n",
       "      <td>2019-08-02</td>\n",
       "      <td>12:29:59</td>\n",
       "      <td>0.55</td>\n",
       "      <td>0.55</td>\n",
       "      <td>0.55</td>\n",
       "      <td>0.55</td>\n",
       "      <td>1300</td>\n",
       "      <td>81900</td>\n",
       "      <td>Option</td>\n",
       "      <td>CE</td>\n",
       "      <td>2019-08-02 12:29:59</td>\n",
       "    </tr>\n",
       "    <tr>\n",
       "      <th>291608</th>\n",
       "      <td>ZEEL29AUG19480</td>\n",
       "      <td>2019-08-02</td>\n",
       "      <td>15:27:59</td>\n",
       "      <td>0.65</td>\n",
       "      <td>0.65</td>\n",
       "      <td>0.65</td>\n",
       "      <td>0.65</td>\n",
       "      <td>1300</td>\n",
       "      <td>80600</td>\n",
       "      <td>Option</td>\n",
       "      <td>CE</td>\n",
       "      <td>2019-08-02 15:27:59</td>\n",
       "    </tr>\n",
       "  </tbody>\n",
       "</table>\n",
       "<p>291609 rows × 12 columns</p>\n",
       "</div>"
      ],
      "text/plain": [
       "                Ticker        Date      Time  Open  High   Low  Close  Volume  \\\n",
       "0       ACC29AUG191400  2019-08-02  12:02:59  7.50  7.50  7.50   7.50     400   \n",
       "1       ACC29AUG191400  2019-08-02  14:06:59  6.50  6.50  6.50   6.50     400   \n",
       "2       ACC29AUG191400  2019-08-02  14:28:59  6.30  6.30  6.30   6.30     400   \n",
       "3       ACC29AUG191400  2019-08-02  14:54:59  7.50  7.50  7.50   7.50     800   \n",
       "4       ACC29AUG191400  2019-08-02  15:07:59  7.50  7.50  6.25   6.25     800   \n",
       "...                ...         ...       ...   ...   ...   ...    ...     ...   \n",
       "291604  ZEEL29AUG19460  2019-08-02  15:23:59  0.80  0.80  0.80   0.80    1300   \n",
       "291605  ZEEL29AUG19460  2019-08-02  15:25:59  0.80  0.80  0.80   0.80    1300   \n",
       "291606  ZEEL29AUG19460  2019-08-02  15:27:59  0.85  0.85  0.85   0.85    1300   \n",
       "291607  ZEEL29AUG19480  2019-08-02  12:29:59  0.55  0.55  0.55   0.55    1300   \n",
       "291608  ZEEL29AUG19480  2019-08-02  15:27:59  0.65  0.65  0.65   0.65    1300   \n",
       "\n",
       "        Open Interest Contract Type           TimeStamp  \n",
       "0               15200   Option   PE 2019-08-02 12:02:59  \n",
       "1               15600   Option   PE 2019-08-02 14:06:59  \n",
       "2               15600   Option   PE 2019-08-02 14:28:59  \n",
       "3               15200   Option   PE 2019-08-02 14:54:59  \n",
       "4               15200   Option   PE 2019-08-02 15:07:59  \n",
       "...               ...      ...  ...                 ...  \n",
       "291604         114400   Option   CE 2019-08-02 15:23:59  \n",
       "291605         113100   Option   CE 2019-08-02 15:25:59  \n",
       "291606         114400   Option   CE 2019-08-02 15:27:59  \n",
       "291607          81900   Option   CE 2019-08-02 12:29:59  \n",
       "291608          80600   Option   CE 2019-08-02 15:27:59  \n",
       "\n",
       "[291609 rows x 12 columns]"
      ]
     },
     "execution_count": 11,
     "metadata": {},
     "output_type": "execute_result"
    }
   ],
   "source": [
    "options"
   ]
  },
  {
   "cell_type": "markdown",
   "metadata": {},
   "source": [
    "<p>options statement returns the data in which the value of contract column is 'Option'.<br>So there is 291609 number of rows and 12 number of columns.</p>"
   ]
  },
  {
   "cell_type": "code",
   "execution_count": 12,
   "metadata": {},
   "outputs": [
    {
     "name": "stdout",
     "output_type": "stream",
     "text": [
      "True\n"
     ]
    }
   ],
   "source": [
    "#Check for Correct Segregation\n",
    "if len(raw_data)==(len(futures)+len(options)):\n",
    "    print('True')\n",
    "else:\n",
    "    print('False')"
   ]
  },
  {
   "cell_type": "markdown",
   "metadata": {},
   "source": [
    "<p>The above code is written to check if the length of raw_data is equal to length of futures and options (as combined together) or not.<br>The code prints <b>True</b> which means the length is equal.</p>"
   ]
  },
  {
   "cell_type": "markdown",
   "metadata": {},
   "source": [
    "We consider Futures Closing prices as Underlying Close prices to calculate Correlation between Instruments"
   ]
  },
  {
   "cell_type": "markdown",
   "metadata": {},
   "source": [
    "### Cleaning Futures\n",
    "\n",
    "Now we split Ticker"
   ]
  },
  {
   "cell_type": "code",
   "execution_count": 13,
   "metadata": {
    "scrolled": true
   },
   "outputs": [
    {
     "name": "stdout",
     "output_type": "stream",
     "text": [
      "Wall time: 437 ms\n"
     ]
    },
    {
     "data": {
      "text/html": [
       "<div>\n",
       "<style scoped>\n",
       "    .dataframe tbody tr th:only-of-type {\n",
       "        vertical-align: middle;\n",
       "    }\n",
       "\n",
       "    .dataframe tbody tr th {\n",
       "        vertical-align: top;\n",
       "    }\n",
       "\n",
       "    .dataframe thead th {\n",
       "        text-align: right;\n",
       "    }\n",
       "</style>\n",
       "<table border=\"1\" class=\"dataframe\">\n",
       "  <thead>\n",
       "    <tr style=\"text-align: right;\">\n",
       "      <th></th>\n",
       "      <th>Ticker</th>\n",
       "      <th>TimeStamp</th>\n",
       "      <th>Close</th>\n",
       "      <th>Expiry</th>\n",
       "    </tr>\n",
       "  </thead>\n",
       "  <tbody>\n",
       "    <tr>\n",
       "      <th>57955</th>\n",
       "      <td>TVSMOTOR</td>\n",
       "      <td>2019-08-02 15:29:59</td>\n",
       "      <td>365.10</td>\n",
       "      <td>2019SEP</td>\n",
       "    </tr>\n",
       "    <tr>\n",
       "      <th>39352</th>\n",
       "      <td>MUTHOOTFIN</td>\n",
       "      <td>2019-08-02 11:28:59</td>\n",
       "      <td>614.20</td>\n",
       "      <td>2019AUG</td>\n",
       "    </tr>\n",
       "    <tr>\n",
       "      <th>48837</th>\n",
       "      <td>RELIANCE</td>\n",
       "      <td>2019-08-02 12:19:59</td>\n",
       "      <td>1199.30</td>\n",
       "      <td>2019SEP</td>\n",
       "    </tr>\n",
       "    <tr>\n",
       "      <th>14460</th>\n",
       "      <td>CIPLA</td>\n",
       "      <td>2019-08-02 11:18:59</td>\n",
       "      <td>517.00</td>\n",
       "      <td>2019AUG</td>\n",
       "    </tr>\n",
       "    <tr>\n",
       "      <th>32931</th>\n",
       "      <td>KAJARIACER</td>\n",
       "      <td>2019-08-02 13:45:59</td>\n",
       "      <td>464.55</td>\n",
       "      <td>2019AUG</td>\n",
       "    </tr>\n",
       "  </tbody>\n",
       "</table>\n",
       "</div>"
      ],
      "text/plain": [
       "           Ticker           TimeStamp    Close   Expiry\n",
       "57955    TVSMOTOR 2019-08-02 15:29:59   365.10  2019SEP\n",
       "39352  MUTHOOTFIN 2019-08-02 11:28:59   614.20  2019AUG\n",
       "48837    RELIANCE 2019-08-02 12:19:59  1199.30  2019SEP\n",
       "14460       CIPLA 2019-08-02 11:18:59   517.00  2019AUG\n",
       "32931  KAJARIACER 2019-08-02 13:45:59   464.55  2019AUG"
      ]
     },
     "execution_count": 13,
     "metadata": {},
     "output_type": "execute_result"
    }
   ],
   "source": [
    "%%time\n",
    "#Cleaning Futures\n",
    "def cleaning_futures(futures):\n",
    "    fut=futures.copy()\n",
    "    fut.loc[:,'Expiry']=fut.Ticker.apply(lambda x: '20'+x[-5:])\n",
    "    fut.loc[:,'Ticker']=fut.Ticker.apply(lambda x: x[:-5])\n",
    "    fut = fut.sort_values(['Ticker','TimeStamp'])\n",
    "    data = fut[['Ticker','TimeStamp','Close','Expiry']]\n",
    "    return data\n",
    "futures_df = cleaning_futures(futures)\n",
    "futures_df.sample(5)"
   ]
  },
  {
   "cell_type": "markdown",
   "metadata": {},
   "source": [
    "<p>The <b>%%time</b> statement prints the wall time for the entire cell.<br>A function cleaning_futures is defined with futures as a parameter. <b>fut=futures.copy()</b> statement is used to copy the data of futures into fut and then loc[] and lanbda function is applied to it for cleaning of futures.<br><b>.loc[]</b> function accesses a group of rows and columns by label(s) or a boolean array.<br>A <b>lambda</b> function is a small anonymous function. It can take any number of arguments, but can only have one expression.<br> The result of cleaning_futures function is stored in futures_df variable.<br><b>futures_df.sample(5)</b> statement prints 5 random datas from futures_df variable.</p>"
   ]
  },
  {
   "cell_type": "code",
   "execution_count": 14,
   "metadata": {},
   "outputs": [
    {
     "data": {
      "text/plain": [
       "['ACC', 'ADANIENT', 'ADANIPORTS', 'ADANIPOWER', 'AMARAJABAT']"
      ]
     },
     "execution_count": 14,
     "metadata": {},
     "output_type": "execute_result"
    }
   ],
   "source": [
    "#Making list of Tickers\n",
    "ticker_list = futures_df['Ticker'].unique().tolist()\n",
    "ticker_list[0:5]"
   ]
  },
  {
   "cell_type": "markdown",
   "metadata": {},
   "source": [
    "<p>All the datas in futures_df having 'Ticker' is stored into ticker_list variable.<br>ticker_list[0:5] statement prints the array with 1 row and 5 columns.</p>"
   ]
  },
  {
   "cell_type": "markdown",
   "metadata": {},
   "source": [
    "### Calculating Correlation between instruments based on their close prices for different Time horizons as input\n",
    "\n",
    "We will now calculate correlation between instruments, to do so first we have to make a list of tickers by using <b><i>unique() & tolist()</i></b> and by using <b><i>pd.date_range()</i></b> function we create time time stamp from 19:15:59 to 15:29:59 for each ticker and later on we merge and back fill and front fill close prices with original futures data using <b><i>merge_asof()</i></b><br>\n",
    "\n",
    "Documentation:<br>\n",
    "1.<a href=\"https://pandas.pydata.org/pandas-docs/stable/reference/api/pandas.unique.html\" title=\"unique()\">unique()</a><br>\n",
    "2.<a href=\"https://pandas.pydata.org/pandas-docs/stable/reference/api/pandas.Series.tolist.html\" title=\"tolist()\">tolist()</a><br>\n",
    "3.<a href=\"https://pandas.pydata.org/pandas-docs/stable/reference/api/pandas.date_range.html\" title=\"pd.date_range()\">pd.date_range()</a><br>\n",
    "4.<a href=\"https://pandas.pydata.org/pandas-docs/stable/reference/api/pandas.merge_asof.html\" title=\"merge_asof()\">merge_asof()</a><br>"
   ]
  },
  {
   "cell_type": "code",
   "execution_count": 15,
   "metadata": {},
   "outputs": [
    {
     "name": "stdout",
     "output_type": "stream",
     "text": [
      "Wall time: 2.81 s\n"
     ]
    },
    {
     "data": {
      "text/html": [
       "<div>\n",
       "<style scoped>\n",
       "    .dataframe tbody tr th:only-of-type {\n",
       "        vertical-align: middle;\n",
       "    }\n",
       "\n",
       "    .dataframe tbody tr th {\n",
       "        vertical-align: top;\n",
       "    }\n",
       "\n",
       "    .dataframe thead th {\n",
       "        text-align: right;\n",
       "    }\n",
       "</style>\n",
       "<table border=\"1\" class=\"dataframe\">\n",
       "  <thead>\n",
       "    <tr style=\"text-align: right;\">\n",
       "      <th>Ticker</th>\n",
       "      <th>ACC</th>\n",
       "      <th>ADANIENT</th>\n",
       "      <th>ADANIPORTS</th>\n",
       "      <th>ADANIPOWER</th>\n",
       "      <th>AMARAJABAT</th>\n",
       "      <th>AMBUJACEM</th>\n",
       "      <th>APOLLOHOSP</th>\n",
       "      <th>APOLLOTYRE</th>\n",
       "      <th>ARVIND</th>\n",
       "      <th>ASHOKLEY</th>\n",
       "      <th>...</th>\n",
       "      <th>UBL</th>\n",
       "      <th>UJJIVAN</th>\n",
       "      <th>ULTRACEMCO</th>\n",
       "      <th>UNIONBANK</th>\n",
       "      <th>UPL</th>\n",
       "      <th>VEDL</th>\n",
       "      <th>VOLTAS</th>\n",
       "      <th>WIPRO</th>\n",
       "      <th>YESBANK</th>\n",
       "      <th>ZEEL</th>\n",
       "    </tr>\n",
       "    <tr>\n",
       "      <th>Ticker</th>\n",
       "      <th></th>\n",
       "      <th></th>\n",
       "      <th></th>\n",
       "      <th></th>\n",
       "      <th></th>\n",
       "      <th></th>\n",
       "      <th></th>\n",
       "      <th></th>\n",
       "      <th></th>\n",
       "      <th></th>\n",
       "      <th></th>\n",
       "      <th></th>\n",
       "      <th></th>\n",
       "      <th></th>\n",
       "      <th></th>\n",
       "      <th></th>\n",
       "      <th></th>\n",
       "      <th></th>\n",
       "      <th></th>\n",
       "      <th></th>\n",
       "      <th></th>\n",
       "    </tr>\n",
       "  </thead>\n",
       "  <tbody>\n",
       "    <tr>\n",
       "      <th>ACC</th>\n",
       "      <td>1.000000</td>\n",
       "      <td>0.454267</td>\n",
       "      <td>0.914867</td>\n",
       "      <td>0.640808</td>\n",
       "      <td>0.009893</td>\n",
       "      <td>0.412552</td>\n",
       "      <td>0.124394</td>\n",
       "      <td>0.637477</td>\n",
       "      <td>0.162686</td>\n",
       "      <td>0.185686</td>\n",
       "      <td>...</td>\n",
       "      <td>0.769625</td>\n",
       "      <td>0.705146</td>\n",
       "      <td>0.536213</td>\n",
       "      <td>0.080873</td>\n",
       "      <td>-0.277666</td>\n",
       "      <td>0.264185</td>\n",
       "      <td>0.058141</td>\n",
       "      <td>-0.518616</td>\n",
       "      <td>0.554304</td>\n",
       "      <td>0.824222</td>\n",
       "    </tr>\n",
       "    <tr>\n",
       "      <th>ADANIENT</th>\n",
       "      <td>0.454267</td>\n",
       "      <td>1.000000</td>\n",
       "      <td>0.381552</td>\n",
       "      <td>0.455560</td>\n",
       "      <td>-0.490212</td>\n",
       "      <td>-0.287554</td>\n",
       "      <td>0.568936</td>\n",
       "      <td>0.860740</td>\n",
       "      <td>0.091547</td>\n",
       "      <td>0.059022</td>\n",
       "      <td>...</td>\n",
       "      <td>0.845467</td>\n",
       "      <td>0.719959</td>\n",
       "      <td>-0.005929</td>\n",
       "      <td>0.859196</td>\n",
       "      <td>0.625146</td>\n",
       "      <td>0.386557</td>\n",
       "      <td>0.348184</td>\n",
       "      <td>0.001565</td>\n",
       "      <td>-0.315658</td>\n",
       "      <td>0.852048</td>\n",
       "    </tr>\n",
       "    <tr>\n",
       "      <th>ADANIPORTS</th>\n",
       "      <td>0.914867</td>\n",
       "      <td>0.381552</td>\n",
       "      <td>1.000000</td>\n",
       "      <td>0.580072</td>\n",
       "      <td>0.006461</td>\n",
       "      <td>0.602529</td>\n",
       "      <td>-0.228478</td>\n",
       "      <td>0.444044</td>\n",
       "      <td>0.348306</td>\n",
       "      <td>0.477767</td>\n",
       "      <td>...</td>\n",
       "      <td>0.578764</td>\n",
       "      <td>0.420199</td>\n",
       "      <td>0.806771</td>\n",
       "      <td>0.070492</td>\n",
       "      <td>-0.106970</td>\n",
       "      <td>-0.116784</td>\n",
       "      <td>-0.331987</td>\n",
       "      <td>-0.377472</td>\n",
       "      <td>0.480802</td>\n",
       "      <td>0.773563</td>\n",
       "    </tr>\n",
       "    <tr>\n",
       "      <th>ADANIPOWER</th>\n",
       "      <td>0.640808</td>\n",
       "      <td>0.455560</td>\n",
       "      <td>0.580072</td>\n",
       "      <td>1.000000</td>\n",
       "      <td>-0.678268</td>\n",
       "      <td>-0.070118</td>\n",
       "      <td>0.161719</td>\n",
       "      <td>0.472051</td>\n",
       "      <td>-0.488805</td>\n",
       "      <td>0.008994</td>\n",
       "      <td>...</td>\n",
       "      <td>0.513567</td>\n",
       "      <td>0.670331</td>\n",
       "      <td>0.307564</td>\n",
       "      <td>0.034164</td>\n",
       "      <td>-0.101065</td>\n",
       "      <td>0.189768</td>\n",
       "      <td>0.181906</td>\n",
       "      <td>-0.130747</td>\n",
       "      <td>0.442382</td>\n",
       "      <td>0.521503</td>\n",
       "    </tr>\n",
       "    <tr>\n",
       "      <th>AMARAJABAT</th>\n",
       "      <td>0.009893</td>\n",
       "      <td>-0.490212</td>\n",
       "      <td>0.006461</td>\n",
       "      <td>-0.678268</td>\n",
       "      <td>1.000000</td>\n",
       "      <td>0.638677</td>\n",
       "      <td>-0.210233</td>\n",
       "      <td>-0.189479</td>\n",
       "      <td>0.507878</td>\n",
       "      <td>0.251991</td>\n",
       "      <td>...</td>\n",
       "      <td>-0.238696</td>\n",
       "      <td>-0.361891</td>\n",
       "      <td>0.167240</td>\n",
       "      <td>-0.244748</td>\n",
       "      <td>-0.403761</td>\n",
       "      <td>-0.163256</td>\n",
       "      <td>-0.237684</td>\n",
       "      <td>-0.121128</td>\n",
       "      <td>0.028237</td>\n",
       "      <td>-0.168895</td>\n",
       "    </tr>\n",
       "    <tr>\n",
       "      <th>...</th>\n",
       "      <td>...</td>\n",
       "      <td>...</td>\n",
       "      <td>...</td>\n",
       "      <td>...</td>\n",
       "      <td>...</td>\n",
       "      <td>...</td>\n",
       "      <td>...</td>\n",
       "      <td>...</td>\n",
       "      <td>...</td>\n",
       "      <td>...</td>\n",
       "      <td>...</td>\n",
       "      <td>...</td>\n",
       "      <td>...</td>\n",
       "      <td>...</td>\n",
       "      <td>...</td>\n",
       "      <td>...</td>\n",
       "      <td>...</td>\n",
       "      <td>...</td>\n",
       "      <td>...</td>\n",
       "      <td>...</td>\n",
       "      <td>...</td>\n",
       "    </tr>\n",
       "    <tr>\n",
       "      <th>VEDL</th>\n",
       "      <td>0.264185</td>\n",
       "      <td>0.386557</td>\n",
       "      <td>-0.116784</td>\n",
       "      <td>0.189768</td>\n",
       "      <td>-0.163256</td>\n",
       "      <td>-0.607536</td>\n",
       "      <td>0.853674</td>\n",
       "      <td>0.515186</td>\n",
       "      <td>-0.258663</td>\n",
       "      <td>-0.795845</td>\n",
       "      <td>...</td>\n",
       "      <td>0.640114</td>\n",
       "      <td>0.766416</td>\n",
       "      <td>-0.671472</td>\n",
       "      <td>0.159069</td>\n",
       "      <td>-0.212458</td>\n",
       "      <td>1.000000</td>\n",
       "      <td>0.925853</td>\n",
       "      <td>-0.510571</td>\n",
       "      <td>0.201368</td>\n",
       "      <td>0.312804</td>\n",
       "    </tr>\n",
       "    <tr>\n",
       "      <th>VOLTAS</th>\n",
       "      <td>0.058141</td>\n",
       "      <td>0.348184</td>\n",
       "      <td>-0.331987</td>\n",
       "      <td>0.181906</td>\n",
       "      <td>-0.237684</td>\n",
       "      <td>-0.686580</td>\n",
       "      <td>0.943944</td>\n",
       "      <td>0.514876</td>\n",
       "      <td>-0.520967</td>\n",
       "      <td>-0.738564</td>\n",
       "      <td>...</td>\n",
       "      <td>0.477455</td>\n",
       "      <td>0.701115</td>\n",
       "      <td>-0.777522</td>\n",
       "      <td>0.229779</td>\n",
       "      <td>-0.136272</td>\n",
       "      <td>0.925853</td>\n",
       "      <td>1.000000</td>\n",
       "      <td>-0.181249</td>\n",
       "      <td>-0.038267</td>\n",
       "      <td>0.132662</td>\n",
       "    </tr>\n",
       "    <tr>\n",
       "      <th>WIPRO</th>\n",
       "      <td>-0.518616</td>\n",
       "      <td>0.001565</td>\n",
       "      <td>-0.377472</td>\n",
       "      <td>-0.130747</td>\n",
       "      <td>-0.121128</td>\n",
       "      <td>0.033178</td>\n",
       "      <td>-0.031451</td>\n",
       "      <td>-0.021645</td>\n",
       "      <td>-0.320933</td>\n",
       "      <td>0.515568</td>\n",
       "      <td>...</td>\n",
       "      <td>-0.443798</td>\n",
       "      <td>-0.365321</td>\n",
       "      <td>0.028894</td>\n",
       "      <td>0.370667</td>\n",
       "      <td>0.492320</td>\n",
       "      <td>-0.510571</td>\n",
       "      <td>-0.181249</td>\n",
       "      <td>1.000000</td>\n",
       "      <td>-0.695308</td>\n",
       "      <td>-0.403918</td>\n",
       "    </tr>\n",
       "    <tr>\n",
       "      <th>YESBANK</th>\n",
       "      <td>0.554304</td>\n",
       "      <td>-0.315658</td>\n",
       "      <td>0.480802</td>\n",
       "      <td>0.442382</td>\n",
       "      <td>0.028237</td>\n",
       "      <td>0.226471</td>\n",
       "      <td>-0.264175</td>\n",
       "      <td>-0.175988</td>\n",
       "      <td>-0.079813</td>\n",
       "      <td>-0.280302</td>\n",
       "      <td>...</td>\n",
       "      <td>0.135078</td>\n",
       "      <td>0.231899</td>\n",
       "      <td>0.280437</td>\n",
       "      <td>-0.740556</td>\n",
       "      <td>-0.792717</td>\n",
       "      <td>0.201368</td>\n",
       "      <td>-0.038267</td>\n",
       "      <td>-0.695308</td>\n",
       "      <td>1.000000</td>\n",
       "      <td>0.081769</td>\n",
       "    </tr>\n",
       "    <tr>\n",
       "      <th>ZEEL</th>\n",
       "      <td>0.824222</td>\n",
       "      <td>0.852048</td>\n",
       "      <td>0.773563</td>\n",
       "      <td>0.521503</td>\n",
       "      <td>-0.168895</td>\n",
       "      <td>0.174128</td>\n",
       "      <td>0.343348</td>\n",
       "      <td>0.868417</td>\n",
       "      <td>0.292284</td>\n",
       "      <td>0.267671</td>\n",
       "      <td>...</td>\n",
       "      <td>0.914922</td>\n",
       "      <td>0.742785</td>\n",
       "      <td>0.377988</td>\n",
       "      <td>0.620295</td>\n",
       "      <td>0.284893</td>\n",
       "      <td>0.312804</td>\n",
       "      <td>0.132662</td>\n",
       "      <td>-0.403918</td>\n",
       "      <td>0.081769</td>\n",
       "      <td>1.000000</td>\n",
       "    </tr>\n",
       "  </tbody>\n",
       "</table>\n",
       "<p>164 rows × 164 columns</p>\n",
       "</div>"
      ],
      "text/plain": [
       "Ticker           ACC  ADANIENT  ADANIPORTS  ADANIPOWER  AMARAJABAT  AMBUJACEM  \\\n",
       "Ticker                                                                          \n",
       "ACC         1.000000  0.454267    0.914867    0.640808    0.009893   0.412552   \n",
       "ADANIENT    0.454267  1.000000    0.381552    0.455560   -0.490212  -0.287554   \n",
       "ADANIPORTS  0.914867  0.381552    1.000000    0.580072    0.006461   0.602529   \n",
       "ADANIPOWER  0.640808  0.455560    0.580072    1.000000   -0.678268  -0.070118   \n",
       "AMARAJABAT  0.009893 -0.490212    0.006461   -0.678268    1.000000   0.638677   \n",
       "...              ...       ...         ...         ...         ...        ...   \n",
       "VEDL        0.264185  0.386557   -0.116784    0.189768   -0.163256  -0.607536   \n",
       "VOLTAS      0.058141  0.348184   -0.331987    0.181906   -0.237684  -0.686580   \n",
       "WIPRO      -0.518616  0.001565   -0.377472   -0.130747   -0.121128   0.033178   \n",
       "YESBANK     0.554304 -0.315658    0.480802    0.442382    0.028237   0.226471   \n",
       "ZEEL        0.824222  0.852048    0.773563    0.521503   -0.168895   0.174128   \n",
       "\n",
       "Ticker      APOLLOHOSP  APOLLOTYRE    ARVIND  ASHOKLEY  ...       UBL  \\\n",
       "Ticker                                                  ...             \n",
       "ACC           0.124394    0.637477  0.162686  0.185686  ...  0.769625   \n",
       "ADANIENT      0.568936    0.860740  0.091547  0.059022  ...  0.845467   \n",
       "ADANIPORTS   -0.228478    0.444044  0.348306  0.477767  ...  0.578764   \n",
       "ADANIPOWER    0.161719    0.472051 -0.488805  0.008994  ...  0.513567   \n",
       "AMARAJABAT   -0.210233   -0.189479  0.507878  0.251991  ... -0.238696   \n",
       "...                ...         ...       ...       ...  ...       ...   \n",
       "VEDL          0.853674    0.515186 -0.258663 -0.795845  ...  0.640114   \n",
       "VOLTAS        0.943944    0.514876 -0.520967 -0.738564  ...  0.477455   \n",
       "WIPRO        -0.031451   -0.021645 -0.320933  0.515568  ... -0.443798   \n",
       "YESBANK      -0.264175   -0.175988 -0.079813 -0.280302  ...  0.135078   \n",
       "ZEEL          0.343348    0.868417  0.292284  0.267671  ...  0.914922   \n",
       "\n",
       "Ticker       UJJIVAN  ULTRACEMCO  UNIONBANK       UPL      VEDL    VOLTAS  \\\n",
       "Ticker                                                                      \n",
       "ACC         0.705146    0.536213   0.080873 -0.277666  0.264185  0.058141   \n",
       "ADANIENT    0.719959   -0.005929   0.859196  0.625146  0.386557  0.348184   \n",
       "ADANIPORTS  0.420199    0.806771   0.070492 -0.106970 -0.116784 -0.331987   \n",
       "ADANIPOWER  0.670331    0.307564   0.034164 -0.101065  0.189768  0.181906   \n",
       "AMARAJABAT -0.361891    0.167240  -0.244748 -0.403761 -0.163256 -0.237684   \n",
       "...              ...         ...        ...       ...       ...       ...   \n",
       "VEDL        0.766416   -0.671472   0.159069 -0.212458  1.000000  0.925853   \n",
       "VOLTAS      0.701115   -0.777522   0.229779 -0.136272  0.925853  1.000000   \n",
       "WIPRO      -0.365321    0.028894   0.370667  0.492320 -0.510571 -0.181249   \n",
       "YESBANK     0.231899    0.280437  -0.740556 -0.792717  0.201368 -0.038267   \n",
       "ZEEL        0.742785    0.377988   0.620295  0.284893  0.312804  0.132662   \n",
       "\n",
       "Ticker         WIPRO   YESBANK      ZEEL  \n",
       "Ticker                                    \n",
       "ACC        -0.518616  0.554304  0.824222  \n",
       "ADANIENT    0.001565 -0.315658  0.852048  \n",
       "ADANIPORTS -0.377472  0.480802  0.773563  \n",
       "ADANIPOWER -0.130747  0.442382  0.521503  \n",
       "AMARAJABAT -0.121128  0.028237 -0.168895  \n",
       "...              ...       ...       ...  \n",
       "VEDL       -0.510571  0.201368  0.312804  \n",
       "VOLTAS     -0.181249 -0.038267  0.132662  \n",
       "WIPRO       1.000000 -0.695308 -0.403918  \n",
       "YESBANK    -0.695308  1.000000  0.081769  \n",
       "ZEEL       -0.403918  0.081769  1.000000  \n",
       "\n",
       "[164 rows x 164 columns]"
      ]
     },
     "execution_count": 15,
     "metadata": {},
     "output_type": "execute_result"
    }
   ],
   "source": [
    "%%time\n",
    "def correlation_ref(data_df,time_horizon):\n",
    "    data = data_df.copy()\n",
    "    ticker_list = data['Ticker'].unique().tolist()\n",
    "    min_date = data['TimeStamp'].min()\n",
    "    max_date = data['TimeStamp'].max()\n",
    "    return_df = pd.DataFrame()\n",
    "    for ticker in ticker_list:\n",
    "        grid_df = pd.DataFrame(pd.date_range(min_date,max_date,freq=time_horizon),columns=['TimeStamp'])\n",
    "        df = data[data['Ticker']==ticker].copy()\n",
    "        df['Return'] = df.Close.pct_change()\n",
    "        grid_df['Ticker'] = ticker\n",
    "        merge_df = pd.merge_asof(grid_df,df,left_on='TimeStamp',right_on='TimeStamp',by='Ticker',tolerance=pd.Timedelta(minutes=15),direction='nearest')\n",
    "        return_df = pd.concat([return_df,merge_df],ignore_index=True)\n",
    "        df_pivot = return_df.pivot('TimeStamp','Ticker','Return')\n",
    "        corr_df = df_pivot.corr(method='pearson')\n",
    "    return corr_df\n",
    "corr = correlation_ref(futures_df,'60min')\n",
    "corr\n",
    "    "
   ]
  },
  {
   "cell_type": "markdown",
   "metadata": {},
   "source": [
    "<p>The <b>%%time</b> statement prints the wall time for the entire cell. Then the function correlation_ref is defined with data_df and time_horizon as a parameter.<br>Further, all the datas from data_df is copied into data variable using <b>copy()</b> function. ticker_list variable is then defined containing all the datas having ticker in data variable. min_date and max_date has also been defined.<br>In further code, for loop is used as many times as there are ticker in ticker_list, which returns corr_df variable</p>"
   ]
  },
  {
   "cell_type": "markdown",
   "metadata": {},
   "source": [
    "<B>From above we had Calculated Correlation on bases of Close Prices of Stocks with Time Horizon = 60min</B>"
   ]
  },
  {
   "cell_type": "markdown",
   "metadata": {},
   "source": [
    "## Now we are going to Plot heatmap of the correlations between selected instruments "
   ]
  },
  {
   "cell_type": "markdown",
   "metadata": {},
   "source": [
    "For this, we need to define tickers on which we are going to calculate correlatios and plot heatmap for those correlations"
   ]
  },
  {
   "cell_type": "code",
   "execution_count": 16,
   "metadata": {},
   "outputs": [],
   "source": [
    "#Defining selected tickers\n",
    "symbols_list = ['BHEL', 'CANBK', 'IDBI', 'INFY', 'MINDTREE', 'TCS', 'WIPRO', 'YESBANK']"
   ]
  },
  {
   "cell_type": "markdown",
   "metadata": {},
   "source": [
    "<p>A list namely symbols_list is defined and initialised using above code.</p>"
   ]
  },
  {
   "cell_type": "code",
   "execution_count": 17,
   "metadata": {},
   "outputs": [],
   "source": [
    "#Importing libraries\n",
    "import matplotlib.pyplot as plt\n",
    "import seaborn"
   ]
  },
  {
   "cell_type": "markdown",
   "metadata": {},
   "source": [
    "<p>The above code is written to import two important libraries <b>matplotlib.pyplot</b> and <b>seaborn</b>.<br><b>matplotlib.pyplot</b> is a collection of functions that make matplotlib work like MATLAB. Each pyplot function makes some change to a figure: e.g., creates a figure, creates a plotting area in a figure, plots some lines in a plotting area, decorates the plot with labels, etc.<br><b>Seaborn</b> is a library that uses Matplotlib underneath to plot graphs. It will be used to visualize random distributions.</p>"
   ]
  },
  {
   "cell_type": "markdown",
   "metadata": {},
   "source": [
    "Now we calculate correlation for the selected tickers"
   ]
  },
  {
   "cell_type": "code",
   "execution_count": 18,
   "metadata": {
    "scrolled": false
   },
   "outputs": [
    {
     "name": "stdout",
     "output_type": "stream",
     "text": [
      "Wall time: 116 ms\n"
     ]
    },
    {
     "data": {
      "text/html": [
       "<div>\n",
       "<style scoped>\n",
       "    .dataframe tbody tr th:only-of-type {\n",
       "        vertical-align: middle;\n",
       "    }\n",
       "\n",
       "    .dataframe tbody tr th {\n",
       "        vertical-align: top;\n",
       "    }\n",
       "\n",
       "    .dataframe thead th {\n",
       "        text-align: right;\n",
       "    }\n",
       "</style>\n",
       "<table border=\"1\" class=\"dataframe\">\n",
       "  <thead>\n",
       "    <tr style=\"text-align: right;\">\n",
       "      <th>Ticker</th>\n",
       "      <th>BHEL</th>\n",
       "      <th>CANBK</th>\n",
       "      <th>IDBI</th>\n",
       "      <th>INFY</th>\n",
       "      <th>MINDTREE</th>\n",
       "      <th>TCS</th>\n",
       "      <th>WIPRO</th>\n",
       "      <th>YESBANK</th>\n",
       "    </tr>\n",
       "    <tr>\n",
       "      <th>Ticker</th>\n",
       "      <th></th>\n",
       "      <th></th>\n",
       "      <th></th>\n",
       "      <th></th>\n",
       "      <th></th>\n",
       "      <th></th>\n",
       "      <th></th>\n",
       "      <th></th>\n",
       "    </tr>\n",
       "  </thead>\n",
       "  <tbody>\n",
       "    <tr>\n",
       "      <th>BHEL</th>\n",
       "      <td>1.000000</td>\n",
       "      <td>0.256228</td>\n",
       "      <td>0.776192</td>\n",
       "      <td>-0.131729</td>\n",
       "      <td>-0.232932</td>\n",
       "      <td>0.377505</td>\n",
       "      <td>0.540375</td>\n",
       "      <td>-0.461899</td>\n",
       "    </tr>\n",
       "    <tr>\n",
       "      <th>CANBK</th>\n",
       "      <td>0.256228</td>\n",
       "      <td>1.000000</td>\n",
       "      <td>0.188036</td>\n",
       "      <td>0.019006</td>\n",
       "      <td>-0.554020</td>\n",
       "      <td>0.453217</td>\n",
       "      <td>-0.173357</td>\n",
       "      <td>-0.047606</td>\n",
       "    </tr>\n",
       "    <tr>\n",
       "      <th>IDBI</th>\n",
       "      <td>0.776192</td>\n",
       "      <td>0.188036</td>\n",
       "      <td>1.000000</td>\n",
       "      <td>-0.709668</td>\n",
       "      <td>0.027058</td>\n",
       "      <td>0.599068</td>\n",
       "      <td>0.082429</td>\n",
       "      <td>0.097975</td>\n",
       "    </tr>\n",
       "    <tr>\n",
       "      <th>INFY</th>\n",
       "      <td>-0.131729</td>\n",
       "      <td>0.019006</td>\n",
       "      <td>-0.709668</td>\n",
       "      <td>1.000000</td>\n",
       "      <td>0.211366</td>\n",
       "      <td>-0.098171</td>\n",
       "      <td>-0.101391</td>\n",
       "      <td>-0.466644</td>\n",
       "    </tr>\n",
       "    <tr>\n",
       "      <th>MINDTREE</th>\n",
       "      <td>-0.232932</td>\n",
       "      <td>-0.554020</td>\n",
       "      <td>0.027058</td>\n",
       "      <td>0.211366</td>\n",
       "      <td>1.000000</td>\n",
       "      <td>0.350359</td>\n",
       "      <td>-0.599294</td>\n",
       "      <td>0.573340</td>\n",
       "    </tr>\n",
       "    <tr>\n",
       "      <th>TCS</th>\n",
       "      <td>0.377505</td>\n",
       "      <td>0.453217</td>\n",
       "      <td>0.599068</td>\n",
       "      <td>-0.098171</td>\n",
       "      <td>0.350359</td>\n",
       "      <td>1.000000</td>\n",
       "      <td>-0.644335</td>\n",
       "      <td>0.331534</td>\n",
       "    </tr>\n",
       "    <tr>\n",
       "      <th>WIPRO</th>\n",
       "      <td>0.540375</td>\n",
       "      <td>-0.173357</td>\n",
       "      <td>0.082429</td>\n",
       "      <td>-0.101391</td>\n",
       "      <td>-0.599294</td>\n",
       "      <td>-0.644335</td>\n",
       "      <td>1.000000</td>\n",
       "      <td>-0.695308</td>\n",
       "    </tr>\n",
       "    <tr>\n",
       "      <th>YESBANK</th>\n",
       "      <td>-0.461899</td>\n",
       "      <td>-0.047606</td>\n",
       "      <td>0.097975</td>\n",
       "      <td>-0.466644</td>\n",
       "      <td>0.573340</td>\n",
       "      <td>0.331534</td>\n",
       "      <td>-0.695308</td>\n",
       "      <td>1.000000</td>\n",
       "    </tr>\n",
       "  </tbody>\n",
       "</table>\n",
       "</div>"
      ],
      "text/plain": [
       "Ticker        BHEL     CANBK      IDBI      INFY  MINDTREE       TCS  \\\n",
       "Ticker                                                                 \n",
       "BHEL      1.000000  0.256228  0.776192 -0.131729 -0.232932  0.377505   \n",
       "CANBK     0.256228  1.000000  0.188036  0.019006 -0.554020  0.453217   \n",
       "IDBI      0.776192  0.188036  1.000000 -0.709668  0.027058  0.599068   \n",
       "INFY     -0.131729  0.019006 -0.709668  1.000000  0.211366 -0.098171   \n",
       "MINDTREE -0.232932 -0.554020  0.027058  0.211366  1.000000  0.350359   \n",
       "TCS       0.377505  0.453217  0.599068 -0.098171  0.350359  1.000000   \n",
       "WIPRO     0.540375 -0.173357  0.082429 -0.101391 -0.599294 -0.644335   \n",
       "YESBANK  -0.461899 -0.047606  0.097975 -0.466644  0.573340  0.331534   \n",
       "\n",
       "Ticker       WIPRO   YESBANK  \n",
       "Ticker                        \n",
       "BHEL      0.540375 -0.461899  \n",
       "CANBK    -0.173357 -0.047606  \n",
       "IDBI      0.082429  0.097975  \n",
       "INFY     -0.101391 -0.466644  \n",
       "MINDTREE -0.599294  0.573340  \n",
       "TCS      -0.644335  0.331534  \n",
       "WIPRO     1.000000 -0.695308  \n",
       "YESBANK  -0.695308  1.000000  "
      ]
     },
     "execution_count": 18,
     "metadata": {},
     "output_type": "execute_result"
    }
   ],
   "source": [
    "%%time\n",
    "def correlation_ref_select(data_df,time_horizon):\n",
    "    data = data_df.copy()\n",
    "    ticker_list = data['Ticker'].unique().tolist()\n",
    "    min_date = data['TimeStamp'].min()\n",
    "    max_date = data['TimeStamp'].max()\n",
    "    return_df = pd.DataFrame()\n",
    "    for ticker in symbols_list:\n",
    "        grid_df = pd.DataFrame(pd.date_range(min_date,max_date,freq=time_horizon),columns=['TimeStamp'])\n",
    "        df = data[data['Ticker']==ticker].copy()\n",
    "        df['Return'] = df.Close.pct_change()\n",
    "        grid_df['Ticker'] = ticker\n",
    "        merge_df = pd.merge_asof(grid_df,df,left_on='TimeStamp',right_on='TimeStamp',by='Ticker',tolerance=pd.Timedelta(minutes=15),direction='nearest')\n",
    "        return_df = pd.concat([return_df,merge_df],ignore_index=True)\n",
    "        df_pivot = return_df.pivot('TimeStamp','Ticker','Return')\n",
    "        corr_dff = df_pivot.corr(method='pearson')\n",
    "    return corr_dff\n",
    "corr_selected_tickers = correlation_ref_select(futures_df,'60min')\n",
    "corr_selected_tickers"
   ]
  },
  {
   "cell_type": "markdown",
   "metadata": {},
   "source": [
    "<p>The <b>%%time</b> statement prints the wall time for the entire cell. Then the function correlation_ref_select is defined with data_df and time_horizon as a parameter.<br>Further, all the datas from data_df is copied into data variable using copy() function. ticker_list variable is then defined containing all the datas having ticker in data variable. min_date and max_date has also been defined.<br>In further code, for loop is used as many times as there are ticker in symbols_list, which returns corr_dff variable</p>"
   ]
  },
  {
   "cell_type": "markdown",
   "metadata": {},
   "source": [
    "### Now we plot a heatmap of the correlations (with Seaborn and Matplotlib) to better visualize the results<br>\n",
    "\n",
    "Documentation:<br>\n",
    "1.<a href=\"https://seaborn.pydata.org/\" title=\"seaborn\">seaborn</a><br>\n",
    "2.<a href=\"https://matplotlib.org/users/index.html\" title=\"matplotlib\">matplotlib</a><br>"
   ]
  },
  {
   "cell_type": "code",
   "execution_count": 19,
   "metadata": {},
   "outputs": [
    {
     "data": {
      "image/png": "[encoded data removed]",
      "text/plain": [
       "<Figure size 432x288 with 2 Axes>"
      ]
     },
     "metadata": {
      "needs_background": "light"
     },
     "output_type": "display_data"
    }
   ],
   "source": [
    "#take the bottom triangle since it repeats itself\n",
    "mask = np.zeros_like(corr_selected_tickers)\n",
    "mask[np.triu_indices_from(mask)] = True\n",
    "#generate plot\n",
    "seaborn.heatmap(corr_selected_tickers, cmap='RdYlGn', vmax=1.0, vmin=-1.0 , mask = mask, linewidths=2.5)\n",
    "plt.yticks(rotation=0)\n",
    "plt.xticks(rotation=90) \n",
    "plt.show()"
   ]
  },
  {
   "cell_type": "markdown",
   "metadata": {},
   "source": [
    "<p>In above code, seaborn's heatmap function is used to create a heatmap showing correlation between the different tickers.<br><b>matplotlib.pyplot.xticks()</b> and <b>matplotlib.pyplot.yticks()</b> is used to rotate axis labels. xticks(rotation=90) rotate x-axis labels by 90 degrees. and yticks(rotation=0) rotate y-axis labels by 0 degree.The output is printed using show() function.<br> The <b>heatmap</b> has colors varying from red to green, green with highest correlation(1.00) and red with least correlation (-1.00). </p>"
   ]
  },
  {
   "cell_type": "code",
   "execution_count": null,
   "metadata": {},
   "outputs": [],
   "source": []
  }
 ],
 "metadata": {
  "kernelspec": {
   "display_name": "Python 3",
   "language": "python",
   "name": "python3"
  },
  "language_info": {
   "codemirror_mode": {
    "name": "ipython",
    "version": 3
   },
   "file_extension": ".py",
   "mimetype": "text/x-python",
   "name": "python",
   "nbconvert_exporter": "python",
   "pygments_lexer": "ipython3",
   "version": "3.9.1"
  }
 },
 "nbformat": 4,
 "nbformat_minor": 4
}
