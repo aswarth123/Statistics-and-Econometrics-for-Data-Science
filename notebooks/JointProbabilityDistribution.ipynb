{
 "cells": [
  {
   "cell_type": "markdown",
   "metadata": {},
   "source": [
    "# Joint Probability Distribution"
   ]
  },
  {
   "cell_type": "markdown",
   "metadata": {},
   "source": [
    "### Introduction\n",
    "\n",
    "Before starting with *Joint probabilty distribution* we can have a look at Probability Density Function.\n",
    "\n",
    "**Probability Density Function of a Discrete Random Variable**\n",
    "Let X be a discrete rv taking distinct values x1, x2, ... , xn, .... Then the function\n",
    "\n",
    " $$ f (x) = P(X = x_{i})   \\hspace{1cm}          for \\hspace{0.1cm} i = 1, 2, ... , n, ...$$\n",
    "  \n",
    " $$       = 0              \\hspace{1cm}          for \\hspace{0.1cm} x = x_{i}  $$  \n",
    "          \n",
    "               \n",
    "is called the **discrete probability density function** (PDF) of X, where P(X = $x_{i}$) means the probability that the discrete rv X takes the value of $x_{i}$ .   \n",
    "\n",
    "**Probability Density Function of a Continuous Random Variable**\n",
    "Let X be a continuous rv. Then f(x) is said to be the PDF of X if the following conditions\n",
    "are satisfied:  \n",
    "\n",
    "\n",
    "$$f(x) ≥ 0 $$\n",
    "                    \n",
    "$$ \\int_{−\\infty}^{\\infty} f(x) = 1  $$\n",
    "                    \n",
    "$$ \\int_a^b f(x) = P(a ≤ x ≤ b) $$\n",
    "\n",
    "\n",
    "where f (x) dx is known as the probability element (the probability associated with a small interval of a continuous variable) and where P(a ≤ x ≤ b) means the probability that X lies in the interval a to b.\n",
    "For a continuous rv, in contrast with a discrete rv, the probability that X takes a specific\n",
    "value is zero;$x^{3}$ probability for such a variable is measurable only over a given range or interval, such as (a, b).\n"
   ]
  },
  {
   "cell_type": "markdown",
   "metadata": {},
   "source": [
    "###  Joint Probability Distribution\n",
    "\n",
    "The joint probability distribution can be expressed either in terms of a **joint cumulative distribution function** or in terms of a **joint probability density function** (in the case of continuous variables) or **joint probability mass function** (in the case of discrete variables). \n",
    "\n",
    "These in turn can be used to find two other types of distributions: the **marginal distribution** giving the probabilities for any one of the variables with no reference to any specific ranges of values for the other variables, and the **conditional probability distribution** giving the probabilities for any subset of the variables conditional on particular values of the remaining variables.  \n",
    "\n",
    "**Joint Probability Density Function**   \n",
    "\n",
    "Let X and Y be two discrete random variables. Then the function\n",
    "\n",
    "\n",
    "$$f (x, y) = P(X = x \\hspace{0.1cm}and\\hspace{0.1cm} Y = y)$$  \n",
    "\n",
    "$$ \\hspace{3.5cm} = 0 \\hspace{1cm}when \\hspace{0.1cm}X \\neq x  \\hspace{0.2cm}and \\hspace{0.2cm} Y \\neq y$$\n",
    "\n",
    "is known as the discrete joint probability density function and gives the (joint) probability that X takes the value of x and Y takes the value of y.\n"
   ]
  },
  {
   "cell_type": "markdown",
   "metadata": {},
   "source": [
    "### Marginal Probability Distribution\n",
    "\n",
    "In probability theory and statistics, the marginal distribution of a subset of a collection of [random variables](https://en.wikipedia.org/wiki/Random_variable) is the [probability distribution](https://en.wikipedia.org/wiki/Probability_distribution) of the variables contained in the subset. It gives the probabilities of various values of the variables in the subset without reference to the values of the other variables.\n",
    "\n",
    "The **marginal probability** is the probability of a single event occurring, independent of other events .\n",
    "\n",
    "**Marginal Probability Density Function**  \n",
    "\n",
    "In relation to *f (x, y), f (x) and f (y)* are called individual, or marginal, probability density functions. These marginal PDFs are derived as follows: \n",
    "\n",
    "$$f (x) = \\sum_{y}f (x, y)  \\hspace{1cm} marginal\\hspace{0.1cm} PDF\\hspace{0.2cm} of\\hspace{0.2cm} X$$ \n",
    "\n",
    "$$f (y) = \\sum_{x}f (x, y)  \\hspace{1cm} marginal\\hspace{0.1cm} PDF \\hspace{0.2cm}of\\hspace{0.2cm} Y$$\n",
    "\n",
    "where, for example $\\sum_{y}$,  means the sum over all values of Y and $\\sum_{x}$ means the sum over all values of X."
   ]
  },
  {
   "cell_type": "markdown",
   "metadata": {},
   "source": [
    "### Conditional Probability Distribution\n",
    "\n",
    "A conditional probability, is the probability that an event occurs given that another specific event has already occurred. This means that the calculation for one variable is dependent on another variable.  \n",
    "\n",
    "In probability theory and statistics, given two jointly distributed random variables X and Y, the conditional probability distribution of Y given X is the probability distribution of Y when X is known to be a particular value; in some cases the conditional probabilities may be expressed as functions containing the unspecified value x of X as a parameter. When both X and Y are categorical variables, a conditional probability table is typically used to represent the conditional probability.\n",
    "\n",
    "**Conditional PDF**\n",
    "\n",
    "The function \n",
    "$$f (x | y) = P(X = x | Y = y)$$ \n",
    "\n",
    "is known as the conditional PDF of X; it gives the probability that X takes on the value of x given that Y has assumed the value y. Similarly,\n",
    "$$f (y | x) = P(Y = y | X = x)$$\n",
    "\n",
    "which gives the conditional PDF of Y.\n",
    "The conditional PDFs may be obtained as follows: \n",
    "\n",
    "$$f(x | y) = \\frac{f (x, y)}{f (y)} \\hspace{1cm}conditional PDF\\ of\\ X$$\n",
    "$$f (y | x) = \\frac{f (x, y)}{f (x)} \\hspace{1cm} conditional PDF\\ of\\ Y $$\n",
    "As the preceding expressions show, the conditional PDF of one variable can be expressed\n",
    "as the ratio of the joint PDF to the marginal PDF of another (conditioning) variable."
   ]
  },
  {
   "cell_type": "markdown",
   "metadata": {},
   "source": [
    "Now we will be looking at some problem examples on Joint Probability, Marginal Probability and Conditional Probability . So, before moving on let us take a simple example.  \n",
    "\n",
    "**Example 1.** A survey was taken to find the favourite food people . The data is as follows :\n"
   ]
  },
  {
   "cell_type": "code",
   "execution_count": 1,
   "metadata": {
    "scrolled": true
   },
   "outputs": [
    {
     "data": {
      "text/html": [
       "<div>\n",
       "<style scoped>\n",
       "    .dataframe tbody tr th:only-of-type {\n",
       "        vertical-align: middle;\n",
       "    }\n",
       "\n",
       "    .dataframe tbody tr th {\n",
       "        vertical-align: top;\n",
       "    }\n",
       "\n",
       "    .dataframe thead th {\n",
       "        text-align: right;\n",
       "    }\n",
       "</style>\n",
       "<table border=\"1\" class=\"dataframe\">\n",
       "  <thead>\n",
       "    <tr style=\"text-align: right;\">\n",
       "      <th></th>\n",
       "      <th>Male</th>\n",
       "      <th>Female</th>\n",
       "      <th>Total</th>\n",
       "    </tr>\n",
       "  </thead>\n",
       "  <tbody>\n",
       "    <tr>\n",
       "      <th>Indian</th>\n",
       "      <td>80</td>\n",
       "      <td>120</td>\n",
       "      <td>200</td>\n",
       "    </tr>\n",
       "    <tr>\n",
       "      <th>Italian</th>\n",
       "      <td>100</td>\n",
       "      <td>25</td>\n",
       "      <td>125</td>\n",
       "    </tr>\n",
       "    <tr>\n",
       "      <th>Other</th>\n",
       "      <td>50</td>\n",
       "      <td>125</td>\n",
       "      <td>175</td>\n",
       "    </tr>\n",
       "    <tr>\n",
       "      <th>Total</th>\n",
       "      <td>230</td>\n",
       "      <td>270</td>\n",
       "      <td>500</td>\n",
       "    </tr>\n",
       "  </tbody>\n",
       "</table>\n",
       "</div>"
      ],
      "text/plain": [
       "         Male  Female  Total\n",
       "Indian     80     120    200\n",
       "Italian   100      25    125\n",
       "Other      50     125    175\n",
       "Total     230     270    500"
      ]
     },
     "execution_count": 1,
     "metadata": {},
     "output_type": "execute_result"
    }
   ],
   "source": [
    "import pandas as pd\n",
    "\n",
    "df=pd.DataFrame({\n",
    "    'Male' : [80,100,50,230],\n",
    "    'Female': [120,25,125,270],\n",
    "    'Total':[200,125,175,500]\n",
    "},\n",
    "index= [\"Indian\",\"Italian\",\"Other\",'Total'],)\n",
    "df"
   ]
  },
  {
   "cell_type": "markdown",
   "metadata": {},
   "source": [
    "Now we find **Joint Probability Distribution** of the above data. This can be done by dividing the overall data with the total i.e. **500**."
   ]
  },
  {
   "cell_type": "code",
   "execution_count": 2,
   "metadata": {},
   "outputs": [
    {
     "data": {
      "text/html": [
       "<div>\n",
       "<style scoped>\n",
       "    .dataframe tbody tr th:only-of-type {\n",
       "        vertical-align: middle;\n",
       "    }\n",
       "\n",
       "    .dataframe tbody tr th {\n",
       "        vertical-align: top;\n",
       "    }\n",
       "\n",
       "    .dataframe thead th {\n",
       "        text-align: right;\n",
       "    }\n",
       "</style>\n",
       "<table border=\"1\" class=\"dataframe\">\n",
       "  <thead>\n",
       "    <tr style=\"text-align: right;\">\n",
       "      <th></th>\n",
       "      <th>Male</th>\n",
       "      <th>Female</th>\n",
       "      <th>Total</th>\n",
       "    </tr>\n",
       "  </thead>\n",
       "  <tbody>\n",
       "    <tr>\n",
       "      <th>Indian</th>\n",
       "      <td>0.16</td>\n",
       "      <td>0.24</td>\n",
       "      <td>0.40</td>\n",
       "    </tr>\n",
       "    <tr>\n",
       "      <th>Italian</th>\n",
       "      <td>0.20</td>\n",
       "      <td>0.05</td>\n",
       "      <td>0.25</td>\n",
       "    </tr>\n",
       "    <tr>\n",
       "      <th>Other</th>\n",
       "      <td>0.10</td>\n",
       "      <td>0.25</td>\n",
       "      <td>0.35</td>\n",
       "    </tr>\n",
       "    <tr>\n",
       "      <th>Total</th>\n",
       "      <td>0.46</td>\n",
       "      <td>0.54</td>\n",
       "      <td>1.00</td>\n",
       "    </tr>\n",
       "  </tbody>\n",
       "</table>\n",
       "</div>"
      ],
      "text/plain": [
       "         Male  Female  Total\n",
       "Indian   0.16    0.24   0.40\n",
       "Italian  0.20    0.05   0.25\n",
       "Other    0.10    0.25   0.35\n",
       "Total    0.46    0.54   1.00"
      ]
     },
     "execution_count": 2,
     "metadata": {},
     "output_type": "execute_result"
    }
   ],
   "source": [
    "# Joint Probability\n",
    "ndf=pd.DataFrame()\n",
    "ndf=df.div(500)\n",
    "ndf"
   ]
  },
  {
   "cell_type": "markdown",
   "metadata": {},
   "source": [
    "This is the Joint Probability Distribution of the given data."
   ]
  },
  {
   "cell_type": "markdown",
   "metadata": {},
   "source": [
    "|Male||Female||Total|\n",
    "|----||------||-----|\n",
    "|**0.16**||**0.24**||0.4|\n",
    "|**0.20**||**0.05**||0.25|\n",
    "|**0.10**||**0.25**||0.35|\n",
    "|0.46||0.54||1|"
   ]
  },
  {
   "cell_type": "markdown",
   "metadata": {},
   "source": [
    "Now **Marginal probability** distribution of the given data is containted by its two columns is :"
   ]
  },
  {
   "cell_type": "code",
   "execution_count": 3,
   "metadata": {},
   "outputs": [
    {
     "data": {
      "text/plain": [
       "Male      0.46\n",
       "Female    0.54\n",
       "Name: Total, dtype: float64"
      ]
     },
     "execution_count": 3,
     "metadata": {},
     "output_type": "execute_result"
    }
   ],
   "source": [
    "# Marginal Probability\n",
    "m=pd.DataFrame()\n",
    "m=ndf.loc[\"Total\",['Male','Female']]\n",
    "m"
   ]
  },
  {
   "cell_type": "code",
   "execution_count": 4,
   "metadata": {},
   "outputs": [
    {
     "data": {
      "text/plain": [
       "Indian     0.40\n",
       "Italian    0.25\n",
       "Other      0.35\n",
       "Name: Total, dtype: float64"
      ]
     },
     "execution_count": 4,
     "metadata": {},
     "output_type": "execute_result"
    }
   ],
   "source": [
    "# Marginal Probability\n",
    "ndf.loc[['Indian','Italian','Other'],\"Total\"]"
   ]
  },
  {
   "cell_type": "markdown",
   "metadata": {},
   "source": [
    "|Male||Female||Total|\n",
    "|----||------||-----|\n",
    "|0.16||0.24||0.4|\n",
    "|0.20||0.05||0.25|\n",
    "|0.10||0.25||0.35|\n",
    "|**0.46**||**0.54**||1|"
   ]
  },
  {
   "cell_type": "markdown",
   "metadata": {},
   "source": [
    "|Male||Female||Total|\n",
    "|----||------||-----|\n",
    "|0.16||0.24||**0.4**|\n",
    "|0.20||0.05||**0.25**|\n",
    "|0.10||0.25||**0.35**|\n",
    "|0.46||0.54||1|"
   ]
  },
  {
   "cell_type": "markdown",
   "metadata": {},
   "source": [
    "Now we find the **Conditional Probability**.\n",
    "Here, like we need to find Conditional Probability of Indian food for Females.This can be found out by dividing probability of Indian Food for Probability of Females by Total Probability for Females i.e. **0.24/0.54**. In the same way we can find for Italian and Other also."
   ]
  },
  {
   "cell_type": "code",
   "execution_count": 5,
   "metadata": {},
   "outputs": [
    {
     "data": {
      "text/plain": [
       "Indian     0.24\n",
       "Italian    0.05\n",
       "Other      0.25\n",
       "Total      0.54\n",
       "Name: Female, dtype: float64"
      ]
     },
     "execution_count": 5,
     "metadata": {},
     "output_type": "execute_result"
    }
   ],
   "source": [
    "cond=pd.DataFrame()\n",
    "cond=ndf.loc[:,'Female']\n",
    "cond"
   ]
  },
  {
   "cell_type": "code",
   "execution_count": 6,
   "metadata": {},
   "outputs": [
    {
     "data": {
      "text/plain": [
       "Indian     0.444444\n",
       "Italian    0.092593\n",
       "Other      0.462963\n",
       "Total      1.000000\n",
       "Name: Female, dtype: float64"
      ]
     },
     "execution_count": 6,
     "metadata": {},
     "output_type": "execute_result"
    }
   ],
   "source": [
    "# Conditional Probability\n",
    "cond.div(cond.loc['Total'])"
   ]
  },
  {
   "cell_type": "markdown",
   "metadata": {},
   "source": [
    "|Female||Female||Total|\n",
    "|------||------||-----|\n",
    "|0.24||**0.444**||0.4|\n",
    "|0.05||**0.093**||0.25|\n",
    "|0.25||**0.463**||0.35|\n",
    "|0.54||1||1|"
   ]
  },
  {
   "cell_type": "markdown",
   "metadata": {},
   "source": [
    "Similarly, we can find for Males also."
   ]
  },
  {
   "cell_type": "markdown",
   "metadata": {},
   "source": [
    "**Example 2.** Two balls are selected at random from a box containing three red, two green and four white. If X and Y are the number of red balls and green balls respectively included among two balls drawn from the box , find \n",
    "\n",
    "1. Joint Probabilty of X and Y\n",
    "2. Marginal Probabilty of X and Y\n",
    "3. Conditional distribution of X given Y=1\n",
    "\n",
    "As in the above example we were given the table so it was easy for us to find Joint Probability Distribution . In this example we will be making the Joint Probability Distribution.\n",
    "\n",
    "The Joint Probability Distribution Table looks like this :\n"
   ]
  },
  {
   "cell_type": "markdown",
   "metadata": {},
   "source": [
    "|X\\Y||0||1||2||Total|\n",
    "|---||-||-||-||-----|\n",
    "|0|\n",
    "|1|\n",
    "|2|\n",
    "|3|\n",
    "|Total|"
   ]
  },
  {
   "cell_type": "markdown",
   "metadata": {},
   "source": [
    "Since, there are three red balls so we will be taking X=0,1,2,3 and two green balls so we will take Y=0,1,2. Now we take out probabilities . We know that the probability of choosing two balls out of 3 red, 2 green and 4 white balls is given by choosing any two balls out of 9 balls i.e. $9 \\choose 2$ .\n",
    "\n",
    "Now , the block with row and column 0 represents P(0,0) means here we have 0 red and 0 green balls . It means we have only white balls with us so we can choose two balls from 4 white balls by $4\\choose2$. \n",
    "\n",
    "So, P(0,0)= $\\frac{4\\choose2}{9 \\choose 2} \\ =0.17$  \n",
    "\n",
    "Now,P(0,1) represents we can choose 0 red balls and 1 green ball. We know that we need to choose two balls in total according to the question so we will choose 1 ball from 2 green balls i.e. $2\\choose1$ and 1 ball from 4 white balls i.e. $4\\choose1$ and total probability of choosing 2 balls is $9\\choose2$. Hence,\n",
    "\n",
    "P(0,1) = ${2\\choose1}\\frac{4\\choose1}{9\\choose2} =0.22$\n",
    "\n",
    "Similarly, if we look at P(0,2) so we can choose 2 green balls and we need to choose 2 balls in total. This can be done by choosing 2 balls from green itself and we need not take white balls here. This is done by$2\\choose2$.\n",
    "\n",
    "P(0,2)=$\\frac{2\\choose2}{9\\choose2} = 0.03$\n",
    "\n",
    "Now, we look at P(1,2). This means we can choose 1 red and 2 green balls but according to the question we have to choose only 2 balls so this is not possible. Hence, \n",
    "\n",
    "P(1,2) = 0  \n",
    "\n",
    "Similarly, we can take out probabilities for all and this will complete our Joint Probability Distribution Table."
   ]
  },
  {
   "cell_type": "code",
   "execution_count": 7,
   "metadata": {},
   "outputs": [
    {
     "name": "stdout",
     "output_type": "stream",
     "text": [
      "     X\\Y     0     1     2  Total\n",
      "0      0  0.17  0.22  0.03   0.42\n",
      "1      1  0.33  0.17  0.00   0.50\n",
      "2      2  0.08  0.00  0.00   0.08\n",
      "3      3  0.00  0.00  0.00   0.00\n",
      "4  Total  0.58  0.39  0.03   1.00\n"
     ]
    }
   ],
   "source": [
    "# Joint Probability Distribution\n",
    "df = pd.DataFrame({\n",
    "             'X\\Y' : [0, 1, 2, 3, 'Total'],\n",
    "                 '0' : [ 1/6, 1/3, 1/12, 0, 21/36],\n",
    "                 '1' : [2/9, 1/6, 0, 0, 14/36],\n",
    "                 '2' :  [1/36, 0, 0, 0, 1/36],\n",
    "           'Total' : [15/36, 18/36, 3/36, 0, 1],\n",
    "                  }\n",
    "    ,)\n",
    "df=df.round(2)\n",
    "         \n",
    "df.set_index('X\\Y')\n",
    "print (df)\n"
   ]
  },
  {
   "cell_type": "markdown",
   "metadata": {},
   "source": [
    "|X\\Y||0||1||2||Total|\n",
    "|---||-||-||-||-----|\n",
    "|0||0.17||0.22||0.03||0.42|\n",
    "|1||0.33||0.17||0.00||0.50|\n",
    "|2||0.08||0.00||0.00||0.08|\n",
    "|3||0.00||0.00||0.00||0.00|\n",
    "|Total||0.58||0.39||0.03||1.00|"
   ]
  },
  {
   "cell_type": "markdown",
   "metadata": {},
   "source": [
    "Now, we have Joint Probability Distribution so we can easily find Marginal and Conditional Probability as seen in the previous example. You may find Marginal Probability of X and Y by yourself first and then check your answer here. Please choose an option   :  \n",
    "1. Marginal Probability  \n",
    "   To check Marginal Probability of X type x  \n",
    "   To check Marginal Probability of Y type y  \n",
    "  \n",
    "2. Conditional Probability"
   ]
  },
  {
   "cell_type": "code",
   "execution_count": 8,
   "metadata": {},
   "outputs": [
    {
     "data": {
      "text/plain": [
       "0    0.42\n",
       "1    0.50\n",
       "2    0.08\n",
       "3    0.00\n",
       "Name: Total, dtype: float64"
      ]
     },
     "execution_count": 8,
     "metadata": {},
     "output_type": "execute_result"
    }
   ],
   "source": [
    "# Marginal Probability Distribution of X\n",
    "mrx = pd.DataFrame()\n",
    "mrx = df.loc[0:3,'Total']\n",
    "mrx"
   ]
  },
  {
   "cell_type": "code",
   "execution_count": 9,
   "metadata": {},
   "outputs": [
    {
     "data": {
      "text/plain": [
       "0    0.58\n",
       "1    0.39\n",
       "2    0.03\n",
       "Name: 4, dtype: object"
      ]
     },
     "execution_count": 9,
     "metadata": {},
     "output_type": "execute_result"
    }
   ],
   "source": [
    "# Marginal Probability Distribution of Y\n",
    "mry = pd.DataFrame()\n",
    "mry = df.loc[4,['0','1','2']] \n",
    "mry"
   ]
  },
  {
   "cell_type": "code",
   "execution_count": 10,
   "metadata": {},
   "outputs": [
    {
     "data": {
      "text/plain": [
       "0    0.56\n",
       "1    0.44\n",
       "2    0.00\n",
       "3    0.00\n",
       "Name: 1, dtype: float64"
      ]
     },
     "execution_count": 10,
     "metadata": {},
     "output_type": "execute_result"
    }
   ],
   "source": [
    "# Conditional Probability given Y=1\n",
    "cond = pd.DataFrame()\n",
    "cond =df.loc[0:3,'1'].div(df.loc[4,'1']).round(2)\n",
    "cond"
   ]
  },
  {
   "cell_type": "code",
   "execution_count": 11,
   "metadata": {},
   "outputs": [
    {
     "name": "stdout",
     "output_type": "stream",
     "text": [
      "Enter a number: 1\n",
      "Enter a x\\y: x\n",
      "0    0.42\n",
      "1    0.50\n",
      "2    0.08\n",
      "3    0.00\n",
      "Name: Total, dtype: float64\n"
     ]
    }
   ],
   "source": [
    "# Marginal Probability Distribution   \n",
    "a = int(input(\"Enter a number: \"))\n",
    "if a == 1:\n",
    "    b = input(\"Enter a x\\y: \")\n",
    "    if b == \"x\":\n",
    "        print(mrx)\n",
    "    elif b == 'y':\n",
    "        print(mry)\n",
    "elif a ==2:\n",
    "    print('Conditional Probability when Y=1')\n",
    "    print(cond)\n",
    "else:\n",
    "    print('Invalid input')"
   ]
  },
  {
   "cell_type": "markdown",
   "metadata": {},
   "source": [
    "# Joint Probability Density Function For Continuous Random Variable  \n",
    "\n",
    "For a **Continuous Random Variable** (X,Y) we define the ***Joint Probability Density Function*** f(x,y) , as\n",
    "1. $f(x,y)\\ge 0$  \n",
    "\n",
    "2. $ \\int_{-\\infty}^{\\infty}\\int_{-\\infty}^{\\infty} f(x,y)dxdy = 1 \\rightarrow$ **This states that total volume under the surface given by f(x,y) is 1.0**\n",
    "  \n",
    "\n",
    " * The Joint pdf f(x,y) is not a probability.\n",
    " * For small$ \\Delta x,\\Delta y(+ve)$ , f(x,y) $\\Delta x \\Delta y$ is approximately equal to $P[x\\leq X \\leq x +\\Delta x,y\\leq Y \\leq y +\\Delta y] $\n",
    "\n",
    "**Joint Cumulative Distribution Function (X,Y)**  \n",
    "\n",
    "The Joint Cumulative Distribution Function F(x,y) of two dimensional random variable x,y is defined as  \n",
    "$$ F(x,y)\\ = P[X\\leq x,\\ Y\\leq y] $$\n",
    "$$ \\\\\\\\\\\\\\\\ = \\int_{-\\infty}^y\\int_{-\\infty}^x f(x,y)dxdy $$\n",
    "\n",
    "It follows from the definition ,that  \n",
    "\n",
    "* F($-\\infty,\\infty$) = 1.0  \n",
    "\n",
    "* F($-\\infty$,y) = F(x,$-\\infty$) = 0"
   ]
  },
  {
   "cell_type": "markdown",
   "metadata": {},
   "source": [
    "**Example** Flows in two adjacent streams are denoted as random vector (X,Y) with joint pdf \n",
    "\n",
    "$$f(x,y) = c\\ if\\ 5\\leq x\\leq 10;\\ 4\\leq y\\leq 9 $$ \n",
    "$$= 0 , \\ elsewhere$$  \n",
    "\n",
    "1. Obtain c\n",
    "2. Obtain P[X $\\geq$ Y]  \n",
    "\n",
    "**Ans** To determine **c** we use the definition of joint pdf , $ \\int_{-\\infty}^\\infty\\int_{-\\infty}^\\infty f(x,y)dxdy = 1$ \n",
    "\n",
    "$ \\int_{4}^9\\int_{5}^{10} cf(x,y)dxdy = 1$ "
   ]
  },
  {
   "cell_type": "code",
   "execution_count": 12,
   "metadata": {},
   "outputs": [
    {
     "data": {
      "text/plain": [
       "25.0"
      ]
     },
     "execution_count": 12,
     "metadata": {},
     "output_type": "execute_result"
    }
   ],
   "source": [
    "# Integrating the function\n",
    "\n",
    "import numpy as np\n",
    "import matplotlib.pyplot as plt\n",
    "from sympy import sin, cos, symbols, integrate\n",
    "x, y = symbols('x y')\n",
    "integrate(1, (x, 4, 9), (y, 5, 10))\n",
    "from scipy.integrate import nquad\n",
    "\n",
    "def f(x, y):\n",
    "    return 1\n",
    "\n",
    "def bounds_y():\n",
    "    return [5, 10]\n",
    "\n",
    "def bounds_x(y):\n",
    "    return [4, 9]\n",
    "\n",
    "y, err = nquad(f, [bounds_x, bounds_y])\n",
    "y"
   ]
  },
  {
   "cell_type": "markdown",
   "metadata": {},
   "source": [
    "So, the value of integration is 25. The equation now becomes *25c = 1* "
   ]
  },
  {
   "cell_type": "code",
   "execution_count": 13,
   "metadata": {},
   "outputs": [
    {
     "data": {
      "text/plain": [
       "0.04"
      ]
     },
     "execution_count": 13,
     "metadata": {},
     "output_type": "execute_result"
    }
   ],
   "source": [
    "# value of c\n",
    "c = 1/25\n",
    "c"
   ]
  },
  {
   "cell_type": "markdown",
   "metadata": {},
   "source": [
    "**Ans 2** For P[X $\\geq$ Y]  \n",
    "P[X $\\geq$ Y] = 1-P[X $\\leq$ Y]   "
   ]
  },
  {
   "cell_type": "code",
   "execution_count": 14,
   "metadata": {},
   "outputs": [
    {
     "data": {
      "text/plain": [
       "<matplotlib.collections.PolyCollection at 0x1b7057fc3d0>"
      ]
     },
     "execution_count": 14,
     "metadata": {},
     "output_type": "execute_result"
    },
    {
     "data": {
      "image/png": "[encoded data removed]",
      "text/plain": [
       "<Figure size 432x288 with 1 Axes>"
      ]
     },
     "metadata": {},
     "output_type": "display_data"
    }
   ],
   "source": [
    "# Plotting graph to visualise the area or region for finding probability\n",
    "\n",
    "%matplotlib inline\n",
    "import matplotlib.pyplot as plt\n",
    "plt.style.use('seaborn-whitegrid')\n",
    "import numpy as np  \n",
    "\n",
    "a = plt.axhline(y=4,color='green',linestyle='dashed')\n",
    "b = plt.axhline(y=9,color='red',linestyle='dashed')\n",
    "c = plt.axvline(x=5,color='black',linestyle='dashed')\n",
    "d =plt.axvline(x=10,color='brown',linestyle='dashed')\n",
    "\n",
    "x = np.linspace(5,10,100)\n",
    "y = x\n",
    "y1 = 9\n",
    "\n",
    "plt.title('Visualising the graph for finding Probability')\n",
    "plt.plot(x,y,linestyle='solid')\n",
    "plt.fill_between(x,y,y1,where=y1>y, facecolor='gold')"
   ]
  },
  {
   "cell_type": "markdown",
   "metadata": {},
   "source": [
    "The dashed lines represent the limits or boundaries within which the function is positive. The shaded represents the area where x$\\leq$y . So, we can focus on the shaded region and find the probability. We see that x varies from 5 to y and y varies from 5 to 9 and these become the limits for x and y.\n",
    "\n",
    "We had,  \n",
    "\n",
    "P[X $\\geq$ Y] = 1-P[X $\\leq$ Y]   \n",
    "\n",
    "=1-$ \\int_{5}^9\\int_{5}^y f(x,y)dxdy $  \n",
    "=1-$\\frac{1}{25} \\int_{5}^9\\int_{5}^y f(x,y)dxdy $"
   ]
  },
  {
   "cell_type": "code",
   "execution_count": 15,
   "metadata": {},
   "outputs": [
    {
     "data": {
      "text/plain": [
       "8.0"
      ]
     },
     "execution_count": 15,
     "metadata": {},
     "output_type": "execute_result"
    }
   ],
   "source": [
    "# Integrating the function\n",
    "\n",
    "import numpy as np\n",
    "import matplotlib.pyplot as plt\n",
    "from sympy import sin, cos, symbols, integrate\n",
    "x, y = symbols('x y')\n",
    "integrate(1, (x, 5, 9), (y, 5, y))\n",
    "from scipy.integrate import nquad\n",
    "\n",
    "def f(x, y):\n",
    "    return 1\n",
    "\n",
    "def bounds_y():\n",
    "    return [5, 9]\n",
    "\n",
    "def bounds_x(y):\n",
    "    return [5, y]\n",
    "\n",
    "y, err = nquad(f, [bounds_x, bounds_y])\n",
    "y"
   ]
  },
  {
   "cell_type": "markdown",
   "metadata": {},
   "source": [
    "So, we have 1-{$\\frac{1}{25}y$} after integration where y is the value of integration"
   ]
  },
  {
   "cell_type": "code",
   "execution_count": 16,
   "metadata": {},
   "outputs": [
    {
     "data": {
      "text/plain": [
       "0.68"
      ]
     },
     "execution_count": 16,
     "metadata": {},
     "output_type": "execute_result"
    }
   ],
   "source": [
    "result = 1-1/25*y\n",
    "result = round(result,2)\n",
    "result"
   ]
  },
  {
   "cell_type": "markdown",
   "metadata": {},
   "source": [
    "Hence, P[X $\\geq$ Y] = 0.68"
   ]
  },
  {
   "cell_type": "markdown",
   "metadata": {},
   "source": [
    "So, before moving onto Marginal Density Functions for Continuous Random Variables we can have a little glance on **Monte Carlo Integration** which is used for fast integration of functions."
   ]
  },
  {
   "cell_type": "markdown",
   "metadata": {},
   "source": [
    "# Monte Carlo Integration\n",
    "\n",
    "Monte Carlo methods are numerical techniques which rely on random sampling to approximate their results . Monte Carlo Integration applies this process to numerical estimation of integrals.Monte Carlo integration is a technique for numerical integration using random numbers. It is a particular Monte Carlo method that numerically computes a definite integral.Monte Carlo randomly chooses points at which the integrand is evaluated. This method is particularly useful for higher-dimensional integrals.  \n",
    "\n",
    "So, in simple words it can be said that Monte Carlo Integration is used for definite integration ."
   ]
  },
  {
   "cell_type": "markdown",
   "metadata": {},
   "source": [
    "# How is Monte Carlo Integration Done ?\n",
    "\n",
    "Here we will look at the method of doing Monte Carlo .  \n",
    "\n",
    "In order to integrate a function over a complicated domain D, Monte Carlo integration picks random points over some simple domain $D^{'}$ which is a superset of D, checks whether each point is within D, and estimates the area of D (volume, n-dimensional content, etc.) as the area of $D^{'}$ multiplied by the fraction of points falling within D.  \n",
    "\n",
    "Now, we pick up N randomly distributed points $x_{1},x_{2},x_{3},......x_{N},$ in multidimensional volume V to determine the integral of function f in this volume gives a result  \n",
    "\n",
    "$\\int_ f dv \\approx V<f>\\pm V \\sqrt \\frac{<f^{2}>-<f>^{2}}{N}$  \n",
    "\n",
    "where, \n",
    "\n",
    "$<f> \\equiv \\frac{1}{N}\\sum_{i=1}^{N}f(x_{i})$\n",
    "\n",
    "$<f^{2}>\\equiv \\frac{1}{N}\\sum_{i=1}^{N}f^{2}(x_{i})$  \n",
    "\n",
    "Now , we will look at the implementation of Monte Carlo . We take $\\sin x$ as the function for integration from 0 to $\\pi$ ."
   ]
  },
  {
   "cell_type": "code",
   "execution_count": 17,
   "metadata": {},
   "outputs": [
    {
     "name": "stdout",
     "output_type": "stream",
     "text": [
      "The integral from o to pi of sin(x): 2.0178989749080714\n"
     ]
    }
   ],
   "source": [
    "# Monte Carlo Integration \n",
    "\n",
    "from scipy import random \n",
    "import numpy as np\n",
    "\n",
    "#Limits of integration \n",
    "a = 0\n",
    "b = np.pi\n",
    "\n",
    "# No of random variables\n",
    "N=1000\n",
    "\n",
    "# Setting up random variable\n",
    "xrand = random.uniform(a,b,N)\n",
    "\n",
    "# Implementing the given function of integration\n",
    "def func(x):\n",
    "    return np.sin(x)\n",
    "integral =0.0 \n",
    "\n",
    "for i in range(N):\n",
    "    integral += func(xrand[i])\n",
    "\n",
    "# Final answer of integration\n",
    "answer = (b-a)/float(N)*integral\n",
    "print('The integral from o to pi of sin(x):' ,answer)"
   ]
  },
  {
   "cell_type": "code",
   "execution_count": 18,
   "metadata": {},
   "outputs": [
    {
     "data": {
      "text/plain": [
       "Text(0.5, 0, 'Areas')"
      ]
     },
     "execution_count": 18,
     "metadata": {},
     "output_type": "execute_result"
    },
    {
     "data": {
      "image/png": "[encoded data removed]",
      "text/plain": [
       "<Figure size 432x288 with 1 Axes>"
      ]
     },
     "metadata": {},
     "output_type": "display_data"
    }
   ],
   "source": [
    "# Visualising the answer using Monte Carlo Integration\n",
    "\n",
    "from scipy import random \n",
    "import numpy as np\n",
    "import matplotlib.pyplot as plt\n",
    "\n",
    "#Limits of integration \n",
    "a = 0\n",
    "b = np.pi\n",
    "\n",
    "# No of random variables\n",
    "N=1000\n",
    "\n",
    "areas =[]\n",
    "for i in range(N):\n",
    "    \n",
    "# Setting up random variable\n",
    "    xrand = random.uniform(a,b,N)\n",
    "\n",
    "# Implementing the given function of integration\n",
    "    def func(x):\n",
    "        return np.sin(x)\n",
    "    integral =0.0 \n",
    "\n",
    "    for i in range(N):\n",
    "        integral += func(xrand[i])\n",
    "\n",
    "# Final answer of integration\n",
    "    answer = (b-a)/float(N)*integral\n",
    "    areas.append(answer)\n",
    "\n",
    "plt.title('Distribution of Areas Calculated')\n",
    "plt.hist(areas,bins=30, ec = 'black')\n",
    "plt.xlabel('Areas')"
   ]
  },
  {
   "cell_type": "markdown",
   "metadata": {},
   "source": [
    "So, we can see that we are getting approximately equivalent value using **Monte Carlo Integration**."
   ]
  },
  {
   "cell_type": "markdown",
   "metadata": {},
   "source": [
    "# Marginal Density Functions for Continuous Random Variable\n",
    "\n",
    "* In continuous case, we proceed as follows:  \n",
    "- Let f(x,y) denote the joint pdf of (X,Y)  \n",
    "- We define g(x) and h(y) as marginal probability density functions of X and Y respectively as  \n",
    "$$g(x) = \\int_{-\\infty}^\\infty f(x,y)dy , h(x) =\\int_{-\\infty}^\\infty f(x,y)dx$$  \n",
    "These marginal pdfs which are infact derived from joint pdf f(x,y) correspond to original pdf of the one dimensional r.v.s X and Y  \n",
    "\n",
    "This may be seen from   \n",
    "P[c$\\leq X\\leq d$] = P[c$\\leq X\\leq d,-\\infty\\leq Y\\leq \\infty$]  \n",
    " =$\\int_{c}^d\\underbrace{\\int_{-\\infty}^\\infty f(x,y)dy}dx $  \n",
    " =$\\int_{c}^d g(x) dx$  \n",
    " From the definitions of pdf it is thus seen that this is infact original pdf of r.v. X  \n",
    " Thus ,$$g(x) = \\int_{-\\infty}^\\infty f(x,y)dy\\ and \\ F(x) =\\int_{-\\infty}^\\infty g(x,y)dx$$  \n",
    " Similarly, for r.v. of Y  \n",
    " That is, starting with joint pdf f(x,y), we are not able to get pdfs of X and Y respectively.    \n",
    " \n",
    " Lets take an example.  \n",
    "**Example** Consider a joint pdf :  \n",
    "f(x,y) =$\\frac{1}{25}\\\\\\\\\\\\\\\\$  {$5\\leq X\\leq 10 $; $4 \\leq Y\\leq 9$}    \n",
    "= 0, elsewhere  \n",
    "\n",
    "1. Obtain the marginal density g(x), h(y)\n",
    "2. Obtain CDF G(x), H(y)  \n",
    "3. P[$x\\geq 7$]  \n",
    "4. P[$5\\leq Y \\leq 8$]  \n",
    "\n",
    "**Ans** To obtain g(x),  \n",
    "g(x) = $\\int_{-\\infty}^\\infty f(x,y)dy$ , $5\\leq X \\leq 10$  \n",
    "$\\hspace {0.5cm}$ =$\\int_{4}^9 \\frac{1}{25}dy$\n"
   ]
  },
  {
   "cell_type": "code",
   "execution_count": 19,
   "metadata": {},
   "outputs": [
    {
     "data": {
      "text/plain": [
       "0.2"
      ]
     },
     "execution_count": 19,
     "metadata": {},
     "output_type": "execute_result"
    }
   ],
   "source": [
    "# Using Monte Carlo for integration  \n",
    "from scipy import random \n",
    "import numpy as np\n",
    "\n",
    "#Limits of integration \n",
    "a = 4\n",
    "b = 9\n",
    "\n",
    "# No of random variables\n",
    "N=1000\n",
    "\n",
    "# Setting up random variable\n",
    "xrand = random.uniform(a,b,N)\n",
    "\n",
    "# Implementing the given function of integration\n",
    "def func(x):\n",
    "    return 1/25\n",
    "integral =0.0 \n",
    "\n",
    "for i in range(N):\n",
    "    integral += func(xrand[i])\n",
    "\n",
    "# Final answer of integration\n",
    "answer = (b-a)/float(N)*integral\n",
    "answer=round(answer,2)\n",
    "answer"
   ]
  },
  {
   "cell_type": "markdown",
   "metadata": {},
   "source": [
    "Hence, g(x)= answer\n",
    "g(x) = 5  \n",
    "\n",
    "**ii)** To obtain h(y)  \n",
    "h(y) = $\\int_{-\\infty}^{\\infty} f(x,y)dx \\hspace{0.5cm} 4 \\leq Y\\leq 9$  \n",
    "= $\\int_{5}^{10} \\frac{1}{25}dx$"
   ]
  },
  {
   "cell_type": "code",
   "execution_count": 20,
   "metadata": {},
   "outputs": [
    {
     "data": {
      "text/plain": [
       "0.2"
      ]
     },
     "execution_count": 20,
     "metadata": {},
     "output_type": "execute_result"
    }
   ],
   "source": [
    "# Using Monte Carlo for integration  \n",
    "from scipy import random \n",
    "import numpy as np\n",
    "\n",
    "#Limits of integration \n",
    "a = 5\n",
    "b = 10\n",
    "\n",
    "# No of random variables\n",
    "N=1000\n",
    "\n",
    "# Setting up random variable\n",
    "xrand = random.uniform(a,b,N)\n",
    "\n",
    "# Implementing the given function of integration\n",
    "def func(x):\n",
    "    return 1/25\n",
    "integral =0.0 \n",
    "\n",
    "for i in range(N):\n",
    "    integral += func(xrand[i])\n",
    "\n",
    "# Final answer of integration\n",
    "answer = (b-a)/float(N)*integral\n",
    "answer=round(answer,2)\n",
    "answer"
   ]
  },
  {
   "cell_type": "markdown",
   "metadata": {},
   "source": [
    "Similarly , h(y) = answer  \n",
    "h(y) = 0.2  $ \\\\\\\\$ $4 \\leq Y\\leq 9$  \n",
    "\n",
    "**2.i.)** To obtain G(x)  \n",
    "G(x) = $\\int_{-\\infty}^x g(x)dx$ $ \\hspace{0.5cm} 5\\leq x \\leq 10$  \n",
    "= $\\int_{5}^x \\frac{1}{5}dx$  \n",
    "G(x) = $\\frac{x-5}{5}  \\hspace{0.5cm} 5\\leq x \\leq 10$  \n",
    "\n",
    "**ii.)** To obtain H(y) ,  \n",
    "H(y) = $\\int_{-\\infty}^y h(y)dy$ $ \\hspace{0.5cm} 4\\leq x \\leq 9$   \n",
    "= $\\int_{4}^y \\frac{1}{5}dy$  \n",
    "H(y) = $\\frac{y-4}{5}  \\hspace{0.5cm} 4\\leq x \\leq 9$ \n",
    "\n",
    "**3.** P[$x\\geq 7$] = 1- P[$x\\leq 7$]  \n",
    "$\\hspace{2cm} = 1 - G(7) $   \n",
    "$\\hspace{2cm} = 1 -\\frac{7-5}{5} = \\frac{3}{5}$  \n",
    "\n",
    "**4.** P[$5\\leq Y \\leq 8$]  = H(8) - H(5)  \n",
    "$\\hspace{2.7cm} = \\frac{4}{5} - \\frac {1}{5} = \\frac{1}{5}$"
   ]
  },
  {
   "cell_type": "markdown",
   "metadata": {},
   "source": [
    "# Conditional Distribution for Continuous variables  \n",
    "\n",
    "Definition : (X,Y) is a continuous two dimensional r.v. with joint pdf of f(x,y)  \n",
    "* Let g(x) and h(x) are marginal pdfs of X and Y respectively.  \n",
    "* The conditional pdf of X given Y=y is defined as  \n",
    "$$ g(x/y) = \\frac{f(x,y)}{h(y)} \\hspace{1cm}h(y)\\geq 0$$  \n",
    "* The conditional pdf of Y given X=x is defined as  \n",
    "$$ g(y/x) = \\frac{f(x,y)}{g(x)} \\hspace{1cm}g(x)\\geq 0$$  \n",
    "* The conditional pdf of X given Y$\\in $ R and conditional pdf of Y given X$\\in$R is defined as  \n",
    "$$ g(x/y\\in R) =\\frac{\\int_{R}f(x,y)dy}{\\int_{R}h(y)dy} \\hspace{0.5cm},h(y/x\\in R)= \\frac{\\int_{R}f(x,y)dx}{\\int_{R}g(x)dx}$$  \n",
    "\n",
    "The conditional pdfs g(x\\y) and h(y\\x) satisfy all the conditions for a pdf.  \n",
    "For a given y, g(x/y)>0 as both f(x,y) and h(y) are positive .  \n",
    "$$ \\int_{-\\infty}^\\infty g(x/y) =\\int_{-\\infty}^{\\infty} \\frac{f(x,y)}{h(y)}dx $$  \n",
    "$$= \\frac{1}{h(y)}\\int_{-\\infty}^{\\infty} f(x,y)dx$$  \n",
    "$$=\\frac{h(y)}{h(y)}=1.0$$   \n",
    "\n",
    "**Cumulative Conditional Distributions**  \n",
    "$$G(x/y) = \\int_{-\\infty}^xg(x/y)dx, H(y/x)= \\int_{-\\infty}^y h(y/x)dy$$  \n",
    "\n",
    "Let us take a small example to understand this .\n",
    "\n",
    "**Example** Consider the joint pdf \n",
    "f(x,y) = $\\frac{x(1+3y^2)}{4} \\hspace{1cm} 0\\leq x\\leq 2 \\hspace{1cm}  0\\leq y\\leq 1$  \n",
    "$\\hspace{5.5cm}= 0,elsewhere$  \n",
    "\n",
    "* Obtain h(y/x)\n",
    "\n",
    "**Ans** To obtain h(y/x) , first we obtain g(x)  \n",
    "g(x) = $\\int_{-\\infty}^\\infty f(x,y)dy  \\hspace{0.5cm} 0\\leq x \\leq 2  $ \n",
    "\n",
    " = $\\int_{0}^1\\frac{x(1+3y^2)}{4}dy$  \n",
    " \n",
    " = $\\frac {(x+1)}{4}$  \n",
    " \n",
    " h(y/x) =$\\frac{f(x,y)}{g(x)}$\n",
    " \n",
    " = $\\frac{x(1+3y^2)}{x+1}$"
   ]
  },
  {
   "cell_type": "markdown",
   "metadata": {},
   "source": [
    "# Bivariate Normal Distribution\n",
    "\n",
    "Suppose that $Z_{1} and Z_{2}$ are independent random variables, each of which has a standard normal distribution. Then the joint p.d.f. g($z_{1},z_{2}$) of $Z_{1} and Z_{2}$ is specified for all values of $z_{1} and z_{2}$ by the equation\n",
    "\n",
    "g(z1,z2) = $\\frac{1}{2\\pi}exp[\\frac{-1}{2}(z_{1}^2 + z_{2}^2)]$  \n",
    "\n",
    "where\n",
    "\n",
    "For constants $\\mu_{1}$,$\\mu_{2},\\sigma_{1},\\sigma_{2}$ and $\\rho$ such that $-\\infty$ < $\\mu_{i}$ < $\\infty$ (i = 1, 2), $\\sigma_{i} > 0$ (i = 1, 2) and -1 < $\\rho$ < 1, we shall now define two new random variables $X_{1} and X_{2}$ as follows:\n",
    "\n",
    "$X_{1}$ = $\\sigma_{1}$ $Z_{1}$ + $\\mu_{1}$\n",
    "    \n",
    "$X_{2} = \\sigma_{2}[\\rho Z_{1} +\\sqrt{1-\\rho^2} Z_{2}] + \\mu_{2}$\n",
    "\n",
    "The “regular” normal distribution has one random variable; A bivariate normal distribution is made up of two independent random variables. The two variables in a bivariate normal are both are normally distributed, and they have a normal distribution when both are added together. Visually, the bivariate normal distribution is a three-dimensional bell curve.\n",
    "\n",
    "The bivariate distribution can be described in many different ways and as such, there isn’t a unified agreement for a succinct definition. Some of the more common ways to characterize it include:\n",
    "\n",
    "* Random variables X & Y are bivariate normal if aX + bY has a normal distribution for all a,b$\\in$R.  \n",
    "\n",
    "* X and Y are jointly normal if they can be expressed as X = aU + bV, and Y = cU + dV (Bertsekas & Tsitsiklis, 2002)  \n",
    "\n",
    "* If a and b are non-zero constants, aX + bY has a normal distribution (Johnson & Kotz, 1972).  \n",
    "\n",
    "* If X - aY and Y are independent and if Y - bx and X are independent for all a,b (such that ab $\\neq$ 0 or 1), then (X,Y) has a   normal distribution (Rao, 1975).  \n",
    "\n",
    "The bivariate normal distribution arises directly and naturally in many practical problems. For example, for many populations the joint distribution of two physical characteristics such as the heights and the weights of the individuals in the population will be approximately a bivariate normal distribution. For other populations, the joint distribution of the scores of the individuals in the population on two related tests will be approximately a bivariate normal distribution."
   ]
  },
  {
   "cell_type": "markdown",
   "metadata": {},
   "source": [
    "# PDF of the Bivariate Normal Distribution\n",
    "\n",
    "The bivariate normal distribution can be defined as the probability density function (PDF) of two variables X and Y that are linear functions of the same independent normal random variables (adapted from Wolfram):\n",
    "\n",
    "P($x_{1},x_{2}) = \\frac{1}{2\\pi\\sigma_{1}\\sigma_{2}\\sqrt{1-\\rho^2}}exp[-\\frac{z}{2(1-\\rho^2)}]$\n",
    "\n",
    "Where:\n",
    "\n",
    "* μ = mean\n",
    "* &sigma = standard deviation  \n",
    "\n",
    "$$ z\\equiv \\frac{(x_{1}-\\mu_{1})^2}{\\sigma_{1}^2}-\\frac{2\\rho(x_{1}-\\mu_{1})(x_{2}-\\mu_{2})}{\\sigma_{1}\\sigma_{2}}+\\frac{(x_{1}-\\mu_{2})^2}{\\sigma_{2}^2}$$  \n",
    "\n",
    "* $$ρ\\equiv cor(x_{1}x_{2}) =\\frac{V_{12}}{\\sigma_{1}\\sigma_{2}}$$  \n",
    "where  \n",
    "* ρ correlation of x1 and x2.\n",
    "* $V_{x12} = covariance\\ of x1\\ and\\ x2$\n",
    "\n",
    "If $\\rho$ = 2, this is equal to the bivariate normal distribution.\n"
   ]
  },
  {
   "cell_type": "code",
   "execution_count": 21,
   "metadata": {},
   "outputs": [
    {
     "data": {
      "image/png": "[encoded data removed]",
      "text/plain": [
       "<Figure size 432x288 with 1 Axes>"
      ]
     },
     "metadata": {},
     "output_type": "display_data"
    }
   ],
   "source": [
    "# Displaying Bell curve (shows Bivariate normal distribution)\n",
    "\n",
    "import numpy as np\n",
    "import matplotlib.pyplot as plt\n",
    "from scipy.stats import multivariate_normal\n",
    "from mpl_toolkits.mplot3d import Axes3D\n",
    "\n",
    "#Parameters to set\n",
    "mu_x = 0\n",
    "variance_x = 3\n",
    "\n",
    "mu_y = 0\n",
    "variance_y = 15\n",
    "\n",
    "#Create grid and multivariate normal\n",
    "x = np.linspace(-10,10,500)\n",
    "y = np.linspace(-10,10,500)\n",
    "X,Y = np.meshgrid(x,y)\n",
    "\n",
    "pos = np.empty(X.shape +(2,))\n",
    "pos[:, :, 0] = X; pos[:, :,1] = Y\n",
    "\n",
    "rv = multivariate_normal([mu_x, mu_y], [[variance_x, 0], [0, variance_y]])\n",
    "\n",
    "#Make a 3D plot\n",
    "fig = plt.figure()\n",
    "ax = fig.gca(projection='3d')\n",
    "ax.plot_surface(X, Y, rv.pdf(pos),cmap='viridis',linewidth=0)\n",
    "ax.set_xlabel = 'X-axis'\n",
    "ax.set_ylabel = 'Y-axis'\n",
    "ax.set_zlabel = 'Z-axis'\n",
    "ax.set_title(label='Bell curve')\n",
    "plt.show()"
   ]
  },
  {
   "cell_type": "code",
   "execution_count": null,
   "metadata": {},
   "outputs": [],
   "source": []
  }
 ],
 "metadata": {
  "kernelspec": {
   "display_name": "Python 3",
   "language": "python",
   "name": "python3"
  },
  "language_info": {
   "codemirror_mode": {
    "name": "ipython",
    "version": 3
   },
   "file_extension": ".py",
   "mimetype": "text/x-python",
   "name": "python",
   "nbconvert_exporter": "python",
   "pygments_lexer": "ipython3",
   "version": "3.8.3"
  }
 },
 "nbformat": 4,
 "nbformat_minor": 4
}
