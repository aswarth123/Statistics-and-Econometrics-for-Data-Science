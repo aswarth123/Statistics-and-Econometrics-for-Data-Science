{
 "cells": [
  {
   "cell_type": "markdown",
   "metadata": {},
   "source": [
    "# Multiple linear regression "
   ]
  },
  {
   "cell_type": "markdown",
   "metadata": {},
   "source": [
    "Multiple regression is an extension of simple linear regression. It is used when we want to predict the value of a variable based on the value of two or more other variables. The variable we want to predict is called the dependent variable "
   ]
  },
  {
   "cell_type": "code",
   "execution_count": 19,
   "metadata": {},
   "outputs": [],
   "source": [
    "import numpy as np\n",
    "import matplotlib.pyplot as plt\n",
    "import pandas as pd\n",
    "from mpl_toolkits.mplot3d import Axes3D #Used to plot in a 3D place\n",
    "%matplotlib inline"
   ]
  },
  {
   "cell_type": "markdown",
   "metadata": {},
   "source": [
    "What np.matrix does is that when you define a list as np.matrix, it pre-calculates the inverse and transpose of that matrix and stores the values which can be called as X.I for inverse and X.T for transpose"
   ]
  },
  {
   "cell_type": "code",
   "execution_count": 2,
   "metadata": {},
   "outputs": [],
   "source": [
    "X = np.matrix([[1,6,2], #x0, study time, play time\n",
    "               [1,7,4],\n",
    "               [1,3,2],\n",
    "               [1,1,2],\n",
    "               [1,6,3]]) #multilinear data\n",
    "\n",
    "Y = np.matrix([[70],\n",
    "               [72],\n",
    "               [50],\n",
    "               [45],\n",
    "               [73]]) #multilinear labels"
   ]
  },
  {
   "cell_type": "markdown",
   "metadata": {},
   "source": [
    "## Minimise Cost Function: Specific Example\n",
    "### X: m x (n + 1)\n",
    "### m: number of training examples\n",
    "### n: number of features\n",
    "### X_transpose: (n + 1) x m\n",
    "### X_transpose * X: (n + 1) x m * m x (n + 1) = (n + 1) x (n + 1)\n",
    "### (X_transpose * X)^-1 * X_transpose: (n + 1) x (n + 1) * (n + 1) x m = (n + 1) x m\n",
    "### theta = (n + 1) x m * m x 1 = (n + 1) x 1"
   ]
  },
  {
   "cell_type": "markdown",
   "metadata": {},
   "source": [
    "Transpose of X and Y"
   ]
  },
  {
   "cell_type": "code",
   "execution_count": 4,
   "metadata": {},
   "outputs": [
    {
     "data": {
      "text/plain": [
       "(matrix([[1, 1, 1, 1, 1],\n",
       "         [6, 7, 3, 1, 6],\n",
       "         [2, 4, 2, 2, 3]]),\n",
       " matrix([[70, 72, 50, 45, 73]]))"
      ]
     },
     "execution_count": 4,
     "metadata": {},
     "output_type": "execute_result"
    }
   ],
   "source": [
    "X.T,Y.T"
   ]
  },
  {
   "cell_type": "code",
   "execution_count": 7,
   "metadata": {},
   "outputs": [],
   "source": [
    "XT = X.T\n",
    "YT = Y.T"
   ]
  },
  {
   "cell_type": "markdown",
   "metadata": {},
   "source": [
    "Dot product of two arrays"
   ]
  },
  {
   "cell_type": "code",
   "execution_count": 10,
   "metadata": {},
   "outputs": [
    {
     "data": {
      "text/plain": [
       "matrix([[  5,  23,  13],\n",
       "        [ 23, 131,  66],\n",
       "        [ 13,  66,  37]])"
      ]
     },
     "execution_count": 10,
     "metadata": {},
     "output_type": "execute_result"
    }
   ],
   "source": [
    "np.dot(XT,X)"
   ]
  },
  {
   "cell_type": "markdown",
   "metadata": {},
   "source": [
    " inverse of XTranspose.X"
   ]
  },
  {
   "cell_type": "code",
   "execution_count": 11,
   "metadata": {},
   "outputs": [
    {
     "data": {
      "text/plain": [
       "matrix([[ 2.32701422,  0.03317536, -0.87677725],\n",
       "        [ 0.03317536,  0.07582938, -0.14691943],\n",
       "        [-0.87677725, -0.14691943,  0.5971564 ]])"
      ]
     },
     "execution_count": 11,
     "metadata": {},
     "output_type": "execute_result"
    }
   ],
   "source": [
    "XTX_inv = np.dot(XT,X).I\n",
    "XTX_inv"
   ]
  },
  {
   "cell_type": "markdown",
   "metadata": {},
   "source": [
    "#### Inverse(XTX).XT.Y, we did this formula with derivation in class\n",
    "#### It is the formula to determine the bias and weights, here stored in matrix B (Theta) (Theta0,Theta1,...)"
   ]
  },
  {
   "cell_type": "code",
   "execution_count": 12,
   "metadata": {},
   "outputs": [],
   "source": [
    "theta = np.dot(XTX_inv , np.dot(XT,Y))"
   ]
  },
  {
   "cell_type": "markdown",
   "metadata": {},
   "source": [
    " #### First value is bias rest all are weights"
   ]
  },
  {
   "cell_type": "code",
   "execution_count": 14,
   "metadata": {},
   "outputs": [
    {
     "data": {
      "text/plain": [
       "matrix([[39.16587678],\n",
       "        [ 5.37914692],\n",
       "        [-0.73459716]])"
      ]
     },
     "execution_count": 14,
     "metadata": {},
     "output_type": "execute_result"
    }
   ],
   "source": [
    "theta"
   ]
  },
  {
   "cell_type": "markdown",
   "metadata": {},
   "source": [
    "#### Yhat = X.theta was the formula for predicted Y, we started off our derivation with this formula\n",
    "#### Since we wanted error to be 0, we equated Y = Yhat"
   ]
  },
  {
   "cell_type": "code",
   "execution_count": 15,
   "metadata": {},
   "outputs": [
    {
     "data": {
      "text/plain": [
       "matrix([[69.97156398],\n",
       "        [73.88151659],\n",
       "        [53.83412322],\n",
       "        [43.07582938],\n",
       "        [69.23696682]])"
      ]
     },
     "execution_count": 15,
     "metadata": {},
     "output_type": "execute_result"
    }
   ],
   "source": [
    "y_hat = np.dot(X,theta)\n",
    "y_hat"
   ]
  },
  {
   "cell_type": "markdown",
   "metadata": {},
   "source": [
    "### Taken from mpl_toolkit documentation \n",
    "##### Plane is formed due to performing multilinear regression on 2 features, performing on 3 or more features results in hyperplane, 1 feature results in line \n"
   ]
  },
  {
   "cell_type": "code",
   "execution_count": 7,
   "metadata": {},
   "outputs": [
    {
     "ename": "NameError",
     "evalue": "name 'plt' is not defined",
     "output_type": "error",
     "traceback": [
      "\u001b[0;31m---------------------------------------------------------------------------\u001b[0m",
      "\u001b[0;31mNameError\u001b[0m                                 Traceback (most recent call last)",
      "\u001b[0;32m<ipython-input-7-b2a802f7e603>\u001b[0m in \u001b[0;36m<module>\u001b[0;34m\u001b[0m\n\u001b[0;32m----> 1\u001b[0;31m \u001b[0mplt3d\u001b[0m \u001b[0;34m=\u001b[0m \u001b[0mplt\u001b[0m\u001b[0;34m.\u001b[0m\u001b[0mfigure\u001b[0m\u001b[0;34m(\u001b[0m\u001b[0mfigsize\u001b[0m\u001b[0;34m=\u001b[0m\u001b[0;34m(\u001b[0m\u001b[0;36m15\u001b[0m\u001b[0;34m,\u001b[0m\u001b[0;36m12\u001b[0m\u001b[0;34m)\u001b[0m\u001b[0;34m)\u001b[0m\u001b[0;34m.\u001b[0m\u001b[0mgca\u001b[0m\u001b[0;34m(\u001b[0m\u001b[0mprojection\u001b[0m \u001b[0;34m=\u001b[0m \u001b[0;34m'3d'\u001b[0m\u001b[0;34m)\u001b[0m\u001b[0;34m\u001b[0m\u001b[0;34m\u001b[0m\u001b[0m\n\u001b[0m\u001b[1;32m      2\u001b[0m \u001b[0mX1\u001b[0m \u001b[0;34m=\u001b[0m \u001b[0mnp\u001b[0m\u001b[0;34m.\u001b[0m\u001b[0marray\u001b[0m\u001b[0;34m(\u001b[0m\u001b[0mX\u001b[0m\u001b[0;34m[\u001b[0m\u001b[0;34m:\u001b[0m\u001b[0;34m,\u001b[0m\u001b[0;36m1\u001b[0m\u001b[0;34m]\u001b[0m\u001b[0;34m)\u001b[0m \u001b[0;31m#Array of X1 features\u001b[0m\u001b[0;34m\u001b[0m\u001b[0;34m\u001b[0m\u001b[0m\n\u001b[1;32m      3\u001b[0m \u001b[0mX2\u001b[0m \u001b[0;34m=\u001b[0m \u001b[0mnp\u001b[0m\u001b[0;34m.\u001b[0m\u001b[0marray\u001b[0m\u001b[0;34m(\u001b[0m\u001b[0mX\u001b[0m\u001b[0;34m[\u001b[0m\u001b[0;34m:\u001b[0m\u001b[0;34m,\u001b[0m\u001b[0;36m2\u001b[0m\u001b[0;34m]\u001b[0m\u001b[0;34m)\u001b[0m \u001b[0;31m#Array of X2 features\u001b[0m\u001b[0;34m\u001b[0m\u001b[0;34m\u001b[0m\u001b[0m\n\u001b[1;32m      4\u001b[0m xx , yy = np.meshgrid(range(min(X1)[0],max(X1)[0]),\n\u001b[1;32m      5\u001b[0m                       range(min(X2)[0],max(X2)[0])) #Creates a meshgrid in 3D\n",
      "\u001b[0;31mNameError\u001b[0m: name 'plt' is not defined"
     ]
    }
   ],
   "source": [
    "plt3d = plt.figure(figsize=(15,12)).gca(projection = '3d')\n",
    "X1 = np.array(X[:,1]) #Array of X1 features\n",
    "X2 = np.array(X[:,2]) #Array of X2 features\n",
    "xx , yy = np.meshgrid(range(min(X1)[0],max(X1)[0]),\n",
    "                      range(min(X2)[0],max(X2)[0])) #Creates a meshgrid in 3D\n",
    "plt3d.scatter(np.array(X[:,1]),np.array(X[:,2]),\n",
    "              np.array(Y[:,0]),color = 'blue',s=100) #Scattering of points (X1,X2,Y)\n",
    "plt3d.plot_surface(xx,yy,\n",
    "                   np.array(theta[0,0]+theta[1,0]*xx\n",
    "                            +theta[2,0]*yy),color = 'cyan') #Plots the plane formed in 3D space \n",
    "plt3d.view_init(-140,120)\n",
    "plt.xlabel('X1')\n",
    "plt.ylabel('X2')\n",
    "plt.show()\n"
   ]
  },
  {
   "cell_type": "markdown",
   "metadata": {},
   "source": [
    "### Multivariate Regression Algorithm in function"
   ]
  },
  {
   "cell_type": "markdown",
   "metadata": {},
   "source": [
    "We have now created functions to turn any dataset into aur matrix format so that we can apply our equations on it\n"
   ]
  },
  {
   "cell_type": "code",
   "execution_count": 4,
   "metadata": {},
   "outputs": [],
   "source": [
    "def make_X_mat(dataset):\n",
    "    return np.append(\n",
    "        np.ones((dataset.shape[0],1)),\n",
    "        dataset,\n",
    "        axis=1)"
   ]
  },
  {
   "cell_type": "markdown",
   "metadata": {},
   "source": [
    "Calculates weights and bias matrix for given input"
   ]
  },
  {
   "cell_type": "code",
   "execution_count": 5,
   "metadata": {},
   "outputs": [],
   "source": [
    "def get_theta(X,Y):\n",
    "    XT = X.T\n",
    "    XTX_inv = np.dot(XT,X).I\n",
    "    return np.dot(XTX_inv , np.dot(XT,Y))"
   ]
  },
  {
   "cell_type": "markdown",
   "metadata": {},
   "source": [
    "Gives prediction for given feature matrix"
   ]
  },
  {
   "cell_type": "code",
   "execution_count": 6,
   "metadata": {},
   "outputs": [],
   "source": [
    "def predict(X,theta):\n",
    "    return(np.dot(X,theta))"
   ]
  },
  {
   "cell_type": "code",
   "execution_count": null,
   "metadata": {},
   "outputs": [],
   "source": []
  }
 ],
 "metadata": {
  "kernelspec": {
   "display_name": "Python 3",
   "language": "python",
   "name": "python3"
  },
  "language_info": {
   "codemirror_mode": {
    "name": "ipython",
    "version": 3
   },
   "file_extension": ".py",
   "mimetype": "text/x-python",
   "name": "python",
   "nbconvert_exporter": "python",
   "pygments_lexer": "ipython3",
   "version": "3.7.3"
  }
 },
 "nbformat": 4,
 "nbformat_minor": 2
}
