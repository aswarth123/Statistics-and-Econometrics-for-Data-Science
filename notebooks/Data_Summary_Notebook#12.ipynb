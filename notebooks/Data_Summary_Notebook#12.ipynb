{
  "nbformat": 4,
  "nbformat_minor": 0,
  "metadata": {
    "colab": {
      "name": "Data Summary#12.ipynb",
      "provenance": []
    },
    "kernelspec": {
      "name": "python3",
      "display_name": "Python 3"
    },
    "language_info": {
      "name": "python"
    }
  },
  "cells": [
    {
      "cell_type": "markdown",
      "metadata": {
        "id": "tA8rUYfiUh9i"
      },
      "source": [
        "# **Data Summary & Statistical Analysis on Diabetes**"
      ]
    },
    {
      "cell_type": "markdown",
      "metadata": {
        "id": "PazbJppNS5Hb"
      },
      "source": [
        "### **Loading Data**"
      ]
    },
    {
      "cell_type": "code",
      "metadata": {
        "colab": {
          "base_uri": "https://localhost:8080/",
          "height": 202
        },
        "id": "vJDewPnM1OOH",
        "outputId": "cb11ea21-4d70-4c4a-bce1-cd8ab6c05dea"
      },
      "source": [
        "import numpy as np\n",
        "import pandas as pd\n",
        "data = pd.read_csv('diabetes.csv')\n",
        "data.head()"
      ],
      "execution_count": 96,
      "outputs": [
        {
          "output_type": "execute_result",
          "data": {
            "text/html": [
              "<div>\n",
              "<style scoped>\n",
              "    .dataframe tbody tr th:only-of-type {\n",
              "        vertical-align: middle;\n",
              "    }\n",
              "\n",
              "    .dataframe tbody tr th {\n",
              "        vertical-align: top;\n",
              "    }\n",
              "\n",
              "    .dataframe thead th {\n",
              "        text-align: right;\n",
              "    }\n",
              "</style>\n",
              "<table border=\"1\" class=\"dataframe\">\n",
              "  <thead>\n",
              "    <tr style=\"text-align: right;\">\n",
              "      <th></th>\n",
              "      <th>Pregnancies</th>\n",
              "      <th>Glucose</th>\n",
              "      <th>BloodPressure</th>\n",
              "      <th>SkinThickness</th>\n",
              "      <th>Insulin</th>\n",
              "      <th>BMI</th>\n",
              "      <th>DiabetesPedigreeFunction</th>\n",
              "      <th>Age</th>\n",
              "      <th>Outcome</th>\n",
              "    </tr>\n",
              "  </thead>\n",
              "  <tbody>\n",
              "    <tr>\n",
              "      <th>0</th>\n",
              "      <td>6</td>\n",
              "      <td>148</td>\n",
              "      <td>72</td>\n",
              "      <td>35</td>\n",
              "      <td>0</td>\n",
              "      <td>33.6</td>\n",
              "      <td>0.627</td>\n",
              "      <td>50</td>\n",
              "      <td>1</td>\n",
              "    </tr>\n",
              "    <tr>\n",
              "      <th>1</th>\n",
              "      <td>1</td>\n",
              "      <td>85</td>\n",
              "      <td>66</td>\n",
              "      <td>29</td>\n",
              "      <td>0</td>\n",
              "      <td>26.6</td>\n",
              "      <td>0.351</td>\n",
              "      <td>31</td>\n",
              "      <td>0</td>\n",
              "    </tr>\n",
              "    <tr>\n",
              "      <th>2</th>\n",
              "      <td>8</td>\n",
              "      <td>183</td>\n",
              "      <td>64</td>\n",
              "      <td>0</td>\n",
              "      <td>0</td>\n",
              "      <td>23.3</td>\n",
              "      <td>0.672</td>\n",
              "      <td>32</td>\n",
              "      <td>1</td>\n",
              "    </tr>\n",
              "    <tr>\n",
              "      <th>3</th>\n",
              "      <td>1</td>\n",
              "      <td>89</td>\n",
              "      <td>66</td>\n",
              "      <td>23</td>\n",
              "      <td>94</td>\n",
              "      <td>28.1</td>\n",
              "      <td>0.167</td>\n",
              "      <td>21</td>\n",
              "      <td>0</td>\n",
              "    </tr>\n",
              "    <tr>\n",
              "      <th>4</th>\n",
              "      <td>0</td>\n",
              "      <td>137</td>\n",
              "      <td>40</td>\n",
              "      <td>35</td>\n",
              "      <td>168</td>\n",
              "      <td>43.1</td>\n",
              "      <td>2.288</td>\n",
              "      <td>33</td>\n",
              "      <td>1</td>\n",
              "    </tr>\n",
              "  </tbody>\n",
              "</table>\n",
              "</div>"
            ],
            "text/plain": [
              "   Pregnancies  Glucose  BloodPressure  ...  DiabetesPedigreeFunction  Age  Outcome\n",
              "0            6      148             72  ...                     0.627   50        1\n",
              "1            1       85             66  ...                     0.351   31        0\n",
              "2            8      183             64  ...                     0.672   32        1\n",
              "3            1       89             66  ...                     0.167   21        0\n",
              "4            0      137             40  ...                     2.288   33        1\n",
              "\n",
              "[5 rows x 9 columns]"
            ]
          },
          "metadata": {
            "tags": []
          },
          "execution_count": 96
        }
      ]
    },
    {
      "cell_type": "markdown",
      "metadata": {
        "id": "ZnH9uo-zTIJt"
      },
      "source": [
        "### **Preview Dataset**"
      ]
    },
    {
      "cell_type": "code",
      "metadata": {
        "colab": {
          "base_uri": "https://localhost:8080/",
          "height": 294
        },
        "id": "bNuAWw2wS-yJ",
        "outputId": "45216d81-09d8-4987-ec37-6279132a9da1"
      },
      "source": [
        "data.describe()"
      ],
      "execution_count": 97,
      "outputs": [
        {
          "output_type": "execute_result",
          "data": {
            "text/html": [
              "<div>\n",
              "<style scoped>\n",
              "    .dataframe tbody tr th:only-of-type {\n",
              "        vertical-align: middle;\n",
              "    }\n",
              "\n",
              "    .dataframe tbody tr th {\n",
              "        vertical-align: top;\n",
              "    }\n",
              "\n",
              "    .dataframe thead th {\n",
              "        text-align: right;\n",
              "    }\n",
              "</style>\n",
              "<table border=\"1\" class=\"dataframe\">\n",
              "  <thead>\n",
              "    <tr style=\"text-align: right;\">\n",
              "      <th></th>\n",
              "      <th>Pregnancies</th>\n",
              "      <th>Glucose</th>\n",
              "      <th>BloodPressure</th>\n",
              "      <th>SkinThickness</th>\n",
              "      <th>Insulin</th>\n",
              "      <th>BMI</th>\n",
              "      <th>DiabetesPedigreeFunction</th>\n",
              "      <th>Age</th>\n",
              "      <th>Outcome</th>\n",
              "    </tr>\n",
              "  </thead>\n",
              "  <tbody>\n",
              "    <tr>\n",
              "      <th>count</th>\n",
              "      <td>768.000000</td>\n",
              "      <td>768.000000</td>\n",
              "      <td>768.000000</td>\n",
              "      <td>768.000000</td>\n",
              "      <td>768.000000</td>\n",
              "      <td>768.000000</td>\n",
              "      <td>768.000000</td>\n",
              "      <td>768.000000</td>\n",
              "      <td>768.000000</td>\n",
              "    </tr>\n",
              "    <tr>\n",
              "      <th>mean</th>\n",
              "      <td>3.845052</td>\n",
              "      <td>120.894531</td>\n",
              "      <td>69.105469</td>\n",
              "      <td>20.536458</td>\n",
              "      <td>79.799479</td>\n",
              "      <td>31.992578</td>\n",
              "      <td>0.471876</td>\n",
              "      <td>33.240885</td>\n",
              "      <td>0.348958</td>\n",
              "    </tr>\n",
              "    <tr>\n",
              "      <th>std</th>\n",
              "      <td>3.369578</td>\n",
              "      <td>31.972618</td>\n",
              "      <td>19.355807</td>\n",
              "      <td>15.952218</td>\n",
              "      <td>115.244002</td>\n",
              "      <td>7.884160</td>\n",
              "      <td>0.331329</td>\n",
              "      <td>11.760232</td>\n",
              "      <td>0.476951</td>\n",
              "    </tr>\n",
              "    <tr>\n",
              "      <th>min</th>\n",
              "      <td>0.000000</td>\n",
              "      <td>0.000000</td>\n",
              "      <td>0.000000</td>\n",
              "      <td>0.000000</td>\n",
              "      <td>0.000000</td>\n",
              "      <td>0.000000</td>\n",
              "      <td>0.078000</td>\n",
              "      <td>21.000000</td>\n",
              "      <td>0.000000</td>\n",
              "    </tr>\n",
              "    <tr>\n",
              "      <th>25%</th>\n",
              "      <td>1.000000</td>\n",
              "      <td>99.000000</td>\n",
              "      <td>62.000000</td>\n",
              "      <td>0.000000</td>\n",
              "      <td>0.000000</td>\n",
              "      <td>27.300000</td>\n",
              "      <td>0.243750</td>\n",
              "      <td>24.000000</td>\n",
              "      <td>0.000000</td>\n",
              "    </tr>\n",
              "    <tr>\n",
              "      <th>50%</th>\n",
              "      <td>3.000000</td>\n",
              "      <td>117.000000</td>\n",
              "      <td>72.000000</td>\n",
              "      <td>23.000000</td>\n",
              "      <td>30.500000</td>\n",
              "      <td>32.000000</td>\n",
              "      <td>0.372500</td>\n",
              "      <td>29.000000</td>\n",
              "      <td>0.000000</td>\n",
              "    </tr>\n",
              "    <tr>\n",
              "      <th>75%</th>\n",
              "      <td>6.000000</td>\n",
              "      <td>140.250000</td>\n",
              "      <td>80.000000</td>\n",
              "      <td>32.000000</td>\n",
              "      <td>127.250000</td>\n",
              "      <td>36.600000</td>\n",
              "      <td>0.626250</td>\n",
              "      <td>41.000000</td>\n",
              "      <td>1.000000</td>\n",
              "    </tr>\n",
              "    <tr>\n",
              "      <th>max</th>\n",
              "      <td>17.000000</td>\n",
              "      <td>199.000000</td>\n",
              "      <td>122.000000</td>\n",
              "      <td>99.000000</td>\n",
              "      <td>846.000000</td>\n",
              "      <td>67.100000</td>\n",
              "      <td>2.420000</td>\n",
              "      <td>81.000000</td>\n",
              "      <td>1.000000</td>\n",
              "    </tr>\n",
              "  </tbody>\n",
              "</table>\n",
              "</div>"
            ],
            "text/plain": [
              "       Pregnancies     Glucose  ...         Age     Outcome\n",
              "count   768.000000  768.000000  ...  768.000000  768.000000\n",
              "mean      3.845052  120.894531  ...   33.240885    0.348958\n",
              "std       3.369578   31.972618  ...   11.760232    0.476951\n",
              "min       0.000000    0.000000  ...   21.000000    0.000000\n",
              "25%       1.000000   99.000000  ...   24.000000    0.000000\n",
              "50%       3.000000  117.000000  ...   29.000000    0.000000\n",
              "75%       6.000000  140.250000  ...   41.000000    1.000000\n",
              "max      17.000000  199.000000  ...   81.000000    1.000000\n",
              "\n",
              "[8 rows x 9 columns]"
            ]
          },
          "metadata": {
            "tags": []
          },
          "execution_count": 97
        }
      ]
    },
    {
      "cell_type": "code",
      "metadata": {
        "colab": {
          "base_uri": "https://localhost:8080/"
        },
        "id": "wYpZl5GFTC_f",
        "outputId": "8bea4436-4a5e-44f1-e64c-46ae45b43674"
      },
      "source": [
        "data.info()"
      ],
      "execution_count": 98,
      "outputs": [
        {
          "output_type": "stream",
          "text": [
            "<class 'pandas.core.frame.DataFrame'>\n",
            "RangeIndex: 768 entries, 0 to 767\n",
            "Data columns (total 9 columns):\n",
            " #   Column                    Non-Null Count  Dtype  \n",
            "---  ------                    --------------  -----  \n",
            " 0   Pregnancies               768 non-null    int64  \n",
            " 1   Glucose                   768 non-null    int64  \n",
            " 2   BloodPressure             768 non-null    int64  \n",
            " 3   SkinThickness             768 non-null    int64  \n",
            " 4   Insulin                   768 non-null    int64  \n",
            " 5   BMI                       768 non-null    float64\n",
            " 6   DiabetesPedigreeFunction  768 non-null    float64\n",
            " 7   Age                       768 non-null    int64  \n",
            " 8   Outcome                   768 non-null    int64  \n",
            "dtypes: float64(2), int64(7)\n",
            "memory usage: 54.1 KB\n"
          ],
          "name": "stdout"
        }
      ]
    },
    {
      "cell_type": "markdown",
      "metadata": {
        "id": "4dH_s4q4CSLj"
      },
      "source": [
        "## **Statistical Inference with Confidence Intervals**\n",
        "\n",
        "The confidence interval is a range of reasonable values of Parameter of Interest. We calculate lower confidence bound and upper confidence bound; the Center of lcb, ucb is the best point estimate. 95% confidence level refers to our confidence in the statistical procedure used to make this interval.\n",
        "\n",
        "If 95% of the confidence interval is there, when we draw 100 samples from the population and make intervals on these 100 samples, then we would expect 95 intervals to contain accurate population inference.\n",
        "\n",
        "**Why Confidence Intervals?**\n",
        "\n",
        "Confidence intervals are a calculated range or boundary around a parameter, or a statistic supported mathematically with a certain level of confidence. For example, in the lecture, we estimated, with 95% confidence, that the population proportion of parents with a toddler that uses a car seat for all travel with their toddler was somewhere between 82.2% and 87.7%.\n",
        "\n",
        "This is different than having a 95% probability that the proper population proportion is within our confidence interval.\n",
        "Essentially, if we were to repeat this process, 95% of our calculated confidence intervals would contain the true proportion.\n",
        "\n",
        "**How are Confidence Intervals Calculated?**\n",
        "\n",
        "Our equation for calculating confidence intervals is as follows:\n",
        "\n",
        "   **Best Estimate $\\pm$ Margin of Error**\n",
        "\n",
        " \n",
        "Where the Best Estimate is the observed population proportion or mean and the Margin of Error is the t-multiplier.\n",
        "\n",
        "The t-multiplier is calculated based on the degrees of freedom and desired confidence level. For samples with more than 30 observations and a confidence level of 95%, the t-multiplier is 1.96\n",
        "\n",
        "The equation to create a 95% confidence interval can also be shown as:\n",
        "\n",
        "**$Population\\ Proportion\\ or\\  Mean$ $\\pm$ (t - $Multiplier\\ *\\ Standard\\ Error$)** \n",
        "\n",
        " \n",
        " \n",
        "Lastly, the Standard Error is calculated differenly for population proportion and mean:\n",
        " \n",
        " $Standard\\ Error\\ for\\ Population\\ Proportion= \\sqrt{ \\frac{Population\\ Proportion\\ *\\ (1-Population\\ Proportion)}{Number\\ of\\ Observations}}$\n",
        "\n",
        "\n",
        " $Standard\\ Error\\ for\\ Mean= \\frac{Standard\\ Deviation}{\\sqrt{Number\\ of\\ Observations}}$\n",
        " \n",
        " \n",
        " "
      ]
    },
    {
      "cell_type": "markdown",
      "metadata": {
        "id": "O5heyKCFUAo6"
      },
      "source": [
        "There are few assumption for finding confidence interval. I am assuming that dataset provided is holding true to those assumptions\n",
        "\n",
        "1) Samples are SRS(Simple Random Sampling)->(Every observation in Population have equal chance of being selected)\n",
        "\n",
        "2) Normality (Distribution of desired variable is normal)\n",
        "\n",
        "3) If in case distribution of some parameter of interest is not distributed normal, we may assume normallity using Central Limit Theorem, Larger sample size -> Normality "
      ]
    },
    {
      "cell_type": "markdown",
      "metadata": {
        "id": "o9rUr-yQDxSF"
      },
      "source": [
        "## **The proportion of people who report they have diabetes**"
      ]
    },
    {
      "cell_type": "code",
      "metadata": {
        "colab": {
          "base_uri": "https://localhost:8080/"
        },
        "id": "7NAnx2vP1sGt",
        "outputId": "ea680577-0905-4269-f62e-8c3bec2f0d28"
      },
      "source": [
        "data.Outcome.replace({0:'Non-Diab',1:'Diab'},inplace=True)\n",
        "print(data.Outcome.value_counts())"
      ],
      "execution_count": 99,
      "outputs": [
        {
          "output_type": "stream",
          "text": [
            "Non-Diab    500\n",
            "Diab        268\n",
            "Name: Outcome, dtype: int64\n"
          ],
          "name": "stdout"
        }
      ]
    },
    {
      "cell_type": "code",
      "metadata": {
        "id": "0Sa6vEYX4vNu"
      },
      "source": [
        "class Proportion:\n",
        "    def __init__(self,n_yes,n,x):   #X multiplier from appropriate distribution based on desired confidence level and sample design\n",
        "        self.n_yes=n_yes\n",
        "        self.n=n\n",
        "        self.x=x\n",
        "        self.best_estimate = round(n_yes/n,2)\n",
        "        \n",
        "    def estimated_standard_error(self):\n",
        "        import numpy as np\n",
        "        return np.sqrt((self.best_estimate*(1-self.best_estimate))/self.n)\n",
        "    \n",
        "    def margin_of_error(self):\n",
        "        return self.x*self.estimated_standard_error()\n",
        "\n",
        "    def proportion(self):\n",
        "        lcb=self.best_estimate-(self.x*self.estimated_standard_error())\n",
        "        ucb=self.best_estimate+(self.x*self.estimated_standard_error())\n",
        "        return (lcb,ucb)"
      ],
      "execution_count": 100,
      "outputs": []
    },
    {
      "cell_type": "code",
      "metadata": {
        "colab": {
          "base_uri": "https://localhost:8080/"
        },
        "id": "PpaJhFJ51wvx",
        "outputId": "e725a416-0af8-4195-8551-639a4ef88884"
      },
      "source": [
        "n=data.shape[0]\n",
        "diabetic=data.Outcome.value_counts().loc['Diab']\n",
        "print(\"\\nTotal Observation->\",n,\"\\t\",\"Diabetic Patient Number->\",diabetic,\"\\n\")\n",
        "diab_pro=Proportion(diabetic, n ,1.96)  # using z=1.96 for 95% C.I here."
      ],
      "execution_count": 101,
      "outputs": [
        {
          "output_type": "stream",
          "text": [
            "\n",
            "Total Observation-> 768 \t Diabetic Patient Number-> 268 \n",
            "\n"
          ],
          "name": "stdout"
        }
      ]
    },
    {
      "cell_type": "code",
      "metadata": {
        "colab": {
          "base_uri": "https://localhost:8080/"
        },
        "id": "TXe2Ym8Y46FV",
        "outputId": "0565e01f-4739-4d40-8957-eb1a7b68c671"
      },
      "source": [
        "print(\"\\nBest Point Estimate for Proportion of People with Diabetes =\",diab_pro.best_estimate*100)\n",
        "print(\"\\nEstimated Standard Error for Proportion of People with Diabetes =\", diab_pro.estimated_standard_error())\n",
        "print(\"\\nMargin of Error is for Proportion of People with Diabetes =\", diab_pro.margin_of_error())\n",
        "print(\"\\n95% Confidence Interval for Proportion of People with Diabetes =\", diab_pro.proportion(),\"\\n\")"
      ],
      "execution_count": 102,
      "outputs": [
        {
          "output_type": "stream",
          "text": [
            "\n",
            "Best Point Estimate for Proportion of People with Diabetes = 35.0\n",
            "\n",
            "Estimated Standard Error for Proportion of People with Diabetes = 0.017211157960269067\n",
            "\n",
            "Margin of Error is for Proportion of People with Diabetes = 0.03373386960212737\n",
            "\n",
            "95% Confidence Interval for Proportion of People with Diabetes = (0.3162661303978726, 0.38373386960212735) \n",
            "\n"
          ],
          "name": "stdout"
        }
      ]
    },
    {
      "cell_type": "code",
      "metadata": {
        "colab": {
          "base_uri": "https://localhost:8080/"
        },
        "id": "VHuT-DfD4-Rb",
        "outputId": "08936914-c992-4637-d48a-fb5f2dedb166"
      },
      "source": [
        "import statsmodels.api as sm\n",
        "print(\"\\n95% Confidence interval with the statsmodels library ->\",sm.stats.proportion_confint(diabetic, n),\"\\n\")"
      ],
      "execution_count": 103,
      "outputs": [
        {
          "output_type": "stream",
          "text": [
            "\n",
            "95% Confidence interval with the statsmodels library -> (0.3152483405027714, 0.38266832616389523) \n",
            "\n"
          ],
          "name": "stdout"
        }
      ]
    },
    {
      "cell_type": "markdown",
      "metadata": {
        "id": "m1IIH571GgBM"
      },
      "source": [
        "**Interpreting Confidence Interval about Proportion of People with Diabetes**\n",
        "\n",
        "With 95% confidence, the population proportion of people having diabetes is estimated to be between 31.52% - 38.26%."
      ]
    },
    {
      "cell_type": "markdown",
      "metadata": {
        "id": "pTIn_Y-EGoxq"
      },
      "source": [
        "## **Average month of Pregnancy for Patients with diabetes**\n",
        "\n",
        "Population is all Patients with Diabetes\n",
        "\n",
        "Parameter of Interest is the Population Mean Pregnancy Month of Patients with diabetes."
      ]
    },
    {
      "cell_type": "code",
      "metadata": {
        "colab": {
          "base_uri": "https://localhost:8080/",
          "height": 202
        },
        "id": "T4LQY-D65DKl",
        "outputId": "43f895cb-0186-4950-9617-77fb1dd0c1af"
      },
      "source": [
        "data_diabetic = data[data.Outcome=='Diab']\n",
        "data_diabetic.head()"
      ],
      "execution_count": 104,
      "outputs": [
        {
          "output_type": "execute_result",
          "data": {
            "text/html": [
              "<div>\n",
              "<style scoped>\n",
              "    .dataframe tbody tr th:only-of-type {\n",
              "        vertical-align: middle;\n",
              "    }\n",
              "\n",
              "    .dataframe tbody tr th {\n",
              "        vertical-align: top;\n",
              "    }\n",
              "\n",
              "    .dataframe thead th {\n",
              "        text-align: right;\n",
              "    }\n",
              "</style>\n",
              "<table border=\"1\" class=\"dataframe\">\n",
              "  <thead>\n",
              "    <tr style=\"text-align: right;\">\n",
              "      <th></th>\n",
              "      <th>Pregnancies</th>\n",
              "      <th>Glucose</th>\n",
              "      <th>BloodPressure</th>\n",
              "      <th>SkinThickness</th>\n",
              "      <th>Insulin</th>\n",
              "      <th>BMI</th>\n",
              "      <th>DiabetesPedigreeFunction</th>\n",
              "      <th>Age</th>\n",
              "      <th>Outcome</th>\n",
              "    </tr>\n",
              "  </thead>\n",
              "  <tbody>\n",
              "    <tr>\n",
              "      <th>0</th>\n",
              "      <td>6</td>\n",
              "      <td>148</td>\n",
              "      <td>72</td>\n",
              "      <td>35</td>\n",
              "      <td>0</td>\n",
              "      <td>33.6</td>\n",
              "      <td>0.627</td>\n",
              "      <td>50</td>\n",
              "      <td>Diab</td>\n",
              "    </tr>\n",
              "    <tr>\n",
              "      <th>2</th>\n",
              "      <td>8</td>\n",
              "      <td>183</td>\n",
              "      <td>64</td>\n",
              "      <td>0</td>\n",
              "      <td>0</td>\n",
              "      <td>23.3</td>\n",
              "      <td>0.672</td>\n",
              "      <td>32</td>\n",
              "      <td>Diab</td>\n",
              "    </tr>\n",
              "    <tr>\n",
              "      <th>4</th>\n",
              "      <td>0</td>\n",
              "      <td>137</td>\n",
              "      <td>40</td>\n",
              "      <td>35</td>\n",
              "      <td>168</td>\n",
              "      <td>43.1</td>\n",
              "      <td>2.288</td>\n",
              "      <td>33</td>\n",
              "      <td>Diab</td>\n",
              "    </tr>\n",
              "    <tr>\n",
              "      <th>6</th>\n",
              "      <td>3</td>\n",
              "      <td>78</td>\n",
              "      <td>50</td>\n",
              "      <td>32</td>\n",
              "      <td>88</td>\n",
              "      <td>31.0</td>\n",
              "      <td>0.248</td>\n",
              "      <td>26</td>\n",
              "      <td>Diab</td>\n",
              "    </tr>\n",
              "    <tr>\n",
              "      <th>8</th>\n",
              "      <td>2</td>\n",
              "      <td>197</td>\n",
              "      <td>70</td>\n",
              "      <td>45</td>\n",
              "      <td>543</td>\n",
              "      <td>30.5</td>\n",
              "      <td>0.158</td>\n",
              "      <td>53</td>\n",
              "      <td>Diab</td>\n",
              "    </tr>\n",
              "  </tbody>\n",
              "</table>\n",
              "</div>"
            ],
            "text/plain": [
              "   Pregnancies  Glucose  BloodPressure  ...  DiabetesPedigreeFunction  Age  Outcome\n",
              "0            6      148             72  ...                     0.627   50     Diab\n",
              "2            8      183             64  ...                     0.672   32     Diab\n",
              "4            0      137             40  ...                     2.288   33     Diab\n",
              "6            3       78             50  ...                     0.248   26     Diab\n",
              "8            2      197             70  ...                     0.158   53     Diab\n",
              "\n",
              "[5 rows x 9 columns]"
            ]
          },
          "metadata": {
            "tags": []
          },
          "execution_count": 104
        }
      ]
    },
    {
      "cell_type": "code",
      "metadata": {
        "id": "7XssFx7Yj5PA"
      },
      "source": [
        "class Mean:\n",
        "    import numpy as np\n",
        "    def __init__(self,mean,std,n,t):  #t multiplier comes from t distribution with n-1 degree of freedom\n",
        "        self.best_estimate = mean\n",
        "        self.std=std\n",
        "        self.n=n\n",
        "        self.t=t\n",
        "        self.estimated_se=self.std/np.sqrt(self.n)\n",
        "        \n",
        "    def moe(self):\n",
        "        return self.t*self.estimated_se\n",
        "    \n",
        "    def mean(self):\n",
        "        lcb = self.best_estimate-self.moe()\n",
        "        ucb = self.best_estimate-self.moe()\n",
        "        return (lcb,ucb)"
      ],
      "execution_count": 105,
      "outputs": []
    },
    {
      "cell_type": "code",
      "metadata": {
        "id": "_hgyMKtY5Hqq"
      },
      "source": [
        "mean_preg_diab=Mean(data_diabetic['Pregnancies'].mean(),data_diabetic['Pregnancies'].std(),data_diabetic.shape[0],1.962)"
      ],
      "execution_count": 106,
      "outputs": []
    },
    {
      "cell_type": "code",
      "metadata": {
        "id": "6fcN8l3Q5KgR",
        "colab": {
          "base_uri": "https://localhost:8080/"
        },
        "outputId": "ef157c35-c032-442f-b990-6c8f17afb42f"
      },
      "source": [
        "print(\"Best point estimate for Mean Pregnancy Month of Patients with Diabetes ->\", mean_preg_diab.best_estimate)\n",
        "print(\"\\nEstimated Standard Error for Mean Pregnancy Month of Patients with Diabetes ->\",mean_preg_diab.estimated_se)\n",
        "print(\"\\nMargin of Error for Mean Pregnancy Month of Patients with Diabetes ->\",mean_preg_diab.moe())\n",
        "print(\"\\n95% Confidence Interval for Mean Pregnancy Month of Patients with Diabetes ->\",mean_preg_diab.mean(),\"\\n\")"
      ],
      "execution_count": 107,
      "outputs": [
        {
          "output_type": "stream",
          "text": [
            "Best point estimate for Mean Pregnancy Month of Patients with Diabetes -> 4.865671641791045\n",
            "\n",
            "Estimated Standard Error for Mean Pregnancy Month of Patients with Diabetes -> 0.2285325476073356\n",
            "\n",
            "Margin of Error for Mean Pregnancy Month of Patients with Diabetes -> 0.44838085840559244\n",
            "\n",
            "95% Confidence Interval for Mean Pregnancy Month of Patients with Diabetes -> (4.417290783385453, 4.417290783385453) \n",
            "\n"
          ],
          "name": "stdout"
        }
      ]
    },
    {
      "cell_type": "code",
      "metadata": {
        "id": "Nvo86gGo5aX-",
        "colab": {
          "base_uri": "https://localhost:8080/"
        },
        "outputId": "a6035aa1-034a-43bb-cf3d-f095d2c62837"
      },
      "source": [
        "print(\"\\n95% C.I. with the statsmodels library ->\",sm.stats.DescrStatsW(data_diabetic['Pregnancies']).zconfint_mean())"
      ],
      "execution_count": 108,
      "outputs": [
        {
          "output_type": "stream",
          "text": [
            "\n",
            "95% C.I. with the statsmodels library -> (4.417756079185482, 5.313587204396608)\n"
          ],
          "name": "stdout"
        }
      ]
    },
    {
      "cell_type": "code",
      "metadata": {
        "id": "OLTFkWB75pIT"
      },
      "source": [
        "import matplotlib.pyplot as plt\n",
        "import seaborn as sns\n",
        "# sns.set_style('darkgrid')\n",
        "%matplotlib inline"
      ],
      "execution_count": 109,
      "outputs": []
    },
    {
      "cell_type": "markdown",
      "metadata": {
        "id": "2N-273rkgrS7"
      },
      "source": [
        "**Pregnancies Distribution for Diabetic Patients**"
      ]
    },
    {
      "cell_type": "code",
      "metadata": {
        "id": "wjB3vSZ_5e8B",
        "colab": {
          "base_uri": "https://localhost:8080/",
          "height": 455
        },
        "outputId": "c2904760-b50c-4072-ab67-92420c6c92ef"
      },
      "source": [
        "plt.figure(dpi=120,figsize=(5,3))\n",
        "sns.distplot(data_diabetic['Pregnancies'],color='red')\n",
        "plt.axvline(x=4.417756079185482,color='blue',ls=':')\n",
        "plt.axvline(x=5.313587204396608,color='blue',ls=':')\n",
        "plt.axvline(x=mean_preg_diab.best_estimate,color='black',ls='--')\n",
        "plt.xticks([4.417756079185482,5.313587204396608],['lcb','ucb'],rotation=90)\n",
        "plt.xlabel('Pregnancy Class for Diabetic Patients',fontdict={'fontsize':9})\n",
        "plt.ylabel('Count/Distribution',fontdict={'fontsize':9})\n",
        "plt.title('Pregnancies Distribution for Diabetic Patients',fontdict={'fontsize':10}) \n",
        "plt.show()"
      ],
      "execution_count": 110,
      "outputs": [
        {
          "output_type": "stream",
          "text": [
            "/usr/local/lib/python3.7/dist-packages/seaborn/distributions.py:2557: FutureWarning: `distplot` is a deprecated function and will be removed in a future version. Please adapt your code to use either `displot` (a figure-level function with similar flexibility) or `histplot` (an axes-level function for histograms).\n",
            "  warnings.warn(msg, FutureWarning)\n"
          ],
          "name": "stderr"
        },
        {
          "output_type": "display_data",
          "data": {
            "image/png": "[encoded data removed]",
            "text/plain": [
              "<Figure size 600x360 with 1 Axes>"
            ]
          },
          "metadata": {
            "tags": [],
            "needs_background": "light"
          }
        }
      ]
    },
    {
      "cell_type": "markdown",
      "metadata": {
        "id": "FMuO_cpiG_0y"
      },
      "source": [
        "**Interpretation**\n",
        "\n",
        "With 95% confidence, the population mean Pregnancies for all Patients with Diabetes is estimated to be between 4.417 months and 5.314 months.\n",
        "Note that our Best Point Estimate is center of our confidence intervale."
      ]
    },
    {
      "cell_type": "markdown",
      "metadata": {
        "id": "IDRYkoVAHL8K"
      },
      "source": [
        "## **Average month of Pregnancy for non diabetic patients**\n",
        "\n",
        "Population is all Non diabetic patients\n",
        "\n",
        "Parameter of Interest is the Population Mean Pregnancy Month for non diabetic patients."
      ]
    },
    {
      "cell_type": "code",
      "metadata": {
        "id": "JMJY5UU-57hz",
        "colab": {
          "base_uri": "https://localhost:8080/",
          "height": 202
        },
        "outputId": "c26494c0-20c6-4c2b-a37f-923a3aabd0ba"
      },
      "source": [
        "data_non_diabetic=data[data.Outcome=='Non-Diab']\n",
        "data_non_diabetic.head()"
      ],
      "execution_count": 111,
      "outputs": [
        {
          "output_type": "execute_result",
          "data": {
            "text/html": [
              "<div>\n",
              "<style scoped>\n",
              "    .dataframe tbody tr th:only-of-type {\n",
              "        vertical-align: middle;\n",
              "    }\n",
              "\n",
              "    .dataframe tbody tr th {\n",
              "        vertical-align: top;\n",
              "    }\n",
              "\n",
              "    .dataframe thead th {\n",
              "        text-align: right;\n",
              "    }\n",
              "</style>\n",
              "<table border=\"1\" class=\"dataframe\">\n",
              "  <thead>\n",
              "    <tr style=\"text-align: right;\">\n",
              "      <th></th>\n",
              "      <th>Pregnancies</th>\n",
              "      <th>Glucose</th>\n",
              "      <th>BloodPressure</th>\n",
              "      <th>SkinThickness</th>\n",
              "      <th>Insulin</th>\n",
              "      <th>BMI</th>\n",
              "      <th>DiabetesPedigreeFunction</th>\n",
              "      <th>Age</th>\n",
              "      <th>Outcome</th>\n",
              "    </tr>\n",
              "  </thead>\n",
              "  <tbody>\n",
              "    <tr>\n",
              "      <th>1</th>\n",
              "      <td>1</td>\n",
              "      <td>85</td>\n",
              "      <td>66</td>\n",
              "      <td>29</td>\n",
              "      <td>0</td>\n",
              "      <td>26.6</td>\n",
              "      <td>0.351</td>\n",
              "      <td>31</td>\n",
              "      <td>Non-Diab</td>\n",
              "    </tr>\n",
              "    <tr>\n",
              "      <th>3</th>\n",
              "      <td>1</td>\n",
              "      <td>89</td>\n",
              "      <td>66</td>\n",
              "      <td>23</td>\n",
              "      <td>94</td>\n",
              "      <td>28.1</td>\n",
              "      <td>0.167</td>\n",
              "      <td>21</td>\n",
              "      <td>Non-Diab</td>\n",
              "    </tr>\n",
              "    <tr>\n",
              "      <th>5</th>\n",
              "      <td>5</td>\n",
              "      <td>116</td>\n",
              "      <td>74</td>\n",
              "      <td>0</td>\n",
              "      <td>0</td>\n",
              "      <td>25.6</td>\n",
              "      <td>0.201</td>\n",
              "      <td>30</td>\n",
              "      <td>Non-Diab</td>\n",
              "    </tr>\n",
              "    <tr>\n",
              "      <th>7</th>\n",
              "      <td>10</td>\n",
              "      <td>115</td>\n",
              "      <td>0</td>\n",
              "      <td>0</td>\n",
              "      <td>0</td>\n",
              "      <td>35.3</td>\n",
              "      <td>0.134</td>\n",
              "      <td>29</td>\n",
              "      <td>Non-Diab</td>\n",
              "    </tr>\n",
              "    <tr>\n",
              "      <th>10</th>\n",
              "      <td>4</td>\n",
              "      <td>110</td>\n",
              "      <td>92</td>\n",
              "      <td>0</td>\n",
              "      <td>0</td>\n",
              "      <td>37.6</td>\n",
              "      <td>0.191</td>\n",
              "      <td>30</td>\n",
              "      <td>Non-Diab</td>\n",
              "    </tr>\n",
              "  </tbody>\n",
              "</table>\n",
              "</div>"
            ],
            "text/plain": [
              "    Pregnancies  Glucose  ...  Age   Outcome\n",
              "1             1       85  ...   31  Non-Diab\n",
              "3             1       89  ...   21  Non-Diab\n",
              "5             5      116  ...   30  Non-Diab\n",
              "7            10      115  ...   29  Non-Diab\n",
              "10            4      110  ...   30  Non-Diab\n",
              "\n",
              "[5 rows x 9 columns]"
            ]
          },
          "metadata": {
            "tags": []
          },
          "execution_count": 111
        }
      ]
    },
    {
      "cell_type": "code",
      "metadata": {
        "id": "PKPzvKVI6Ag2"
      },
      "source": [
        "mean_preg_non_diab = Mean(data_non_diabetic['Pregnancies'].mean(),data_non_diabetic['Pregnancies'].std(),data_non_diabetic.shape[0],1.962)"
      ],
      "execution_count": 112,
      "outputs": []
    },
    {
      "cell_type": "code",
      "metadata": {
        "id": "PVvgykEM6EsG",
        "colab": {
          "base_uri": "https://localhost:8080/"
        },
        "outputId": "5fab7646-1eac-4934-812f-c23a3d87b752"
      },
      "source": [
        "print(\"\\nBest point estimate for Mean Pregnancy Month of non diabetic patients ->\", mean_preg_non_diab.best_estimate)\n",
        "print(\"\\nEstimated Standard Error for Mean Pregnancy Month of non diabetic patients ->\",mean_preg_non_diab.estimated_se)\n",
        "print(\"\\nMargin of Error for Mean Pregnancy Month of non diabetic patients ->\",mean_preg_non_diab.moe())\n",
        "print(\"\\n95% Confidence Interval for Mean Pregnancy Month of non diabetic patients -> \",mean_preg_non_diab.mean(),\"\\n\")"
      ],
      "execution_count": 113,
      "outputs": [
        {
          "output_type": "stream",
          "text": [
            "\n",
            "Best point estimate for Mean Pregnancy Month of non diabetic patients -> 3.298\n",
            "\n",
            "Estimated Standard Error for Mean Pregnancy Month of non diabetic patients -> 0.13493259654813752\n",
            "\n",
            "Margin of Error for Mean Pregnancy Month of non diabetic patients -> 0.2647377544274458\n",
            "\n",
            "95% Confidence Interval for Mean Pregnancy Month of non diabetic patients ->  (3.0332622455725544, 3.0332622455725544) \n",
            "\n"
          ],
          "name": "stdout"
        }
      ]
    },
    {
      "cell_type": "code",
      "metadata": {
        "id": "iK-2Oj0a6JJe",
        "colab": {
          "base_uri": "https://localhost:8080/"
        },
        "outputId": "9dc38d22-bcb0-421a-d06b-216fb1394f58"
      },
      "source": [
        "print(\"\\n95% C.I. with statsmodels library ->\",sm.stats.DescrStatsW(data_non_diabetic['Pregnancies']).zconfint_mean())\n"
      ],
      "execution_count": 114,
      "outputs": [
        {
          "output_type": "stream",
          "text": [
            "\n",
            "95% C.I. with statsmodels library -> (3.033536970425177, 3.562463029574823)\n"
          ],
          "name": "stdout"
        }
      ]
    },
    {
      "cell_type": "markdown",
      "metadata": {
        "id": "0O6UpyJxgfWy"
      },
      "source": [
        "**Pregnancies Distribution for Non Diabetic Patients** "
      ]
    },
    {
      "cell_type": "code",
      "metadata": {
        "id": "kBTwKtqp6M2X",
        "colab": {
          "base_uri": "https://localhost:8080/",
          "height": 455
        },
        "outputId": "5a8ec8ec-46a2-41ca-ecc6-b1bde7c6711b"
      },
      "source": [
        "plt.figure(dpi=120,figsize=(5,3))\n",
        "sns.distplot(data_non_diabetic['Pregnancies'],color='red')\n",
        "plt.axvline(x=3.033536970425177,color='blue',ls=':')\n",
        "plt.axvline(x=3.562463029574823,color='blue',ls=':')\n",
        "plt.axvline(x=mean_preg_non_diab.best_estimate,color='black',ls='--')\n",
        "plt.xticks([3.033536970425177, 3.562463029574823],['lcb','ucb'],rotation=90)\n",
        "plt.xlabel('Pregnancy Class for Non Diabetic Patients',fontdict={'fontsize':9})\n",
        "plt.ylabel('Count/Distribution',fontdict={'fontsize':9})\n",
        "plt.title('Pregnancies Distribution for Non Diabetic Patients',fontdict={'fontsize':10}) \n",
        "plt.show()"
      ],
      "execution_count": 115,
      "outputs": [
        {
          "output_type": "stream",
          "text": [
            "/usr/local/lib/python3.7/dist-packages/seaborn/distributions.py:2557: FutureWarning: `distplot` is a deprecated function and will be removed in a future version. Please adapt your code to use either `displot` (a figure-level function with similar flexibility) or `histplot` (an axes-level function for histograms).\n",
            "  warnings.warn(msg, FutureWarning)\n"
          ],
          "name": "stderr"
        },
        {
          "output_type": "display_data",
          "data": {
            "image/png": "[encoded data removed]",
            "text/plain": [
              "<Figure size 600x360 with 1 Axes>"
            ]
          },
          "metadata": {
            "tags": [],
            "needs_background": "light"
          }
        }
      ]
    },
    {
      "cell_type": "markdown",
      "metadata": {
        "id": "pSPDhy3NI3gp"
      },
      "source": [
        "**Interpretation**\n",
        "\n",
        "With 95% confidence, the population mean Pregnancies for all non diabetic Patients is estimated to be between 3.033 months and 3.562 months.\n",
        "It can be observed that our Best Point Estimate is center of our confidence intervale."
      ]
    },
    {
      "cell_type": "markdown",
      "metadata": {
        "id": "EEED4UZFJTT7"
      },
      "source": [
        "## **Difference in mean pregnancies month of diabetic and non-diabetic patients**\n",
        "\n",
        "Parameter of Interest -> (μ1 − μ2 ): Pregnancies Month\n",
        "\n",
        "where:\n",
        "\n",
        "μ1-> Mean pregnancies month of Diabetic Patients.\n",
        "\n",
        "μ1-> Mean pregnancies month of Non-Diabetic Patients.\n",
        "\n",
        "There is two approach to calculate mean difference confidence interval :-\n",
        "\n",
        "1) Pooled Approach\n",
        "\n",
        "2) Un-pooled approach\n",
        "\n",
        "**Pooled Approach** The variance of the two populations are assumed to be equal for both groups\n",
        "\n",
        "**Unpooled Approach** The assumption of equal variances is dropped\n",
        "\n",
        "Let us find out which approach we can use."
      ]
    },
    {
      "cell_type": "code",
      "metadata": {
        "id": "NwmpYj_C6R3d",
        "colab": {
          "base_uri": "https://localhost:8080/",
          "height": 145
        },
        "outputId": "d4d81af1-d756-496f-88d6-34a29f35349c"
      },
      "source": [
        "print(\"\\nSample Information-\")\n",
        "data.groupby('Outcome').describe()['Pregnancies'].transpose().loc[['mean','std'],:]"
      ],
      "execution_count": 116,
      "outputs": [
        {
          "output_type": "stream",
          "text": [
            "\n",
            "Sample Information-\n"
          ],
          "name": "stdout"
        },
        {
          "output_type": "execute_result",
          "data": {
            "text/html": [
              "<div>\n",
              "<style scoped>\n",
              "    .dataframe tbody tr th:only-of-type {\n",
              "        vertical-align: middle;\n",
              "    }\n",
              "\n",
              "    .dataframe tbody tr th {\n",
              "        vertical-align: top;\n",
              "    }\n",
              "\n",
              "    .dataframe thead th {\n",
              "        text-align: right;\n",
              "    }\n",
              "</style>\n",
              "<table border=\"1\" class=\"dataframe\">\n",
              "  <thead>\n",
              "    <tr style=\"text-align: right;\">\n",
              "      <th>Outcome</th>\n",
              "      <th>Diab</th>\n",
              "      <th>Non-Diab</th>\n",
              "    </tr>\n",
              "  </thead>\n",
              "  <tbody>\n",
              "    <tr>\n",
              "      <th>mean</th>\n",
              "      <td>4.865672</td>\n",
              "      <td>3.298000</td>\n",
              "    </tr>\n",
              "    <tr>\n",
              "      <th>std</th>\n",
              "      <td>3.741239</td>\n",
              "      <td>3.017185</td>\n",
              "    </tr>\n",
              "  </tbody>\n",
              "</table>\n",
              "</div>"
            ],
            "text/plain": [
              "Outcome      Diab  Non-Diab\n",
              "mean     4.865672  3.298000\n",
              "std      3.741239  3.017185"
            ]
          },
          "metadata": {
            "tags": []
          },
          "execution_count": 116
        }
      ]
    },
    {
      "cell_type": "code",
      "metadata": {
        "id": "vK5bYKGK6Vd8",
        "colab": {
          "base_uri": "https://localhost:8080/",
          "height": 666
        },
        "outputId": "e1db67fc-e76c-4512-c961-637b8eacd30a"
      },
      "source": [
        "fig,axes = plt.subplots(nrows=1,ncols=2,dpi=100,figsize = (7,5))\n",
        "\n",
        "plot0 = sns.boxplot(data_diabetic['Pregnancies'],ax=axes[0],orient='v',color= 'blue')\n",
        "axes[0].set_title('Diabetic',fontdict={'fontsize':10})\n",
        "axes[0].set_xlabel('Five Point Summary',fontdict={'fontsize':8})\n",
        "axes[0].set_ylabel('Pregnancies',fontdict={'fontsize':8})\n",
        "plt.tight_layout()\n",
        "\n",
        "plot1 = sns.boxplot(data_non_diabetic['Pregnancies'],ax=axes[1],orient='v',color='red')\n",
        "axes[1].set_title('Non Diabetic',fontdict={'fontsize':10})\n",
        "axes[1].set_xlabel('Five Point Summary',fontdict={'fontsize':8})\n",
        "axes[1].set_ylabel('Pregnancies',fontdict={'fontsize':8})\n",
        "plt.tight_layout()"
      ],
      "execution_count": 117,
      "outputs": [
        {
          "output_type": "stream",
          "text": [
            "/usr/local/lib/python3.7/dist-packages/seaborn/_decorators.py:43: FutureWarning: Pass the following variable as a keyword arg: x. From version 0.12, the only valid positional argument will be `data`, and passing other arguments without an explicit keyword will result in an error or misinterpretation.\n",
            "  FutureWarning\n",
            "/usr/local/lib/python3.7/dist-packages/seaborn/_core.py:1319: UserWarning: Vertical orientation ignored with only `x` specified.\n",
            "  warnings.warn(single_var_warning.format(\"Vertical\", \"x\"))\n",
            "/usr/local/lib/python3.7/dist-packages/seaborn/_decorators.py:43: FutureWarning: Pass the following variable as a keyword arg: x. From version 0.12, the only valid positional argument will be `data`, and passing other arguments without an explicit keyword will result in an error or misinterpretation.\n",
            "  FutureWarning\n",
            "/usr/local/lib/python3.7/dist-packages/seaborn/_core.py:1319: UserWarning: Vertical orientation ignored with only `x` specified.\n",
            "  warnings.warn(single_var_warning.format(\"Vertical\", \"x\"))\n"
          ],
          "name": "stderr"
        },
        {
          "output_type": "display_data",
          "data": {
            "image/png": "[encoded data removed]",
            "text/plain": [
              "<Figure size 700x500 with 2 Axes>"
            ]
          },
          "metadata": {
            "tags": [],
            "needs_background": "light"
          }
        }
      ]
    },
    {
      "cell_type": "markdown",
      "metadata": {
        "id": "4TVz7o4GOhBy"
      },
      "source": [
        "Variance of both diabetic and non diabetic patients are nearly similar or IQR is also almost same. Thus we can proceed with Pooled approach."
      ]
    },
    {
      "cell_type": "code",
      "metadata": {
        "id": "XHafUf9R6aKc"
      },
      "source": [
        "x1 = data_diabetic.Pregnancies.mean()\n",
        "x2 = data_non_diabetic.Pregnancies.mean()\n",
        "std1 = data_diabetic.Pregnancies.std()\n",
        "std2 = data_non_diabetic.Pregnancies.std()\n",
        "n1 = data_diabetic.shape[0]\n",
        "n2 = data_non_diabetic.shape[0]"
      ],
      "execution_count": 118,
      "outputs": []
    },
    {
      "cell_type": "code",
      "metadata": {
        "id": "A__NCPXT6sT1"
      },
      "source": [
        "class diffMean:\n",
        "    import numpy as np\n",
        "    def __init__(self,x1,x2,std1,std2,n1,n2,t):    #t multiplier comes from t distribution with appropriate degree of freedom'''        \n",
        "        self.best_estimate1=x1\n",
        "        self.best_estimate2=x2\n",
        "        self.std1=std1\n",
        "        self.std2=std2\n",
        "        self.n1=n1\n",
        "        self.n2=n2\n",
        "        self.t=t\n",
        "        self.pooled_estimated_se = np.sqrt((np.sqrt(((self.n1-1)*(self.std1**2) + (self.n2-1)*(self.std2**2)) / ((self.n1+self.n2)-2))) * (np.sqrt((1/self.n1)+(1/self.n2))))\n",
        "        self.unpooled_estimated_se = np.sqrt(((self.std1**2)/self.n1) + ((self.std2**2)/self.n2))\n",
        "        \n",
        "    def pooledMoe(self):\n",
        "        return (self.t)*(self.pooled_estimated_se)\n",
        "    \n",
        "    def pooledMean(self):\n",
        "        lcb=(self.best_estimate1-self.best_estimate2)-self.pooledMoe()\n",
        "        ucb=(self.best_estimate1-self.best_estimate2)+self.pooledMoe()\n",
        "        return (lcb,ucb)\n",
        "    \n",
        "    def unpooledMoe(self):\n",
        "        return self.t*self.unpooled_estimated_se\n",
        "    \n",
        "    def unpooledMean(self):\n",
        "        lcb=(self.best_estimate1-self.best_estimate2)-self.unpooledMoe()\n",
        "        ucb=(self.best_estimate1-self.best_estimate2)+self.unpooledMoe()\n",
        "        return (lcb,ucb)"
      ],
      "execution_count": 119,
      "outputs": []
    },
    {
      "cell_type": "code",
      "metadata": {
        "id": "GNB14_tE6fsi"
      },
      "source": [
        "mean_diff_preg = diffMean(x1,x2,std1,std2,n1,n2,1.98)"
      ],
      "execution_count": 120,
      "outputs": []
    },
    {
      "cell_type": "code",
      "metadata": {
        "id": "DjVHuB4z6gry",
        "colab": {
          "base_uri": "https://localhost:8080/"
        },
        "outputId": "f89a0670-d595-4aa0-b7dd-0d04ab2967fc"
      },
      "source": [
        "mean_diff_preg.pooledMean()"
      ],
      "execution_count": 121,
      "outputs": [
        {
          "output_type": "execute_result",
          "data": {
            "text/plain": [
              "(0.579854475792106, 2.5554888077899838)"
            ]
          },
          "metadata": {
            "tags": []
          },
          "execution_count": 121
        }
      ]
    },
    {
      "cell_type": "code",
      "metadata": {
        "id": "OhsG9nAy6hEc",
        "colab": {
          "base_uri": "https://localhost:8080/"
        },
        "outputId": "cb13cd34-0c14-47eb-bb35-4d3bfd5476a8"
      },
      "source": [
        "print(\"Best point estimate for (μ1-μ2): Pregnancies Month =\",(mean_diff_preg.best_estimate1-mean_diff_preg.best_estimate2))\n",
        "print(\"\\nEstimated Standard Error for (μ1-μ2): Pregnancies Month =\",mean_diff_preg.pooled_estimated_se)\n",
        "print(\"\\nMargin of Error for (μ1-μ2): Pregnancies Month =\",mean_diff_preg.pooledMoe())\n",
        "print(\"\\n95% Confidence Interval for (μ1-μ2): Pregnancies Month =\",mean_diff_preg.pooledMean(),\"\\n\")"
      ],
      "execution_count": 122,
      "outputs": [
        {
          "output_type": "stream",
          "text": [
            "Best point estimate for (μ1-μ2): Pregnancies Month = 1.567671641791045\n",
            "\n",
            "Estimated Standard Error for (μ1-μ2): Pregnancies Month = 0.4988975585853227\n",
            "\n",
            "Margin of Error for (μ1-μ2): Pregnancies Month = 0.987817165998939\n",
            "\n",
            "95% Confidence Interval for (μ1-μ2): Pregnancies Month = (0.579854475792106, 2.5554888077899838) \n",
            "\n"
          ],
          "name": "stdout"
        }
      ]
    },
    {
      "cell_type": "markdown",
      "metadata": {
        "id": "zdUS6rQHOngM"
      },
      "source": [
        "**Interpretation**\n",
        "\n",
        "With 95% confidence, the difference in mean Pregnancies Month between diabetic and non-diabetic patients is estimated to be between 0.5798 month and 2.5554 month."
      ]
    },
    {
      "cell_type": "markdown",
      "metadata": {
        "id": "ySldfVAkOzEx"
      },
      "source": [
        "## **Comparision between mean pregnancies month of Diabetic and Non Diabetic Patients**\n",
        "\n",
        "Population-> Diabetic and Non-Diabetic Patients\n",
        "\n",
        "Parameter of Interest-> (μ1 − μ2 ): Pregnancies Month\n",
        "\n",
        "μ1-> Mean pregnancies month of Diabetic Patients.\n",
        "\n",
        "μ1-> Mean pregnancies month of Non-Diabetic Patients.\n",
        "\n",
        "Null: There is no difference in mean Pregnancy Month\n",
        "\n",
        "Alternative: There is a significant difference in mean Pregnancy Month\n",
        "\n",
        "Let us consider the significance Level = 5%\n",
        "\n",
        "The difference in the mean Pregnancy Month between Diabetic and Non-Diabetic Patients can be found out by calculating the p-value.\n",
        "\n",
        "### **P-value**\n",
        "\n",
        "In statistical hypothesis testing, the p-value or probability value is the probability of obtaining test results at least as extreme as the results actually observed during the test, assuming that the null hypothesis is correct. It is used to decide whether an alternative hypothesis can be accepted or not.\n",
        "\n",
        "So now say that we have put a significance (α)=0.05.\n",
        "This means that if we see a p-value of lesser than 0.05, we reject our Null and accept the Alternative to be true."
      ]
    },
    {
      "cell_type": "code",
      "metadata": {
        "id": "4aoQgzvK62mp",
        "colab": {
          "base_uri": "https://localhost:8080/"
        },
        "outputId": "beb2afd8-bcc9-47c0-f5d8-588d5bcd2582"
      },
      "source": [
        "import statsmodels.api as sm\n",
        "z,p_value = sm.stats.ztest(data_diabetic['Pregnancies'],data_non_diabetic['Pregnancies'])\n",
        "print(\"P-Value is ==> \",p_value)"
      ],
      "execution_count": 123,
      "outputs": [
        {
          "output_type": "stream",
          "text": [
            "P-Value is ==>  3.006743856829293e-10\n"
          ],
          "name": "stdout"
        }
      ]
    },
    {
      "cell_type": "markdown",
      "metadata": {
        "id": "L7FkMKSIQfKo"
      },
      "source": [
        "Our p-value is smaller than the 0.05 significance level, which means there is strong evidence against the null.\n",
        "\n",
        "Thus, we can reject the null!\n",
        "\n",
        "Based on our estimated difference in sample means, we support that there is a significant difference between the population mean Pregnancy month for diabetic and non diabetic patients.\n",
        "\n",
        "\n",
        "---\n",
        "\n"
      ]
    }
  ]
}